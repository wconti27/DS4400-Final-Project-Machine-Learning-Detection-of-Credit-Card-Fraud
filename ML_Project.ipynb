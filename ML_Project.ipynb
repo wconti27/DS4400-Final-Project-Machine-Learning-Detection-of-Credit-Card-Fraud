{
  "nbformat": 4,
  "nbformat_minor": 0,
  "metadata": {
    "colab": {
      "name": "ML_Project.ipynb",
      "provenance": [],
      "collapsed_sections": []
    },
    "kernelspec": {
      "name": "python3",
      "display_name": "Python 3"
    },
    "language_info": {
      "name": "python"
    },
    "accelerator": "GPU"
  },
  "cells": [
    {
      "cell_type": "code",
      "metadata": {
        "id": "Eq220dP-rATf",
        "colab": {
          "base_uri": "https://localhost:8080/",
          "height": 35
        },
        "outputId": "10ff1e7a-22b2-48c7-ccb9-f6a81d4c6b2c"
      },
      "source": [
        "#!pip install tscv\n",
        "import pandas as pd\n",
        "import numpy as np\n",
        "import seaborn as sns\n",
        "import matplotlib.pyplot as plt\n",
        "import tensorflow as tf\n",
        "tf.test.gpu_device_name()"
      ],
      "execution_count": 12,
      "outputs": [
        {
          "output_type": "execute_result",
          "data": {
            "application/vnd.google.colaboratory.intrinsic+json": {
              "type": "string"
            },
            "text/plain": [
              "'/device:GPU:0'"
            ]
          },
          "metadata": {
            "tags": []
          },
          "execution_count": 12
        }
      ]
    },
    {
      "cell_type": "markdown",
      "metadata": {
        "id": "PmSs3i72_jHr"
      },
      "source": [
        "- Collect average transaction size for a credit card\n",
        "- Average longitude and latitude of transactions\n",
        "- Average time of transaction\n",
        "- "
      ]
    },
    {
      "cell_type": "code",
      "metadata": {
        "colab": {
          "base_uri": "https://localhost:8080/"
        },
        "id": "T0dGWa4YF8RH",
        "outputId": "294a62ba-ab7f-417d-ed9a-e27a64d14741"
      },
      "source": [
        "from google.colab import drive\n",
        "drive.mount('/content/gdrive')"
      ],
      "execution_count": 2,
      "outputs": [
        {
          "output_type": "stream",
          "text": [
            "Mounted at /content/gdrive\n"
          ],
          "name": "stdout"
        }
      ]
    },
    {
      "cell_type": "code",
      "metadata": {
        "id": "zsZbho0eF99A"
      },
      "source": [
        "# Original files we used\n",
        "\n",
        "folder_location = '/content/gdrive/MyDrive/Colab Notebooks/DS4400: ML Project/' \n",
        "training = pd.read_csv(folder_location + 'fraudTrain.csv')  \n",
        "testing = pd.read_csv(folder_location + 'fraudTest.csv')\n",
        "\n",
        "# Files we used that have aggregations applied to help speed up process of getting engineered features.\n",
        "X_train = pd.read_csv(folder_location + 'X_train_eng.csv').drop([\"Unnamed: 0\"], axis=1)\n",
        "y_train = pd.read_csv(folder_location + 'y_train.csv').drop([\"Unnamed: 0\"], axis=1)  \n",
        "X_test = pd.read_csv(folder_location + 'X_test_agg.csv').drop([\"Unnamed: 0\", \"is_fraud\"], axis=1)  \n",
        "y_test = pd.read_csv(folder_location + 'y_test.csv').drop([\"Unnamed: 0\"], axis=1)   \n"
      ],
      "execution_count": 15,
      "outputs": []
    },
    {
      "cell_type": "code",
      "metadata": {
        "colab": {
          "base_uri": "https://localhost:8080/",
          "height": 217
        },
        "id": "EIvRlXKiJP5V",
        "outputId": "e8e900c1-8bc4-44b5-a13b-74bba15dbe7e"
      },
      "source": [
        "X_train.head()"
      ],
      "execution_count": 17,
      "outputs": [
        {
          "output_type": "execute_result",
          "data": {
            "text/html": [
              "<div>\n",
              "<style scoped>\n",
              "    .dataframe tbody tr th:only-of-type {\n",
              "        vertical-align: middle;\n",
              "    }\n",
              "\n",
              "    .dataframe tbody tr th {\n",
              "        vertical-align: top;\n",
              "    }\n",
              "\n",
              "    .dataframe thead th {\n",
              "        text-align: right;\n",
              "    }\n",
              "</style>\n",
              "<table border=\"1\" class=\"dataframe\">\n",
              "  <thead>\n",
              "    <tr style=\"text-align: right;\">\n",
              "      <th></th>\n",
              "      <th>amt</th>\n",
              "      <th>lat</th>\n",
              "      <th>long</th>\n",
              "      <th>city_pop</th>\n",
              "      <th>merch_lat</th>\n",
              "      <th>merch_long</th>\n",
              "      <th>is_fraud</th>\n",
              "      <th>hour</th>\n",
              "      <th>day</th>\n",
              "      <th>month</th>\n",
              "      <th>dob_year</th>\n",
              "      <th>is_man</th>\n",
              "      <th>category_entertainment</th>\n",
              "      <th>category_food_dining</th>\n",
              "      <th>category_gas_transport</th>\n",
              "      <th>category_grocery_net</th>\n",
              "      <th>category_grocery_pos</th>\n",
              "      <th>category_health_fitness</th>\n",
              "      <th>category_home</th>\n",
              "      <th>category_kids_pets</th>\n",
              "      <th>category_misc_net</th>\n",
              "      <th>category_misc_pos</th>\n",
              "      <th>category_personal_care</th>\n",
              "      <th>category_shopping_net</th>\n",
              "      <th>category_shopping_pos</th>\n",
              "      <th>category_travel</th>\n",
              "      <th>amt_mean</th>\n",
              "      <th>amt_std</th>\n",
              "      <th>amt_count</th>\n",
              "      <th>merch_lat_mean</th>\n",
              "      <th>merch_lat_std</th>\n",
              "      <th>merch_long_mean</th>\n",
              "      <th>merch_long_std</th>\n",
              "      <th>is_fraud_mean</th>\n",
              "      <th>is_fraud_std</th>\n",
              "      <th>previous_frauds_for_cc_num</th>\n",
              "    </tr>\n",
              "  </thead>\n",
              "  <tbody>\n",
              "    <tr>\n",
              "      <th>0</th>\n",
              "      <td>4.97</td>\n",
              "      <td>36.0788</td>\n",
              "      <td>-81.1781</td>\n",
              "      <td>3495.0</td>\n",
              "      <td>36.011293</td>\n",
              "      <td>-82.048315</td>\n",
              "      <td>0</td>\n",
              "      <td>0</td>\n",
              "      <td>1</td>\n",
              "      <td>1</td>\n",
              "      <td>1988</td>\n",
              "      <td>0</td>\n",
              "      <td>0</td>\n",
              "      <td>0</td>\n",
              "      <td>0</td>\n",
              "      <td>0</td>\n",
              "      <td>0</td>\n",
              "      <td>0</td>\n",
              "      <td>0</td>\n",
              "      <td>0</td>\n",
              "      <td>1</td>\n",
              "      <td>0</td>\n",
              "      <td>0</td>\n",
              "      <td>0</td>\n",
              "      <td>0</td>\n",
              "      <td>0</td>\n",
              "      <td>0.0</td>\n",
              "      <td>0.0</td>\n",
              "      <td>0.0</td>\n",
              "      <td>0.0</td>\n",
              "      <td>0.0</td>\n",
              "      <td>0.0</td>\n",
              "      <td>0.0</td>\n",
              "      <td>0.0</td>\n",
              "      <td>0.0</td>\n",
              "      <td>0.0</td>\n",
              "    </tr>\n",
              "    <tr>\n",
              "      <th>1</th>\n",
              "      <td>107.23</td>\n",
              "      <td>48.8878</td>\n",
              "      <td>-118.2105</td>\n",
              "      <td>149.0</td>\n",
              "      <td>49.159047</td>\n",
              "      <td>-118.186462</td>\n",
              "      <td>0</td>\n",
              "      <td>0</td>\n",
              "      <td>1</td>\n",
              "      <td>1</td>\n",
              "      <td>1978</td>\n",
              "      <td>0</td>\n",
              "      <td>0</td>\n",
              "      <td>0</td>\n",
              "      <td>0</td>\n",
              "      <td>0</td>\n",
              "      <td>1</td>\n",
              "      <td>0</td>\n",
              "      <td>0</td>\n",
              "      <td>0</td>\n",
              "      <td>0</td>\n",
              "      <td>0</td>\n",
              "      <td>0</td>\n",
              "      <td>0</td>\n",
              "      <td>0</td>\n",
              "      <td>0</td>\n",
              "      <td>0.0</td>\n",
              "      <td>0.0</td>\n",
              "      <td>0.0</td>\n",
              "      <td>0.0</td>\n",
              "      <td>0.0</td>\n",
              "      <td>0.0</td>\n",
              "      <td>0.0</td>\n",
              "      <td>0.0</td>\n",
              "      <td>0.0</td>\n",
              "      <td>0.0</td>\n",
              "    </tr>\n",
              "    <tr>\n",
              "      <th>2</th>\n",
              "      <td>220.11</td>\n",
              "      <td>42.1808</td>\n",
              "      <td>-112.2620</td>\n",
              "      <td>4154.0</td>\n",
              "      <td>43.150704</td>\n",
              "      <td>-112.154481</td>\n",
              "      <td>0</td>\n",
              "      <td>0</td>\n",
              "      <td>1</td>\n",
              "      <td>1</td>\n",
              "      <td>1962</td>\n",
              "      <td>1</td>\n",
              "      <td>1</td>\n",
              "      <td>0</td>\n",
              "      <td>0</td>\n",
              "      <td>0</td>\n",
              "      <td>0</td>\n",
              "      <td>0</td>\n",
              "      <td>0</td>\n",
              "      <td>0</td>\n",
              "      <td>0</td>\n",
              "      <td>0</td>\n",
              "      <td>0</td>\n",
              "      <td>0</td>\n",
              "      <td>0</td>\n",
              "      <td>0</td>\n",
              "      <td>0.0</td>\n",
              "      <td>0.0</td>\n",
              "      <td>0.0</td>\n",
              "      <td>0.0</td>\n",
              "      <td>0.0</td>\n",
              "      <td>0.0</td>\n",
              "      <td>0.0</td>\n",
              "      <td>0.0</td>\n",
              "      <td>0.0</td>\n",
              "      <td>0.0</td>\n",
              "    </tr>\n",
              "    <tr>\n",
              "      <th>3</th>\n",
              "      <td>45.00</td>\n",
              "      <td>46.2306</td>\n",
              "      <td>-112.1138</td>\n",
              "      <td>1939.0</td>\n",
              "      <td>47.034331</td>\n",
              "      <td>-112.561071</td>\n",
              "      <td>0</td>\n",
              "      <td>0</td>\n",
              "      <td>1</td>\n",
              "      <td>1</td>\n",
              "      <td>1967</td>\n",
              "      <td>1</td>\n",
              "      <td>0</td>\n",
              "      <td>0</td>\n",
              "      <td>1</td>\n",
              "      <td>0</td>\n",
              "      <td>0</td>\n",
              "      <td>0</td>\n",
              "      <td>0</td>\n",
              "      <td>0</td>\n",
              "      <td>0</td>\n",
              "      <td>0</td>\n",
              "      <td>0</td>\n",
              "      <td>0</td>\n",
              "      <td>0</td>\n",
              "      <td>0</td>\n",
              "      <td>0.0</td>\n",
              "      <td>0.0</td>\n",
              "      <td>0.0</td>\n",
              "      <td>0.0</td>\n",
              "      <td>0.0</td>\n",
              "      <td>0.0</td>\n",
              "      <td>0.0</td>\n",
              "      <td>0.0</td>\n",
              "      <td>0.0</td>\n",
              "      <td>0.0</td>\n",
              "    </tr>\n",
              "    <tr>\n",
              "      <th>4</th>\n",
              "      <td>41.96</td>\n",
              "      <td>38.4207</td>\n",
              "      <td>-79.4629</td>\n",
              "      <td>99.0</td>\n",
              "      <td>38.674999</td>\n",
              "      <td>-78.632459</td>\n",
              "      <td>0</td>\n",
              "      <td>0</td>\n",
              "      <td>1</td>\n",
              "      <td>1</td>\n",
              "      <td>1986</td>\n",
              "      <td>1</td>\n",
              "      <td>0</td>\n",
              "      <td>0</td>\n",
              "      <td>0</td>\n",
              "      <td>0</td>\n",
              "      <td>0</td>\n",
              "      <td>0</td>\n",
              "      <td>0</td>\n",
              "      <td>0</td>\n",
              "      <td>0</td>\n",
              "      <td>1</td>\n",
              "      <td>0</td>\n",
              "      <td>0</td>\n",
              "      <td>0</td>\n",
              "      <td>0</td>\n",
              "      <td>0.0</td>\n",
              "      <td>0.0</td>\n",
              "      <td>0.0</td>\n",
              "      <td>0.0</td>\n",
              "      <td>0.0</td>\n",
              "      <td>0.0</td>\n",
              "      <td>0.0</td>\n",
              "      <td>0.0</td>\n",
              "      <td>0.0</td>\n",
              "      <td>0.0</td>\n",
              "    </tr>\n",
              "  </tbody>\n",
              "</table>\n",
              "</div>"
            ],
            "text/plain": [
              "      amt      lat  ...  is_fraud_std  previous_frauds_for_cc_num\n",
              "0    4.97  36.0788  ...           0.0                         0.0\n",
              "1  107.23  48.8878  ...           0.0                         0.0\n",
              "2  220.11  42.1808  ...           0.0                         0.0\n",
              "3   45.00  46.2306  ...           0.0                         0.0\n",
              "4   41.96  38.4207  ...           0.0                         0.0\n",
              "\n",
              "[5 rows x 36 columns]"
            ]
          },
          "metadata": {
            "tags": []
          },
          "execution_count": 17
        }
      ]
    },
    {
      "cell_type": "code",
      "metadata": {
        "colab": {
          "base_uri": "https://localhost:8080/",
          "height": 346
        },
        "id": "30fyFZkAtiV5",
        "outputId": "c0967cdf-dd78-4f6b-e05a-dc0c200f46c9"
      },
      "source": [
        "# visualize the target variable - clearly our data is highly imbalanced and something must be done to fix this issue\n",
        "g = sns.countplot(training['is_fraud'])\n",
        "g.set_xticklabels(['Not Fraud','Fraud'])\n",
        "plt.show()"
      ],
      "execution_count": 5,
      "outputs": [
        {
          "output_type": "stream",
          "text": [
            "/usr/local/lib/python3.7/dist-packages/seaborn/_decorators.py:43: FutureWarning: Pass the following variable as a keyword arg: x. From version 0.12, the only valid positional argument will be `data`, and passing other arguments without an explicit keyword will result in an error or misinterpretation.\n",
            "  FutureWarning\n"
          ],
          "name": "stderr"
        },
        {
          "output_type": "display_data",
          "data": {
            "image/png": "[encoded data removed]",
            "text/plain": [
              "<Figure size 432x288 with 1 Axes>"
            ]
          },
          "metadata": {
            "tags": [],
            "needs_background": "light"
          }
        }
      ]
    },
    {
      "cell_type": "code",
      "metadata": {
        "id": "K9Seoh3iLCB3",
        "colab": {
          "base_uri": "https://localhost:8080/",
          "height": 865
        },
        "outputId": "fd917914-e088-45b3-fa27-a08221bf080c"
      },
      "source": [
        "corr = X_train.corr()\n",
        "plt.figure(figsize=(14,12))\n",
        "heat = sns.heatmap(data=corr)\n",
        "plt.title(\"Heatmap of Feature Correlation\")\n"
      ],
      "execution_count": 6,
      "outputs": [
        {
          "output_type": "execute_result",
          "data": {
            "text/plain": [
              "Text(0.5, 1.0, 'Heatmap of Feature Correlation')"
            ]
          },
          "metadata": {
            "tags": []
          },
          "execution_count": 6
        },
        {
          "output_type": "display_data",
          "data": {
            "image/png": "[encoded data removed]",
            "text/plain": [
              "<Figure size 1008x864 with 2 Axes>"
            ]
          },
          "metadata": {
            "tags": [],
            "needs_background": "light"
          }
        }
      ]
    },
    {
      "cell_type": "code",
      "metadata": {
        "id": "4BzipXgSd__i",
        "colab": {
          "base_uri": "https://localhost:8080/",
          "height": 638
        },
        "outputId": "b2a7fa4c-ef28-4879-ec41-08ad7724b455"
      },
      "source": [
        "is_fraud_by_hour = X_train[['hour', \"is_fraud\"]]\n",
        "is_fraud_by_hour_agg = is_fraud_by_hour.groupby([\"hour\"]).agg(\"mean\")\n",
        "plt.figure(figsize=(12,10))\n",
        "plt.title(\"Average Percentage of Fraud Transactions By Hour\")\n",
        "sns.barplot(x=is_fraud_by_hour_agg.index, y=is_fraud_by_hour_agg['is_fraud'])"
      ],
      "execution_count": 7,
      "outputs": [
        {
          "output_type": "execute_result",
          "data": {
            "text/plain": [
              "<matplotlib.axes._subplots.AxesSubplot at 0x7f105ed5a990>"
            ]
          },
          "metadata": {
            "tags": []
          },
          "execution_count": 7
        },
        {
          "output_type": "display_data",
          "data": {
            "image/png": "[encoded data removed]",
            "text/plain": [
              "<Figure size 864x720 with 1 Axes>"
            ]
          },
          "metadata": {
            "tags": [],
            "needs_background": "light"
          }
        }
      ]
    },
    {
      "cell_type": "code",
      "metadata": {
        "id": "qsy33ucGXf_7",
        "colab": {
          "base_uri": "https://localhost:8080/",
          "height": 586
        },
        "outputId": "e1e5eac8-90c9-42e7-d705-6d95a449a158"
      },
      "source": [
        "plt.figure(figsize=(10,8))\n",
        "plt.title(\"Distribution of Monetary Value Feature\")\n",
        "sns.distplot(X_train['amt'])"
      ],
      "execution_count": 8,
      "outputs": [
        {
          "output_type": "stream",
          "text": [
            "/usr/local/lib/python3.7/dist-packages/seaborn/distributions.py:2557: FutureWarning: `distplot` is a deprecated function and will be removed in a future version. Please adapt your code to use either `displot` (a figure-level function with similar flexibility) or `histplot` (an axes-level function for histograms).\n",
            "  warnings.warn(msg, FutureWarning)\n"
          ],
          "name": "stderr"
        },
        {
          "output_type": "execute_result",
          "data": {
            "text/plain": [
              "<matplotlib.axes._subplots.AxesSubplot at 0x7f105d4cf3d0>"
            ]
          },
          "metadata": {
            "tags": []
          },
          "execution_count": 8
        },
        {
          "output_type": "display_data",
          "data": {
            "image/png": "[encoded data removed]",
            "text/plain": [
              "<Figure size 720x576 with 1 Axes>"
            ]
          },
          "metadata": {
            "tags": [],
            "needs_background": "light"
          }
        }
      ]
    },
    {
      "cell_type": "code",
      "metadata": {
        "id": "q1KlsP_7Z4sb"
      },
      "source": [
        "from time import mktime\n",
        "from sklearn.preprocessing import MinMaxScaler\n",
        "\n",
        "## All functions that are used to scale features, engineer features, drop unnecessary columns, and create aggregated features.\n",
        "\n",
        "def normalize_features(X_train, X_test):\n",
        "  scaler = MinMaxScaler()\n",
        "  X_train_scaled = pd.DataFrame(data=scaler.fit_transform(X_train), columns=X_train.columns)\n",
        "  X_test_scaled = pd.DataFrame(data=scaler.transform(X_test), columns=X_train.columns)\n",
        "  return X_train_scaled, X_test_scaled\n",
        "\n",
        "def engineer_datetime(df):\n",
        "  df[\"datetime\"] = df[\"trans_date_trans_time\"].apply(pd.to_datetime)\n",
        "  df[\"hour\"] = df[\"datetime\"].dt.hour\n",
        "  df[\"day\"] = df[\"datetime\"].dt.day\n",
        "  df[\"month\"] = df[\"datetime\"].dt.month\n",
        "  df[\"unix_purchase_time\"] = df[\"datetime\"].apply(lambda dt: mktime(dt.timetuple()))\n",
        "  dob_dt = df[\"dob\"].apply(pd.to_datetime)\n",
        "  dob_year = dob_dt.dt.year \n",
        "  df[\"dob_year\"] = dob_year\n",
        "  df[\"unix_dob\"] = dob_dt.apply(lambda dt: mktime(dt.timetuple()))\n",
        "  df = df.drop([\"trans_date_trans_time\", \"dob\"], axis=1)\n",
        "  return df\n",
        "\n",
        "def engineer_features(df):\n",
        "  df = engineer_datetime(df)\n",
        "  df = df.drop([\"state\", \"city\", \"Unnamed: 0\", \"merchant\", \"first\", \"last\", \"street\", \"zip\", \"job\", \"unix_time\"], axis=1)\n",
        "  df[\"is_man\"] = df[\"gender\"].apply(lambda x: 0 if x == \"F\" else 1)\n",
        "  df = df.drop(\"gender\", axis=1)\n",
        "  df.reset_index(inplace=True)\n",
        "  #df = pd.DataFrame(df, dtype={'amt': float, 'lat': float, 'long': float, 'city_pop': float, 'merch_lat': float, 'merch_long': float})\n",
        "  df = df.astype({'amt': float, 'lat': float, 'long': float, 'city_pop': float, 'merch_lat': float, 'merch_long': float})\n",
        "  obj_df = df.select_dtypes(include=['object']).copy()\n",
        "  obj_df_encoded = pd.get_dummies(obj_df, columns=[\"category\"], prefix=[\"category\"])\n",
        "  df = df.drop([\"category\"], axis=1)\n",
        "  obj_df_encoded.reset_index(inplace=True)\n",
        "  df = pd.concat([df,obj_df_encoded],axis=1).drop(\"index\", axis=1)\n",
        "  df = df.loc[:,~df.columns.duplicated()]\n",
        "  means = df.apply(concat_averages, frame=df, axis=1)\n",
        "  df = df.merge(means, left_on='trans_num', right_on='trans_num')\n",
        "  df.drop(['datetime', 'cc_num', 'trans_num'], axis=1, inplace=True)\n",
        "  return df\n",
        "\n",
        "\n",
        "def f(x):\n",
        "    d = {}\n",
        "    d['amt_mean'] = x['amt'].mean()\n",
        "    d['amt_std'] = x['amt'].std()\n",
        "    d['amt_count'] = x['amt'].count()\n",
        "    d['merch_lat_mean'] = x['merch_lat'].mean()\n",
        "    d['merch_lat_std'] = x['merch_lat'].std()\n",
        "    d['merch_long_mean'] = x['merch_long'].mean()\n",
        "    d['merch_long_std'] = x['merch_long'].std()\n",
        "    d['is_fraud_mean'] = x['is_fraud'].mean()\n",
        "    d['is_fraud_std'] = x['is_fraud'].std()\n",
        "    d['previous_frauds_for_cc_num'] = d['amt_count'] * d['is_fraud_mean']\n",
        "    return pd.Series(d, index=['amt_mean', 'amt_std', 'amt_count', 'merch_lat_mean', 'merch_lat_std', 'merch_long_mean', 'merch_long_std', 'is_fraud_mean', 'is_fraud_std', 'previous_frauds_for_cc_num'])\n",
        "\n",
        "def concat_averages(row, frame):\n",
        "  date = row['datetime']\n",
        "  cc_num = row['cc_num']\n",
        "  frame_before_date = frame.loc[ (frame[\"cc_num\"] == cc_num) & (frame['datetime'] < date)].copy()\n",
        "  frame_before_date.drop(columns=['city_pop', 'lat', 'long'], inplace=True)\n",
        "  cc_averages = frame_before_date.groupby(\"cc_num\").apply(f)\n",
        "  cc_averages = cc_averages.fillna(0)\n",
        "  indices = ['amt_mean', 'amt_std', 'amt_count', 'merch_lat_mean', 'merch_lat_std', 'merch_long_mean', 'merch_long_std', 'is_fraud_mean', 'is_fraud_std', 'previous_frauds_for_cc_num']\n",
        "  if len(cc_averages.values) == 0:\n",
        "    zeros = np.zeros(len(indices))\n",
        "    series = pd.Series(zeros, index=indices)\n",
        "  else:\n",
        "    series = pd.Series(cc_averages.values[0], index=indices)\n",
        "  series['trans_num'] = row['trans_num']\n",
        "  return series\n",
        "\n"
      ],
      "execution_count": 13,
      "outputs": []
    },
    {
      "cell_type": "code",
      "metadata": {
        "colab": {
          "base_uri": "https://localhost:8080/"
        },
        "id": "k-tAiEoWmq0a",
        "outputId": "568194f0-06d8-4309-a79e-47cf82b285a7"
      },
      "source": [
        "from collections import Counter\n",
        "from imblearn.under_sampling import RandomUnderSampler\n",
        "import warnings\n",
        "warnings.simplefilter(action='ignore', category=FutureWarning)\n",
        "\n",
        "# Here we attempt to undersample the training data majority class (non-fraud)\n",
        "\n",
        "y_train = training[\"is_fraud\"]\n",
        "X_train = training.drop([\"is_fraud\"], axis = 1)\n",
        "\n",
        "# summarize class distribution\n",
        "print(\"Before undersampling: \", Counter(y_train))\n",
        "\n",
        "# define undersampling strategy\n",
        "undersample = RandomUnderSampler(sampling_strategy=.1)\n",
        "\n",
        "# fit and apply the transform\n",
        "X_train_under, y_train_under = undersample.fit_resample(X_train, y_train)\n",
        "\n",
        "# summarize class distribution\n",
        "print(\"After undersampling: \", Counter(y_train_under))"
      ],
      "execution_count": 10,
      "outputs": [
        {
          "output_type": "stream",
          "text": [
            "/usr/local/lib/python3.7/dist-packages/sklearn/externals/six.py:31: FutureWarning: The module is deprecated in version 0.21 and will be removed in version 0.23 since we've dropped support for Python 2.7. Please rely on the official version of six (https://pypi.org/project/six/).\n",
            "  \"(https://pypi.org/project/six/).\", FutureWarning)\n",
            "/usr/local/lib/python3.7/dist-packages/sklearn/utils/deprecation.py:144: FutureWarning: The sklearn.neighbors.base module is  deprecated in version 0.22 and will be removed in version 0.24. The corresponding classes / functions should instead be imported from sklearn.neighbors. Anything that cannot be imported from sklearn.neighbors is now part of the private API.\n",
            "  warnings.warn(message, FutureWarning)\n"
          ],
          "name": "stderr"
        },
        {
          "output_type": "stream",
          "text": [
            "Before undersampling:  Counter({0: 1289169, 1: 7506})\n",
            "After undersampling:  Counter({0: 75060, 1: 7506})\n"
          ],
          "name": "stdout"
        }
      ]
    },
    {
      "cell_type": "code",
      "metadata": {
        "id": "LuEYPcprM8mE"
      },
      "source": [
        ""
      ],
      "execution_count": 10,
      "outputs": []
    },
    {
      "cell_type": "code",
      "metadata": {
        "id": "gWXqQ1J_gl3c"
      },
      "source": [
        ""
      ],
      "execution_count": null,
      "outputs": []
    },
    {
      "cell_type": "code",
      "metadata": {
        "id": "_ps3x5AMp-Bg"
      },
      "source": [
        "# Functions to aggregate columns and add them to a new dataframe based on credit card number. \n",
        "\n",
        "def create_aggregated_df_to_apply_to_test(train_df):\n",
        "  lat_long_df = train_df[['lat', 'long', 'amt_count']]\n",
        "  lat_long_df_agg = lat_long_df.groupby(['lat', 'long']).agg('max')\n",
        "  lat_long_df_agg.set_index(['amt_count'], append=True, inplace=True)\n",
        "  lat_long_df_agg.head()\n",
        "  indices = ['lat', 'long', 'amt_mean', 'amt_std', 'amt_count', 'merch_lat_mean', 'merch_lat_std', 'merch_long_mean', 'merch_long_std', 'is_fraud_mean', 'is_fraud_std', 'previous_frauds_for_cc_num']\n",
        "  cc_averages_by_lat = train_df[indices]\n",
        "  cc_averages_by_lat.set_index(['lat', 'long', 'amt_count'], inplace=True)\n",
        "  df_with_maxes = pd.merge(lat_long_df_agg, cc_averages_by_lat, left_index=True, right_index=True, how=\"inner\")\n",
        "  df_with_maxes.reset_index(level='amt_count', inplace=True)\n",
        "  return df_with_maxes\n",
        "\n",
        "agg_df_to_apply_to_test = create_aggregated_df_to_apply_to_test(X_train_under_df)\n",
        "\n",
        "\n",
        "def map_aggregations(row, frame):\n",
        "  lat = row['lat']\n",
        "  long = row['long']\n",
        "  if (lat, long) not in frame.index:\n",
        "    return row\n",
        "  else:\n",
        "    frame_row = frame.loc[(lat, long)]\n",
        "    if row['amt_count'] == 0:\n",
        "      row['amt_mean'] = frame_row['amt_mean']\n",
        "      row['amt_std'] = frame_row['amt_std']\n",
        "      row['amt_count'] = frame_row['amt_count']\n",
        "      row['merch_lat_mean'] = frame_row['merch_lat_mean']\n",
        "      row['merch_lat_std'] = frame_row['merch_lat_std']\n",
        "      row['merch_long_mean'] = frame_row['merch_long_mean']\n",
        "      row['merch_long_std'] = frame_row['merch_long_std']\n",
        "      row['is_fraud_mean'] = frame_row['is_fraud_mean']\n",
        "      row['is_fraud_std'] = frame_row['is_fraud_std']\n",
        "      row['previous_frauds_for_cc_num'] = frame_row['previous_frauds_for_cc_num']\n",
        "      return row\n",
        "    else:\n",
        "      test_count = row['amt_count']\n",
        "      frame_row_count = frame_row['amt_count']\n",
        "\n",
        "      row['amt_mean'] = combine_means(row['amt_mean'], frame_row['amt_mean'], test_count, frame_row_count)\n",
        "      row['amt_std'] = combine_std(row['amt_std'], frame_row['amt_std'], test_count, frame_row_count)\n",
        "      row['amt_count'] = test_count + frame_row_count\n",
        "      row['merch_lat_mean'] = combine_means(row['merch_lat_mean'], frame_row['merch_lat_mean'], test_count, frame_row_count)\n",
        "      row['merch_lat_std'] = combine_std(row['merch_lat_std'], frame_row['merch_lat_std'], test_count, frame_row_count)\n",
        "      row['merch_long_mean'] = combine_means(row['merch_long_mean'], frame_row['merch_long_mean'], test_count, frame_row_count)\n",
        "      row['merch_long_std'] = combine_std(row['merch_long_std'], frame_row['merch_long_std'], test_count, frame_row_count)\n",
        "      row['is_fraud_mean'] = combine_means(row['is_fraud_mean'], frame_row['is_fraud_mean'], test_count, frame_row_count)\n",
        "      row['is_fraud_std'] = combine_std(row['is_fraud_std'], frame_row['is_fraud_std'], test_count, frame_row_count)\n",
        "      row['previous_frauds_for_cc_num'] = frame_row['previous_frauds_for_cc_num'] + row['previous_frauds_for_cc_num']\n",
        "      return row\n",
        "\n",
        "def combine_means(mean1, mean2, n1, n2):\n",
        "  return (mean1 * n1 + mean2 * n2) / (n1 + n2)\n",
        "\n",
        "def combine_std(std1, std2, n1, n2):\n",
        "  var1 = (std1 ** 2) / n1\n",
        "  var2 = (std2 ** 2) / n2\n",
        "  return np.sqrt((var1 + var2) / 2)   \n",
        "\n",
        "def apply_aggregation_df_to_test(test_df, agg_df):\n",
        "  return test_df.apply(map_aggregations, frame=agg_df, axis=1)\n",
        "\n",
        "## X_test_df_agg = apply_aggregation_df_to_test(X_test_df, agg_df_to_apply_to_test)\n"
      ],
      "execution_count": null,
      "outputs": []
    },
    {
      "cell_type": "code",
      "metadata": {
        "id": "Zmi6f57gwb3L"
      },
      "source": [
        ""
      ],
      "execution_count": null,
      "outputs": []
    },
    {
      "cell_type": "code",
      "metadata": {
        "id": "koOkl0Xhoszs"
      },
      "source": [
        ""
      ],
      "execution_count": null,
      "outputs": []
    },
    {
      "cell_type": "code",
      "metadata": {
        "id": "byBbLw0axncA"
      },
      "source": [
        "# Creating additional dataframe columns to deal with cyclical features such as hour and month and to get more aggregating columns\n",
        "\n",
        "X_train['hr_sin'] = np.sin(X_train['hour']*(2.*np.pi/24))\n",
        "X_train['hr_cos'] = np.cos(X_train['hour']*(2.*np.pi/24))\n",
        "X_train['mnth_sin'] = np.sin((X_train['month']-1)*(2.*np.pi/12))\n",
        "X_train['mnth_cos'] = np.cos((X_train['month']-1)*(2.*np.pi/12))\n",
        "\n",
        "X_test['hr_sin'] = np.sin(X_test['hour']*(2.*np.pi/24))\n",
        "X_test['hr_cos'] = np.cos(X_test['hour']*(2.*np.pi/24))\n",
        "X_test['mnth_sin'] = np.sin((X_test['month']-1)*(2.*np.pi/12))\n",
        "X_test['mnth_cos'] = np.cos((X_test['month']-1)*(2.*np.pi/12))\n",
        "\n",
        "X_train.drop(['is_fraud'], axis=1, inplace=True)\n",
        "X_train[\"amt_difference\"] = (X_train[\"amt_mean\"] - X_train[\"amt\"]) #/ X_train[\"amt_std\"]\n",
        "X_train[\"lat_difference\"] = (X_train[\"merch_lat_mean\"] - X_train[\"merch_lat\"]) #/ X_train[\"merch_lat_std\"]\n",
        "X_train[\"merch_long_difference\"] = (X_train[\"merch_long_mean\"] - X_train[\"merch_long\"]) #/ X_train[\"merch_long_std\"]\n",
        "X_train = X_train.drop([\"is_man\", \"city_pop\", \"dob_year\", \"amt_count\", 'month', 'hour'], axis=1)\n",
        "\n",
        "X_test[\"amt_difference\"] = (X_test[\"amt_mean\"] - X_test[\"amt\"]) #/ X_test[\"amt_std\"]\n",
        "X_test[\"lat_difference\"] = (X_test[\"merch_lat_mean\"] - X_test[\"merch_lat\"]) #/ X_test[\"merch_lat_std\"]\n",
        "X_test[\"merch_long_difference\"] = (X_test[\"merch_long_mean\"] - X_test[\"merch_long\"]) #/ X_test[\"merch_long_std\"]\n",
        "X_test = X_test.drop([\"is_man\", \"city_pop\", \"dob_year\", \"amt_count\", 'month', 'hour'], axis=1)"
      ],
      "execution_count": 18,
      "outputs": []
    },
    {
      "cell_type": "code",
      "metadata": {
        "id": "GyPSU8JhkODx"
      },
      "source": [
        "# scaling features \n",
        "\n",
        "X_train_scaled_df, X_test_scaled_df = normalize_features(X_train, X_test)\n",
        "#X_train_scaled_df.to_csv(folder_location + \"X_train_aggregated_and_scaled.csv\")\n",
        "#X_test_scaled_df.to_csv(folder_location + \"X_test_aggregated_and_scaled.csv\")"
      ],
      "execution_count": 19,
      "outputs": []
    },
    {
      "cell_type": "code",
      "metadata": {
        "id": "AFCRpODsMt06",
        "colab": {
          "base_uri": "https://localhost:8080/",
          "height": 217
        },
        "outputId": "0d5f82d7-1634-40cf-f6a2-a411b81bbacb"
      },
      "source": [
        "X_train_scaled_df.tail()"
      ],
      "execution_count": 20,
      "outputs": [
        {
          "output_type": "execute_result",
          "data": {
            "text/html": [
              "<div>\n",
              "<style scoped>\n",
              "    .dataframe tbody tr th:only-of-type {\n",
              "        vertical-align: middle;\n",
              "    }\n",
              "\n",
              "    .dataframe tbody tr th {\n",
              "        vertical-align: top;\n",
              "    }\n",
              "\n",
              "    .dataframe thead th {\n",
              "        text-align: right;\n",
              "    }\n",
              "</style>\n",
              "<table border=\"1\" class=\"dataframe\">\n",
              "  <thead>\n",
              "    <tr style=\"text-align: right;\">\n",
              "      <th></th>\n",
              "      <th>amt</th>\n",
              "      <th>lat</th>\n",
              "      <th>long</th>\n",
              "      <th>merch_lat</th>\n",
              "      <th>merch_long</th>\n",
              "      <th>day</th>\n",
              "      <th>category_entertainment</th>\n",
              "      <th>category_food_dining</th>\n",
              "      <th>category_gas_transport</th>\n",
              "      <th>category_grocery_net</th>\n",
              "      <th>category_grocery_pos</th>\n",
              "      <th>category_health_fitness</th>\n",
              "      <th>category_home</th>\n",
              "      <th>category_kids_pets</th>\n",
              "      <th>category_misc_net</th>\n",
              "      <th>category_misc_pos</th>\n",
              "      <th>category_personal_care</th>\n",
              "      <th>category_shopping_net</th>\n",
              "      <th>category_shopping_pos</th>\n",
              "      <th>category_travel</th>\n",
              "      <th>amt_mean</th>\n",
              "      <th>amt_std</th>\n",
              "      <th>merch_lat_mean</th>\n",
              "      <th>merch_lat_std</th>\n",
              "      <th>merch_long_mean</th>\n",
              "      <th>merch_long_std</th>\n",
              "      <th>is_fraud_mean</th>\n",
              "      <th>is_fraud_std</th>\n",
              "      <th>previous_frauds_for_cc_num</th>\n",
              "      <th>hr_sin</th>\n",
              "      <th>hr_cos</th>\n",
              "      <th>mnth_sin</th>\n",
              "      <th>mnth_cos</th>\n",
              "      <th>amt_difference</th>\n",
              "      <th>lat_difference</th>\n",
              "      <th>merch_long_difference</th>\n",
              "    </tr>\n",
              "  </thead>\n",
              "  <tbody>\n",
              "    <tr>\n",
              "      <th>1296670</th>\n",
              "      <td>0.000503</td>\n",
              "      <td>0.379084</td>\n",
              "      <td>0.544346</td>\n",
              "      <td>0.367421</td>\n",
              "      <td>0.551347</td>\n",
              "      <td>0.666667</td>\n",
              "      <td>1.0</td>\n",
              "      <td>0.0</td>\n",
              "      <td>0.0</td>\n",
              "      <td>0.0</td>\n",
              "      <td>0.0</td>\n",
              "      <td>0.0</td>\n",
              "      <td>0.0</td>\n",
              "      <td>0.0</td>\n",
              "      <td>0.0</td>\n",
              "      <td>0.0</td>\n",
              "      <td>0.0</td>\n",
              "      <td>0.0</td>\n",
              "      <td>0.0</td>\n",
              "      <td>0.0</td>\n",
              "      <td>0.044096</td>\n",
              "      <td>0.036271</td>\n",
              "      <td>0.561719</td>\n",
              "      <td>0.415637</td>\n",
              "      <td>0.322933</td>\n",
              "      <td>0.435419</td>\n",
              "      <td>0.005952</td>\n",
              "      <td>0.108820</td>\n",
              "      <td>0.473684</td>\n",
              "      <td>0.5</td>\n",
              "      <td>0.0</td>\n",
              "      <td>0.75</td>\n",
              "      <td>0.066987</td>\n",
              "      <td>0.954394</td>\n",
              "      <td>0.984346</td>\n",
              "      <td>0.006415</td>\n",
              "    </tr>\n",
              "    <tr>\n",
              "      <th>1296671</th>\n",
              "      <td>0.001751</td>\n",
              "      <td>0.412281</td>\n",
              "      <td>0.902174</td>\n",
              "      <td>0.410026</td>\n",
              "      <td>0.886727</td>\n",
              "      <td>0.666667</td>\n",
              "      <td>0.0</td>\n",
              "      <td>1.0</td>\n",
              "      <td>0.0</td>\n",
              "      <td>0.0</td>\n",
              "      <td>0.0</td>\n",
              "      <td>0.0</td>\n",
              "      <td>0.0</td>\n",
              "      <td>0.0</td>\n",
              "      <td>0.0</td>\n",
              "      <td>0.0</td>\n",
              "      <td>0.0</td>\n",
              "      <td>0.0</td>\n",
              "      <td>0.0</td>\n",
              "      <td>0.0</td>\n",
              "      <td>0.070625</td>\n",
              "      <td>0.042853</td>\n",
              "      <td>0.584750</td>\n",
              "      <td>0.426240</td>\n",
              "      <td>0.533288</td>\n",
              "      <td>0.439388</td>\n",
              "      <td>0.015094</td>\n",
              "      <td>0.172596</td>\n",
              "      <td>0.421053</td>\n",
              "      <td>0.5</td>\n",
              "      <td>0.0</td>\n",
              "      <td>0.75</td>\n",
              "      <td>0.066987</td>\n",
              "      <td>0.954456</td>\n",
              "      <td>0.976839</td>\n",
              "      <td>0.015377</td>\n",
              "    </tr>\n",
              "    <tr>\n",
              "      <th>1296672</th>\n",
              "      <td>0.003625</td>\n",
              "      <td>0.276699</td>\n",
              "      <td>0.612486</td>\n",
              "      <td>0.300969</td>\n",
              "      <td>0.617133</td>\n",
              "      <td>0.666667</td>\n",
              "      <td>0.0</td>\n",
              "      <td>1.0</td>\n",
              "      <td>0.0</td>\n",
              "      <td>0.0</td>\n",
              "      <td>0.0</td>\n",
              "      <td>0.0</td>\n",
              "      <td>0.0</td>\n",
              "      <td>0.0</td>\n",
              "      <td>0.0</td>\n",
              "      <td>0.0</td>\n",
              "      <td>0.0</td>\n",
              "      <td>0.0</td>\n",
              "      <td>0.0</td>\n",
              "      <td>0.0</td>\n",
              "      <td>0.045493</td>\n",
              "      <td>0.048668</td>\n",
              "      <td>0.489832</td>\n",
              "      <td>0.409624</td>\n",
              "      <td>0.363194</td>\n",
              "      <td>0.439553</td>\n",
              "      <td>0.005317</td>\n",
              "      <td>0.102868</td>\n",
              "      <td>0.578947</td>\n",
              "      <td>0.5</td>\n",
              "      <td>0.0</td>\n",
              "      <td>0.75</td>\n",
              "      <td>0.066987</td>\n",
              "      <td>0.951479</td>\n",
              "      <td>0.961057</td>\n",
              "      <td>0.007183</td>\n",
              "    </tr>\n",
              "    <tr>\n",
              "      <th>1296673</th>\n",
              "      <td>0.002553</td>\n",
              "      <td>0.499837</td>\n",
              "      <td>0.646029</td>\n",
              "      <td>0.490098</td>\n",
              "      <td>0.636080</td>\n",
              "      <td>0.666667</td>\n",
              "      <td>0.0</td>\n",
              "      <td>1.0</td>\n",
              "      <td>0.0</td>\n",
              "      <td>0.0</td>\n",
              "      <td>0.0</td>\n",
              "      <td>0.0</td>\n",
              "      <td>0.0</td>\n",
              "      <td>0.0</td>\n",
              "      <td>0.0</td>\n",
              "      <td>0.0</td>\n",
              "      <td>0.0</td>\n",
              "      <td>0.0</td>\n",
              "      <td>0.0</td>\n",
              "      <td>0.0</td>\n",
              "      <td>0.066802</td>\n",
              "      <td>0.033738</td>\n",
              "      <td>0.645154</td>\n",
              "      <td>0.415553</td>\n",
              "      <td>0.382865</td>\n",
              "      <td>0.442897</td>\n",
              "      <td>0.003955</td>\n",
              "      <td>0.088779</td>\n",
              "      <td>0.421053</td>\n",
              "      <td>0.5</td>\n",
              "      <td>0.0</td>\n",
              "      <td>0.75</td>\n",
              "      <td>0.066987</td>\n",
              "      <td>0.953510</td>\n",
              "      <td>0.979391</td>\n",
              "      <td>0.015390</td>\n",
              "    </tr>\n",
              "    <tr>\n",
              "      <th>1296674</th>\n",
              "      <td>0.000114</td>\n",
              "      <td>0.553210</td>\n",
              "      <td>0.530050</td>\n",
              "      <td>0.568003</td>\n",
              "      <td>0.526323</td>\n",
              "      <td>0.666667</td>\n",
              "      <td>0.0</td>\n",
              "      <td>1.0</td>\n",
              "      <td>0.0</td>\n",
              "      <td>0.0</td>\n",
              "      <td>0.0</td>\n",
              "      <td>0.0</td>\n",
              "      <td>0.0</td>\n",
              "      <td>0.0</td>\n",
              "      <td>0.0</td>\n",
              "      <td>0.0</td>\n",
              "      <td>0.0</td>\n",
              "      <td>0.0</td>\n",
              "      <td>0.0</td>\n",
              "      <td>0.0</td>\n",
              "      <td>0.048113</td>\n",
              "      <td>0.027980</td>\n",
              "      <td>0.682423</td>\n",
              "      <td>0.422747</td>\n",
              "      <td>0.314591</td>\n",
              "      <td>0.446493</td>\n",
              "      <td>0.005295</td>\n",
              "      <td>0.102664</td>\n",
              "      <td>0.421053</td>\n",
              "      <td>0.5</td>\n",
              "      <td>0.0</td>\n",
              "      <td>0.75</td>\n",
              "      <td>0.066987</td>\n",
              "      <td>0.954955</td>\n",
              "      <td>0.960951</td>\n",
              "      <td>0.013017</td>\n",
              "    </tr>\n",
              "  </tbody>\n",
              "</table>\n",
              "</div>"
            ],
            "text/plain": [
              "              amt       lat  ...  lat_difference  merch_long_difference\n",
              "1296670  0.000503  0.379084  ...        0.984346               0.006415\n",
              "1296671  0.001751  0.412281  ...        0.976839               0.015377\n",
              "1296672  0.003625  0.276699  ...        0.961057               0.007183\n",
              "1296673  0.002553  0.499837  ...        0.979391               0.015390\n",
              "1296674  0.000114  0.553210  ...        0.960951               0.013017\n",
              "\n",
              "[5 rows x 36 columns]"
            ]
          },
          "metadata": {
            "tags": []
          },
          "execution_count": 20
        }
      ]
    },
    {
      "cell_type": "code",
      "metadata": {
        "id": "OEYOtmqR-OuM",
        "colab": {
          "base_uri": "https://localhost:8080/",
          "height": 217
        },
        "outputId": "4bd54f1c-77e4-4ea1-c6e7-f881d21acb7f"
      },
      "source": [
        "X_test_scaled_df.head()"
      ],
      "execution_count": 21,
      "outputs": [
        {
          "output_type": "execute_result",
          "data": {
            "text/html": [
              "<div>\n",
              "<style scoped>\n",
              "    .dataframe tbody tr th:only-of-type {\n",
              "        vertical-align: middle;\n",
              "    }\n",
              "\n",
              "    .dataframe tbody tr th {\n",
              "        vertical-align: top;\n",
              "    }\n",
              "\n",
              "    .dataframe thead th {\n",
              "        text-align: right;\n",
              "    }\n",
              "</style>\n",
              "<table border=\"1\" class=\"dataframe\">\n",
              "  <thead>\n",
              "    <tr style=\"text-align: right;\">\n",
              "      <th></th>\n",
              "      <th>amt</th>\n",
              "      <th>lat</th>\n",
              "      <th>long</th>\n",
              "      <th>merch_lat</th>\n",
              "      <th>merch_long</th>\n",
              "      <th>day</th>\n",
              "      <th>category_entertainment</th>\n",
              "      <th>category_food_dining</th>\n",
              "      <th>category_gas_transport</th>\n",
              "      <th>category_grocery_net</th>\n",
              "      <th>category_grocery_pos</th>\n",
              "      <th>category_health_fitness</th>\n",
              "      <th>category_home</th>\n",
              "      <th>category_kids_pets</th>\n",
              "      <th>category_misc_net</th>\n",
              "      <th>category_misc_pos</th>\n",
              "      <th>category_personal_care</th>\n",
              "      <th>category_shopping_net</th>\n",
              "      <th>category_shopping_pos</th>\n",
              "      <th>category_travel</th>\n",
              "      <th>amt_mean</th>\n",
              "      <th>amt_std</th>\n",
              "      <th>merch_lat_mean</th>\n",
              "      <th>merch_lat_std</th>\n",
              "      <th>merch_long_mean</th>\n",
              "      <th>merch_long_std</th>\n",
              "      <th>is_fraud_mean</th>\n",
              "      <th>is_fraud_std</th>\n",
              "      <th>previous_frauds_for_cc_num</th>\n",
              "      <th>hr_sin</th>\n",
              "      <th>hr_cos</th>\n",
              "      <th>mnth_sin</th>\n",
              "      <th>mnth_cos</th>\n",
              "      <th>amt_difference</th>\n",
              "      <th>lat_difference</th>\n",
              "      <th>merch_long_difference</th>\n",
              "    </tr>\n",
              "  </thead>\n",
              "  <tbody>\n",
              "    <tr>\n",
              "      <th>0</th>\n",
              "      <td>0.000064</td>\n",
              "      <td>0.298692</td>\n",
              "      <td>0.867121</td>\n",
              "      <td>0.308536</td>\n",
              "      <td>0.857102</td>\n",
              "      <td>0.666667</td>\n",
              "      <td>0.0</td>\n",
              "      <td>0.0</td>\n",
              "      <td>0.0</td>\n",
              "      <td>0.0</td>\n",
              "      <td>0.0</td>\n",
              "      <td>0.0</td>\n",
              "      <td>0.0</td>\n",
              "      <td>0.0</td>\n",
              "      <td>0.0</td>\n",
              "      <td>0.0</td>\n",
              "      <td>1.0</td>\n",
              "      <td>0.0</td>\n",
              "      <td>0.0</td>\n",
              "      <td>0.0</td>\n",
              "      <td>0.049069</td>\n",
              "      <td>0.043602</td>\n",
              "      <td>0.505779</td>\n",
              "      <td>0.411062</td>\n",
              "      <td>0.512953</td>\n",
              "      <td>0.445257</td>\n",
              "      <td>0.007692</td>\n",
              "      <td>0.123596</td>\n",
              "      <td>0.631579</td>\n",
              "      <td>0.5</td>\n",
              "      <td>0.0</td>\n",
              "      <td>0.75</td>\n",
              "      <td>0.066987</td>\n",
              "      <td>0.955048</td>\n",
              "      <td>0.971262</td>\n",
              "      <td>0.012851</td>\n",
              "    </tr>\n",
              "    <tr>\n",
              "      <th>1</th>\n",
              "      <td>0.000996</td>\n",
              "      <td>0.434867</td>\n",
              "      <td>0.565239</td>\n",
              "      <td>0.421239</td>\n",
              "      <td>0.568699</td>\n",
              "      <td>0.666667</td>\n",
              "      <td>0.0</td>\n",
              "      <td>0.0</td>\n",
              "      <td>0.0</td>\n",
              "      <td>0.0</td>\n",
              "      <td>0.0</td>\n",
              "      <td>0.0</td>\n",
              "      <td>0.0</td>\n",
              "      <td>0.0</td>\n",
              "      <td>0.0</td>\n",
              "      <td>0.0</td>\n",
              "      <td>1.0</td>\n",
              "      <td>0.0</td>\n",
              "      <td>0.0</td>\n",
              "      <td>0.0</td>\n",
              "      <td>0.042621</td>\n",
              "      <td>0.061434</td>\n",
              "      <td>0.600080</td>\n",
              "      <td>0.418344</td>\n",
              "      <td>0.335279</td>\n",
              "      <td>0.449110</td>\n",
              "      <td>0.006705</td>\n",
              "      <td>0.115440</td>\n",
              "      <td>0.736842</td>\n",
              "      <td>0.5</td>\n",
              "      <td>0.0</td>\n",
              "      <td>0.75</td>\n",
              "      <td>0.066987</td>\n",
              "      <td>0.953853</td>\n",
              "      <td>0.983884</td>\n",
              "      <td>0.008324</td>\n",
              "    </tr>\n",
              "    <tr>\n",
              "      <th>2</th>\n",
              "      <td>0.001391</td>\n",
              "      <td>0.442414</td>\n",
              "      <td>0.942836</td>\n",
              "      <td>0.442800</td>\n",
              "      <td>0.927345</td>\n",
              "      <td>0.666667</td>\n",
              "      <td>0.0</td>\n",
              "      <td>0.0</td>\n",
              "      <td>0.0</td>\n",
              "      <td>0.0</td>\n",
              "      <td>0.0</td>\n",
              "      <td>1.0</td>\n",
              "      <td>0.0</td>\n",
              "      <td>0.0</td>\n",
              "      <td>0.0</td>\n",
              "      <td>0.0</td>\n",
              "      <td>0.0</td>\n",
              "      <td>0.0</td>\n",
              "      <td>0.0</td>\n",
              "      <td>0.0</td>\n",
              "      <td>0.062305</td>\n",
              "      <td>0.045513</td>\n",
              "      <td>0.605235</td>\n",
              "      <td>0.416657</td>\n",
              "      <td>0.557376</td>\n",
              "      <td>0.440261</td>\n",
              "      <td>0.002717</td>\n",
              "      <td>0.073635</td>\n",
              "      <td>0.368421</td>\n",
              "      <td>0.5</td>\n",
              "      <td>0.0</td>\n",
              "      <td>0.75</td>\n",
              "      <td>0.066987</td>\n",
              "      <td>0.954407</td>\n",
              "      <td>0.973759</td>\n",
              "      <td>0.015090</td>\n",
              "    </tr>\n",
              "    <tr>\n",
              "      <th>3</th>\n",
              "      <td>0.002040</td>\n",
              "      <td>0.183058</td>\n",
              "      <td>0.868312</td>\n",
              "      <td>0.201817</td>\n",
              "      <td>0.860288</td>\n",
              "      <td>0.666667</td>\n",
              "      <td>0.0</td>\n",
              "      <td>0.0</td>\n",
              "      <td>0.0</td>\n",
              "      <td>0.0</td>\n",
              "      <td>0.0</td>\n",
              "      <td>0.0</td>\n",
              "      <td>0.0</td>\n",
              "      <td>0.0</td>\n",
              "      <td>0.0</td>\n",
              "      <td>1.0</td>\n",
              "      <td>0.0</td>\n",
              "      <td>0.0</td>\n",
              "      <td>0.0</td>\n",
              "      <td>0.0</td>\n",
              "      <td>0.040411</td>\n",
              "      <td>0.063186</td>\n",
              "      <td>0.425210</td>\n",
              "      <td>0.416574</td>\n",
              "      <td>0.513605</td>\n",
              "      <td>0.437670</td>\n",
              "      <td>0.000000</td>\n",
              "      <td>0.000000</td>\n",
              "      <td>0.000000</td>\n",
              "      <td>0.5</td>\n",
              "      <td>0.0</td>\n",
              "      <td>0.75</td>\n",
              "      <td>0.066987</td>\n",
              "      <td>0.952752</td>\n",
              "      <td>0.967800</td>\n",
              "      <td>0.011605</td>\n",
              "    </tr>\n",
              "    <tr>\n",
              "      <th>4</th>\n",
              "      <td>0.000076</td>\n",
              "      <td>0.519129</td>\n",
              "      <td>0.825355</td>\n",
              "      <td>0.534860</td>\n",
              "      <td>0.810131</td>\n",
              "      <td>0.666667</td>\n",
              "      <td>0.0</td>\n",
              "      <td>0.0</td>\n",
              "      <td>0.0</td>\n",
              "      <td>0.0</td>\n",
              "      <td>0.0</td>\n",
              "      <td>0.0</td>\n",
              "      <td>0.0</td>\n",
              "      <td>0.0</td>\n",
              "      <td>0.0</td>\n",
              "      <td>0.0</td>\n",
              "      <td>0.0</td>\n",
              "      <td>0.0</td>\n",
              "      <td>0.0</td>\n",
              "      <td>1.0</td>\n",
              "      <td>0.044441</td>\n",
              "      <td>0.038202</td>\n",
              "      <td>0.658598</td>\n",
              "      <td>0.412812</td>\n",
              "      <td>0.488217</td>\n",
              "      <td>0.433355</td>\n",
              "      <td>0.005411</td>\n",
              "      <td>0.103770</td>\n",
              "      <td>0.578947</td>\n",
              "      <td>0.5</td>\n",
              "      <td>0.0</td>\n",
              "      <td>0.75</td>\n",
              "      <td>0.066987</td>\n",
              "      <td>0.954818</td>\n",
              "      <td>0.961041</td>\n",
              "      <td>0.016268</td>\n",
              "    </tr>\n",
              "  </tbody>\n",
              "</table>\n",
              "</div>"
            ],
            "text/plain": [
              "        amt       lat  ...  lat_difference  merch_long_difference\n",
              "0  0.000064  0.298692  ...        0.971262               0.012851\n",
              "1  0.000996  0.434867  ...        0.983884               0.008324\n",
              "2  0.001391  0.442414  ...        0.973759               0.015090\n",
              "3  0.002040  0.183058  ...        0.967800               0.011605\n",
              "4  0.000076  0.519129  ...        0.961041               0.016268\n",
              "\n",
              "[5 rows x 36 columns]"
            ]
          },
          "metadata": {
            "tags": []
          },
          "execution_count": 21
        }
      ]
    },
    {
      "cell_type": "code",
      "metadata": {
        "id": "zPzi0f1m1y7q"
      },
      "source": [
        ""
      ],
      "execution_count": 10,
      "outputs": []
    },
    {
      "cell_type": "code",
      "metadata": {
        "id": "QTDZii-ukxch",
        "colab": {
          "base_uri": "https://localhost:8080/"
        },
        "outputId": "3a48f99d-d598-4278-9726-85c8229c000f"
      },
      "source": [
        "## Feature Research - Running Random Forest for Feature Importances\n",
        "\n",
        "from sklearn.ensemble import RandomForestClassifier\n",
        "\n",
        "rf = RandomForestClassifier()\n",
        "rf.fit(X_train_scaled_df, y_train)\n",
        "\n"
      ],
      "execution_count": null,
      "outputs": [
        {
          "output_type": "stream",
          "text": [
            "/usr/local/lib/python3.7/dist-packages/ipykernel_launcher.py:6: DataConversionWarning: A column-vector y was passed when a 1d array was expected. Please change the shape of y to (n_samples,), for example using ravel().\n",
            "  \n"
          ],
          "name": "stderr"
        },
        {
          "output_type": "execute_result",
          "data": {
            "text/plain": [
              "RandomForestClassifier(bootstrap=True, ccp_alpha=0.0, class_weight=None,\n",
              "                       criterion='gini', max_depth=None, max_features='auto',\n",
              "                       max_leaf_nodes=None, max_samples=None,\n",
              "                       min_impurity_decrease=0.0, min_impurity_split=None,\n",
              "                       min_samples_leaf=1, min_samples_split=2,\n",
              "                       min_weight_fraction_leaf=0.0, n_estimators=100,\n",
              "                       n_jobs=None, oob_score=False, random_state=None,\n",
              "                       verbose=0, warm_start=False)"
            ]
          },
          "metadata": {
            "tags": []
          },
          "execution_count": 35
        }
      ]
    },
    {
      "cell_type": "code",
      "metadata": {
        "id": "0ybhOekZkx-8",
        "colab": {
          "base_uri": "https://localhost:8080/",
          "height": 624
        },
        "outputId": "6a5a9760-528f-4adf-ecc3-839630ba624b"
      },
      "source": [
        "# Running random forest to get feature importances.\n",
        "\n",
        "rf.feature_importances_\n",
        "feature_importances = pd.DataFrame(rf.feature_importances_, index=X_train_scaled_df.columns)\n",
        "feature_importances.to_csv(folder_location + \"RF_feature_importances.csv\")\n",
        "sorted_idx = rf.feature_importances_.argsort()\n",
        "plt.figure(figsize=(10,10))\n",
        "plt.barh(X_train_scaled_df.columns, rf.feature_importances_[sorted_idx])\n",
        "plt.xlabel(\"Random Forest Feature Importance\")"
      ],
      "execution_count": null,
      "outputs": [
        {
          "output_type": "execute_result",
          "data": {
            "text/plain": [
              "Text(0.5, 0, 'Random Forest Feature Importance')"
            ]
          },
          "metadata": {
            "tags": []
          },
          "execution_count": 36
        },
        {
          "output_type": "display_data",
          "data": {
            "image/png": "[encoded data removed]",
            "text/plain": [
              "<Figure size 720x720 with 1 Axes>"
            ]
          },
          "metadata": {
            "tags": [],
            "needs_background": "light"
          }
        }
      ]
    },
    {
      "cell_type": "code",
      "metadata": {
        "id": "_NE2R61huoIA"
      },
      "source": [
        ""
      ],
      "execution_count": 22,
      "outputs": []
    },
    {
      "cell_type": "code",
      "metadata": {
        "id": "tYmwx16-9yi3",
        "colab": {
          "base_uri": "https://localhost:8080/"
        },
        "outputId": "bd7ae1b7-b4a1-4ce6-ed85-a4c09c61f9a6"
      },
      "source": [
        ""
      ],
      "execution_count": 24,
      "outputs": [
        {
          "output_type": "stream",
          "text": [
            "[0.90412783 0.89613848 0.8828229  0.86950732 0.87083888 0.86533333\n",
            " 0.88533333 0.892      0.88266667 0.89480692 0.90146471 0.88681758\n",
            " 0.87882823 0.88814913 0.88548602 0.88666667 0.88666667 0.87466667\n",
            " 0.87866667 0.87483356 0.87483356 0.88814913 0.87882823 0.87083888\n",
            " 0.8988016  0.9        0.9        0.87466667 0.88266667 0.88548602]\n"
          ],
          "name": "stdout"
        }
      ]
    },
    {
      "cell_type": "code",
      "metadata": {
        "id": "NvsgIZxez873",
        "colab": {
          "base_uri": "https://localhost:8080/"
        },
        "outputId": "37333b7f-1d55-40bd-f88e-5733759bb1ec"
      },
      "source": [
        "from collections import Counter\n",
        "\n",
        "counter = Counter(y_train_under)\n",
        "print(counter)"
      ],
      "execution_count": 23,
      "outputs": [
        {
          "output_type": "stream",
          "text": [
            "Counter({0: 75060, 1: 7506})\n"
          ],
          "name": "stdout"
        }
      ]
    },
    {
      "cell_type": "code",
      "metadata": {
        "id": "5uFxk-kj09U_",
        "colab": {
          "base_uri": "https://localhost:8080/"
        },
        "outputId": "8da24cc2-1bee-46a4-b175-c9b2103f2518"
      },
      "source": [
        ""
      ],
      "execution_count": null,
      "outputs": [
        {
          "output_type": "execute_result",
          "data": {
            "text/plain": [
              "DecisionTreeClassifier(ccp_alpha=0.0, class_weight=None, criterion='gini',\n",
              "                       max_depth=None, max_features=None, max_leaf_nodes=None,\n",
              "                       min_impurity_decrease=0.0, min_impurity_split=None,\n",
              "                       min_samples_leaf=1, min_samples_split=2,\n",
              "                       min_weight_fraction_leaf=0.0, presort='deprecated',\n",
              "                       random_state=0, splitter='best')"
            ]
          },
          "metadata": {
            "tags": []
          },
          "execution_count": 98
        }
      ]
    },
    {
      "cell_type": "code",
      "metadata": {
        "id": "iRuven7G2A4J",
        "colab": {
          "base_uri": "https://localhost:8080/"
        },
        "outputId": "4877220f-8fcd-41f0-afa7-af546cf62b88"
      },
      "source": [
        ""
      ],
      "execution_count": null,
      "outputs": [
        {
          "output_type": "stream",
          "text": [
            "              precision    recall  f1-score   support\n",
            "\n",
            "           0       1.00      1.00      1.00    553574\n",
            "           1       0.41      0.73      0.52      2145\n",
            "\n",
            "    accuracy                           0.99    555719\n",
            "   macro avg       0.70      0.86      0.76    555719\n",
            "weighted avg       1.00      0.99      1.00    555719\n",
            "\n"
          ],
          "name": "stdout"
        }
      ]
    },
    {
      "cell_type": "code",
      "metadata": {
        "id": "f6u5IYlw--BW"
      },
      "source": [
        "from sklearn.metrics import classification_report, confusion_matrix, f1_score\n",
        "from sklearn.model_selection import RepeatedStratifiedKFold, cross_val_score\n",
        "\n",
        "def get_model_metrics(model, model_name, X_train, y_train, X_test, y_test):\n",
        "\n",
        "  cv = RepeatedStratifiedKFold(n_splits=10, random_state=1)\n",
        "  scores = cross_val_score(estimator=model, X=X_train, y=y_train, scoring='f1', cv=cv)\n",
        "\n",
        "  model.fit(X_train, y_train)\n",
        "\n",
        "  predictions = model.predict(X_test)\n",
        "\n",
        "  f1 = f1_score(y_test, predictions)\n",
        "  tn, fp, fn, tp = confusion_matrix(y_test, predictions).ravel()\n",
        "\n",
        "  recall = tp / (tp + fn)\n",
        "  specificity = tn / (fp + tn)\n",
        "  precision = tp / (tp + fp)\n",
        "  accuracy = (tp + tn) / (tp + fp + tn + fn) \n",
        "\n",
        "  print(model_name, \" model results -----------------------------------------------------------\")\n",
        "  print(\"F1 Scores Average \", sum(scores) / len(scores))\n",
        "  print(\"F1: \", f1)\n",
        "  print(\"Recall: \", recall)\n",
        "  print(\"Specificity: \", specificity)\n",
        "  print(\"Precision: \", precision)\n",
        "  print(\"Accuracy: \", accuracy)\n",
        "  print(confusion_matrix(y_test, predictions))\n",
        "\n"
      ],
      "execution_count": 50,
      "outputs": []
    },
    {
      "cell_type": "code",
      "metadata": {
        "id": "tRKb320S6EQP",
        "colab": {
          "base_uri": "https://localhost:8080/",
          "height": 1000
        },
        "outputId": "a800a9a2-4203-4dc7-cf7b-069570aa5633"
      },
      "source": [
        "# Testing adaboost classifier with undersampled, oversampled, and normal training to get best sampling method\n",
        "from sklearn.ensemble import AdaBoostClassifier\n",
        "from imblearn.over_sampling import SMOTE\n",
        "from imblearn.under_sampling import RandomUnderSampler\n",
        "\n",
        "# No sampling\n",
        "adaboost = AdaBoostClassifier()\n",
        "get_model_metrics(adaboost, \"AdaBoost with no sampling\", X_train_scaled_df.tail(20000), y_train.tail(20000).values.ravel(), X_test_scaled_df.head(20000), y_test.head(20000))\n",
        "\n",
        "# UnderSampling\n",
        "undersample = RandomUnderSampler(sampling_strategy = 0.1)\n",
        "X_train_under, y_train_under = undersample.fit_resample(X_train_scaled_df, y_train)\n",
        "get_model_metrics(adaboost, \"AdaBoost with undersampling\", X_train_under[-20000:], y_train_under[-20000:].ravel(), X_test_scaled_df.head(20000), y_test.head(20000))\n",
        "\n",
        "# Oversampling\n",
        "over = SMOTE(sampling_strategy = 0.1)\n",
        "X_train_over, y_train_over = over.fit_resample(X_train_scaled_df, y_train)\n",
        "get_model_metrics(adaboost, \"AdaBoost with oversampling\", X_train_over[-20000:], y_train_over[-20000:].ravel(), X_test_scaled_df.head(20000), y_test.head(20000))\n",
        "\n",
        "# OverSampling plus undersampling\n",
        "undersample = RandomUnderSampler(sampling_strategy = 0.1)\n",
        "X_train_over_under, y_train_over_under = undersample.fit_resample(X_train_over, y_train_over)\n",
        "get_model_metrics(adaboost, \"AdaBoost with under and oversampling\", X_train_over_under[-20000:], y_train_over_under[-20000:].ravel(), X_test_scaled_df.head(20000), y_test.head(20000))\n",
        "\n"
      ],
      "execution_count": 53,
      "outputs": [
        {
          "output_type": "stream",
          "text": [
            "AdaBoost with no sampling  model results -----------------------------------------------------------\n",
            "F1 Scores Average  0.6986657650058096\n",
            "F1:  0.13902439024390245\n",
            "Recall:  0.8382352941176471\n",
            "Specificity:  0.9651314469195263\n",
            "Precision:  0.07579787234042554\n",
            "Accuracy:  0.9647\n",
            "[[19237   695]\n",
            " [   11    57]]\n",
            "AdaBoost with undersampling  model results -----------------------------------------------------------\n",
            "F1 Scores Average  0.9763531843000203\n",
            "F1:  0.04130162703379224\n",
            "Recall:  0.9705882352941176\n",
            "Specificity:  0.8463776841260285\n",
            "Precision:  0.021099744245524295\n",
            "Accuracy:  0.8468\n",
            "[[16870  3062]\n",
            " [    2    66]]\n"
          ],
          "name": "stdout"
        },
        {
          "output_type": "stream",
          "text": [
            "/usr/local/lib/python3.7/dist-packages/sklearn/utils/validation.py:760: DataConversionWarning: A column-vector y was passed when a 1d array was expected. Please change the shape of y to (n_samples, ), for example using ravel().\n",
            "  y = column_or_1d(y, warn=True)\n"
          ],
          "name": "stderr"
        },
        {
          "output_type": "stream",
          "text": [
            "AdaBoost with oversampling  model results -----------------------------------------------------------\n",
            "F1 Scores Average  1.0\n",
            "F1:  0.006776958341638428\n",
            "Recall:  1.0\n",
            "Specificity:  0.0\n",
            "Precision:  0.0034\n",
            "Accuracy:  0.0034\n",
            "[[    0 19932]\n",
            " [    0    68]]\n",
            "AdaBoost with under and oversampling  model results -----------------------------------------------------------\n",
            "F1 Scores Average  1.0\n",
            "F1:  0.006776958341638428\n",
            "Recall:  1.0\n",
            "Specificity:  0.0\n",
            "Precision:  0.0034\n",
            "Accuracy:  0.0034\n",
            "[[    0 19932]\n",
            " [    0    68]]\n",
            "AdaBoost with no sampling  model results -----------------------------------------------------------\n",
            "F1 Scores Average  0.6986657650058096\n",
            "F1:  0.13902439024390245\n",
            "Recall:  0.8382352941176471\n",
            "Specificity:  0.9651314469195263\n",
            "Precision:  0.07579787234042554\n",
            "Accuracy:  0.9647\n",
            "[[19237   695]\n",
            " [   11    57]]\n"
          ],
          "name": "stdout"
        },
        {
          "output_type": "error",
          "ename": "KeyboardInterrupt",
          "evalue": "ignored",
          "traceback": [
            "\u001b[0;31m---------------------------------------------------------------------------\u001b[0m",
            "\u001b[0;31mKeyboardInterrupt\u001b[0m                         Traceback (most recent call last)",
            "\u001b[0;32m<ipython-input-53-06c8d91a275f>\u001b[0m in \u001b[0;36m<module>\u001b[0;34m()\u001b[0m\n\u001b[1;32m     11\u001b[0m \u001b[0mundersample\u001b[0m \u001b[0;34m=\u001b[0m \u001b[0mRandomUnderSampler\u001b[0m\u001b[0;34m(\u001b[0m\u001b[0msampling_strategy\u001b[0m \u001b[0;34m=\u001b[0m \u001b[0;36m0.1\u001b[0m\u001b[0;34m)\u001b[0m\u001b[0;34m\u001b[0m\u001b[0;34m\u001b[0m\u001b[0m\n\u001b[1;32m     12\u001b[0m \u001b[0mX_train_under\u001b[0m\u001b[0;34m,\u001b[0m \u001b[0my_train_under\u001b[0m \u001b[0;34m=\u001b[0m \u001b[0mundersample\u001b[0m\u001b[0;34m.\u001b[0m\u001b[0mfit_resample\u001b[0m\u001b[0;34m(\u001b[0m\u001b[0mX_train_scaled_df\u001b[0m\u001b[0;34m,\u001b[0m \u001b[0my_train\u001b[0m\u001b[0;34m)\u001b[0m\u001b[0;34m\u001b[0m\u001b[0;34m\u001b[0m\u001b[0m\n\u001b[0;32m---> 13\u001b[0;31m \u001b[0mget_model_metrics\u001b[0m\u001b[0;34m(\u001b[0m\u001b[0madaboost\u001b[0m\u001b[0;34m,\u001b[0m \u001b[0;34m\"AdaBoost with undersampling\"\u001b[0m\u001b[0;34m,\u001b[0m \u001b[0mX_train_under\u001b[0m\u001b[0;34m[\u001b[0m\u001b[0;34m-\u001b[0m\u001b[0;36m20000\u001b[0m\u001b[0;34m:\u001b[0m\u001b[0;34m]\u001b[0m\u001b[0;34m,\u001b[0m \u001b[0my_train_under\u001b[0m\u001b[0;34m[\u001b[0m\u001b[0;34m-\u001b[0m\u001b[0;36m20000\u001b[0m\u001b[0;34m:\u001b[0m\u001b[0;34m]\u001b[0m\u001b[0;34m.\u001b[0m\u001b[0mravel\u001b[0m\u001b[0;34m(\u001b[0m\u001b[0;34m)\u001b[0m\u001b[0;34m,\u001b[0m \u001b[0mX_test_scaled_df\u001b[0m\u001b[0;34m.\u001b[0m\u001b[0mhead\u001b[0m\u001b[0;34m(\u001b[0m\u001b[0;36m20000\u001b[0m\u001b[0;34m)\u001b[0m\u001b[0;34m,\u001b[0m \u001b[0my_test\u001b[0m\u001b[0;34m.\u001b[0m\u001b[0mhead\u001b[0m\u001b[0;34m(\u001b[0m\u001b[0;36m20000\u001b[0m\u001b[0;34m)\u001b[0m\u001b[0;34m)\u001b[0m\u001b[0;34m\u001b[0m\u001b[0;34m\u001b[0m\u001b[0m\n\u001b[0m\u001b[1;32m     14\u001b[0m \u001b[0;34m\u001b[0m\u001b[0m\n\u001b[1;32m     15\u001b[0m \u001b[0;31m# Oversampling\u001b[0m\u001b[0;34m\u001b[0m\u001b[0;34m\u001b[0m\u001b[0;34m\u001b[0m\u001b[0m\n",
            "\u001b[0;32m<ipython-input-50-57d7b1505d06>\u001b[0m in \u001b[0;36mget_model_metrics\u001b[0;34m(model, model_name, X_train, y_train, X_test, y_test)\u001b[0m\n\u001b[1;32m      5\u001b[0m \u001b[0;34m\u001b[0m\u001b[0m\n\u001b[1;32m      6\u001b[0m   \u001b[0mcv\u001b[0m \u001b[0;34m=\u001b[0m \u001b[0mRepeatedStratifiedKFold\u001b[0m\u001b[0;34m(\u001b[0m\u001b[0mn_splits\u001b[0m\u001b[0;34m=\u001b[0m\u001b[0;36m10\u001b[0m\u001b[0;34m,\u001b[0m \u001b[0mrandom_state\u001b[0m\u001b[0;34m=\u001b[0m\u001b[0;36m1\u001b[0m\u001b[0;34m)\u001b[0m\u001b[0;34m\u001b[0m\u001b[0;34m\u001b[0m\u001b[0m\n\u001b[0;32m----> 7\u001b[0;31m   \u001b[0mscores\u001b[0m \u001b[0;34m=\u001b[0m \u001b[0mcross_val_score\u001b[0m\u001b[0;34m(\u001b[0m\u001b[0mestimator\u001b[0m\u001b[0;34m=\u001b[0m\u001b[0mmodel\u001b[0m\u001b[0;34m,\u001b[0m \u001b[0mX\u001b[0m\u001b[0;34m=\u001b[0m\u001b[0mX_train\u001b[0m\u001b[0;34m,\u001b[0m \u001b[0my\u001b[0m\u001b[0;34m=\u001b[0m\u001b[0my_train\u001b[0m\u001b[0;34m,\u001b[0m \u001b[0mscoring\u001b[0m\u001b[0;34m=\u001b[0m\u001b[0;34m'f1'\u001b[0m\u001b[0;34m,\u001b[0m \u001b[0mcv\u001b[0m\u001b[0;34m=\u001b[0m\u001b[0mcv\u001b[0m\u001b[0;34m)\u001b[0m\u001b[0;34m\u001b[0m\u001b[0;34m\u001b[0m\u001b[0m\n\u001b[0m\u001b[1;32m      8\u001b[0m \u001b[0;34m\u001b[0m\u001b[0m\n\u001b[1;32m      9\u001b[0m   \u001b[0mmodel\u001b[0m\u001b[0;34m.\u001b[0m\u001b[0mfit\u001b[0m\u001b[0;34m(\u001b[0m\u001b[0mX_train\u001b[0m\u001b[0;34m,\u001b[0m \u001b[0my_train\u001b[0m\u001b[0;34m)\u001b[0m\u001b[0;34m\u001b[0m\u001b[0;34m\u001b[0m\u001b[0m\n",
            "\u001b[0;32m/usr/local/lib/python3.7/dist-packages/sklearn/model_selection/_validation.py\u001b[0m in \u001b[0;36mcross_val_score\u001b[0;34m(estimator, X, y, groups, scoring, cv, n_jobs, verbose, fit_params, pre_dispatch, error_score)\u001b[0m\n\u001b[1;32m    388\u001b[0m                                 \u001b[0mfit_params\u001b[0m\u001b[0;34m=\u001b[0m\u001b[0mfit_params\u001b[0m\u001b[0;34m,\u001b[0m\u001b[0;34m\u001b[0m\u001b[0;34m\u001b[0m\u001b[0m\n\u001b[1;32m    389\u001b[0m                                 \u001b[0mpre_dispatch\u001b[0m\u001b[0;34m=\u001b[0m\u001b[0mpre_dispatch\u001b[0m\u001b[0;34m,\u001b[0m\u001b[0;34m\u001b[0m\u001b[0;34m\u001b[0m\u001b[0m\n\u001b[0;32m--> 390\u001b[0;31m                                 error_score=error_score)\n\u001b[0m\u001b[1;32m    391\u001b[0m     \u001b[0;32mreturn\u001b[0m \u001b[0mcv_results\u001b[0m\u001b[0;34m[\u001b[0m\u001b[0;34m'test_score'\u001b[0m\u001b[0;34m]\u001b[0m\u001b[0;34m\u001b[0m\u001b[0;34m\u001b[0m\u001b[0m\n\u001b[1;32m    392\u001b[0m \u001b[0;34m\u001b[0m\u001b[0m\n",
            "\u001b[0;32m/usr/local/lib/python3.7/dist-packages/sklearn/model_selection/_validation.py\u001b[0m in \u001b[0;36mcross_validate\u001b[0;34m(estimator, X, y, groups, scoring, cv, n_jobs, verbose, fit_params, pre_dispatch, return_train_score, return_estimator, error_score)\u001b[0m\n\u001b[1;32m    234\u001b[0m             \u001b[0mreturn_times\u001b[0m\u001b[0;34m=\u001b[0m\u001b[0;32mTrue\u001b[0m\u001b[0;34m,\u001b[0m \u001b[0mreturn_estimator\u001b[0m\u001b[0;34m=\u001b[0m\u001b[0mreturn_estimator\u001b[0m\u001b[0;34m,\u001b[0m\u001b[0;34m\u001b[0m\u001b[0;34m\u001b[0m\u001b[0m\n\u001b[1;32m    235\u001b[0m             error_score=error_score)\n\u001b[0;32m--> 236\u001b[0;31m         for train, test in cv.split(X, y, groups))\n\u001b[0m\u001b[1;32m    237\u001b[0m \u001b[0;34m\u001b[0m\u001b[0m\n\u001b[1;32m    238\u001b[0m     \u001b[0mzipped_scores\u001b[0m \u001b[0;34m=\u001b[0m \u001b[0mlist\u001b[0m\u001b[0;34m(\u001b[0m\u001b[0mzip\u001b[0m\u001b[0;34m(\u001b[0m\u001b[0;34m*\u001b[0m\u001b[0mscores\u001b[0m\u001b[0;34m)\u001b[0m\u001b[0;34m)\u001b[0m\u001b[0;34m\u001b[0m\u001b[0;34m\u001b[0m\u001b[0m\n",
            "\u001b[0;32m/usr/local/lib/python3.7/dist-packages/joblib/parallel.py\u001b[0m in \u001b[0;36m__call__\u001b[0;34m(self, iterable)\u001b[0m\n\u001b[1;32m   1042\u001b[0m                 \u001b[0mself\u001b[0m\u001b[0;34m.\u001b[0m\u001b[0m_iterating\u001b[0m \u001b[0;34m=\u001b[0m \u001b[0mself\u001b[0m\u001b[0;34m.\u001b[0m\u001b[0m_original_iterator\u001b[0m \u001b[0;32mis\u001b[0m \u001b[0;32mnot\u001b[0m \u001b[0;32mNone\u001b[0m\u001b[0;34m\u001b[0m\u001b[0;34m\u001b[0m\u001b[0m\n\u001b[1;32m   1043\u001b[0m \u001b[0;34m\u001b[0m\u001b[0m\n\u001b[0;32m-> 1044\u001b[0;31m             \u001b[0;32mwhile\u001b[0m \u001b[0mself\u001b[0m\u001b[0;34m.\u001b[0m\u001b[0mdispatch_one_batch\u001b[0m\u001b[0;34m(\u001b[0m\u001b[0miterator\u001b[0m\u001b[0;34m)\u001b[0m\u001b[0;34m:\u001b[0m\u001b[0;34m\u001b[0m\u001b[0;34m\u001b[0m\u001b[0m\n\u001b[0m\u001b[1;32m   1045\u001b[0m                 \u001b[0;32mpass\u001b[0m\u001b[0;34m\u001b[0m\u001b[0;34m\u001b[0m\u001b[0m\n\u001b[1;32m   1046\u001b[0m \u001b[0;34m\u001b[0m\u001b[0m\n",
            "\u001b[0;32m/usr/local/lib/python3.7/dist-packages/joblib/parallel.py\u001b[0m in \u001b[0;36mdispatch_one_batch\u001b[0;34m(self, iterator)\u001b[0m\n\u001b[1;32m    857\u001b[0m                 \u001b[0;32mreturn\u001b[0m \u001b[0;32mFalse\u001b[0m\u001b[0;34m\u001b[0m\u001b[0;34m\u001b[0m\u001b[0m\n\u001b[1;32m    858\u001b[0m             \u001b[0;32melse\u001b[0m\u001b[0;34m:\u001b[0m\u001b[0;34m\u001b[0m\u001b[0;34m\u001b[0m\u001b[0m\n\u001b[0;32m--> 859\u001b[0;31m                 \u001b[0mself\u001b[0m\u001b[0;34m.\u001b[0m\u001b[0m_dispatch\u001b[0m\u001b[0;34m(\u001b[0m\u001b[0mtasks\u001b[0m\u001b[0;34m)\u001b[0m\u001b[0;34m\u001b[0m\u001b[0;34m\u001b[0m\u001b[0m\n\u001b[0m\u001b[1;32m    860\u001b[0m                 \u001b[0;32mreturn\u001b[0m \u001b[0;32mTrue\u001b[0m\u001b[0;34m\u001b[0m\u001b[0;34m\u001b[0m\u001b[0m\n\u001b[1;32m    861\u001b[0m \u001b[0;34m\u001b[0m\u001b[0m\n",
            "\u001b[0;32m/usr/local/lib/python3.7/dist-packages/joblib/parallel.py\u001b[0m in \u001b[0;36m_dispatch\u001b[0;34m(self, batch)\u001b[0m\n\u001b[1;32m    775\u001b[0m         \u001b[0;32mwith\u001b[0m \u001b[0mself\u001b[0m\u001b[0;34m.\u001b[0m\u001b[0m_lock\u001b[0m\u001b[0;34m:\u001b[0m\u001b[0;34m\u001b[0m\u001b[0;34m\u001b[0m\u001b[0m\n\u001b[1;32m    776\u001b[0m             \u001b[0mjob_idx\u001b[0m \u001b[0;34m=\u001b[0m \u001b[0mlen\u001b[0m\u001b[0;34m(\u001b[0m\u001b[0mself\u001b[0m\u001b[0;34m.\u001b[0m\u001b[0m_jobs\u001b[0m\u001b[0;34m)\u001b[0m\u001b[0;34m\u001b[0m\u001b[0;34m\u001b[0m\u001b[0m\n\u001b[0;32m--> 777\u001b[0;31m             \u001b[0mjob\u001b[0m \u001b[0;34m=\u001b[0m \u001b[0mself\u001b[0m\u001b[0;34m.\u001b[0m\u001b[0m_backend\u001b[0m\u001b[0;34m.\u001b[0m\u001b[0mapply_async\u001b[0m\u001b[0;34m(\u001b[0m\u001b[0mbatch\u001b[0m\u001b[0;34m,\u001b[0m \u001b[0mcallback\u001b[0m\u001b[0;34m=\u001b[0m\u001b[0mcb\u001b[0m\u001b[0;34m)\u001b[0m\u001b[0;34m\u001b[0m\u001b[0;34m\u001b[0m\u001b[0m\n\u001b[0m\u001b[1;32m    778\u001b[0m             \u001b[0;31m# A job can complete so quickly than its callback is\u001b[0m\u001b[0;34m\u001b[0m\u001b[0;34m\u001b[0m\u001b[0;34m\u001b[0m\u001b[0m\n\u001b[1;32m    779\u001b[0m             \u001b[0;31m# called before we get here, causing self._jobs to\u001b[0m\u001b[0;34m\u001b[0m\u001b[0;34m\u001b[0m\u001b[0;34m\u001b[0m\u001b[0m\n",
            "\u001b[0;32m/usr/local/lib/python3.7/dist-packages/joblib/_parallel_backends.py\u001b[0m in \u001b[0;36mapply_async\u001b[0;34m(self, func, callback)\u001b[0m\n\u001b[1;32m    206\u001b[0m     \u001b[0;32mdef\u001b[0m \u001b[0mapply_async\u001b[0m\u001b[0;34m(\u001b[0m\u001b[0mself\u001b[0m\u001b[0;34m,\u001b[0m \u001b[0mfunc\u001b[0m\u001b[0;34m,\u001b[0m \u001b[0mcallback\u001b[0m\u001b[0;34m=\u001b[0m\u001b[0;32mNone\u001b[0m\u001b[0;34m)\u001b[0m\u001b[0;34m:\u001b[0m\u001b[0;34m\u001b[0m\u001b[0;34m\u001b[0m\u001b[0m\n\u001b[1;32m    207\u001b[0m         \u001b[0;34m\"\"\"Schedule a func to be run\"\"\"\u001b[0m\u001b[0;34m\u001b[0m\u001b[0;34m\u001b[0m\u001b[0m\n\u001b[0;32m--> 208\u001b[0;31m         \u001b[0mresult\u001b[0m \u001b[0;34m=\u001b[0m \u001b[0mImmediateResult\u001b[0m\u001b[0;34m(\u001b[0m\u001b[0mfunc\u001b[0m\u001b[0;34m)\u001b[0m\u001b[0;34m\u001b[0m\u001b[0;34m\u001b[0m\u001b[0m\n\u001b[0m\u001b[1;32m    209\u001b[0m         \u001b[0;32mif\u001b[0m \u001b[0mcallback\u001b[0m\u001b[0;34m:\u001b[0m\u001b[0;34m\u001b[0m\u001b[0;34m\u001b[0m\u001b[0m\n\u001b[1;32m    210\u001b[0m             \u001b[0mcallback\u001b[0m\u001b[0;34m(\u001b[0m\u001b[0mresult\u001b[0m\u001b[0;34m)\u001b[0m\u001b[0;34m\u001b[0m\u001b[0;34m\u001b[0m\u001b[0m\n",
            "\u001b[0;32m/usr/local/lib/python3.7/dist-packages/joblib/_parallel_backends.py\u001b[0m in \u001b[0;36m__init__\u001b[0;34m(self, batch)\u001b[0m\n\u001b[1;32m    570\u001b[0m         \u001b[0;31m# Don't delay the application, to avoid keeping the input\u001b[0m\u001b[0;34m\u001b[0m\u001b[0;34m\u001b[0m\u001b[0;34m\u001b[0m\u001b[0m\n\u001b[1;32m    571\u001b[0m         \u001b[0;31m# arguments in memory\u001b[0m\u001b[0;34m\u001b[0m\u001b[0;34m\u001b[0m\u001b[0;34m\u001b[0m\u001b[0m\n\u001b[0;32m--> 572\u001b[0;31m         \u001b[0mself\u001b[0m\u001b[0;34m.\u001b[0m\u001b[0mresults\u001b[0m \u001b[0;34m=\u001b[0m \u001b[0mbatch\u001b[0m\u001b[0;34m(\u001b[0m\u001b[0;34m)\u001b[0m\u001b[0;34m\u001b[0m\u001b[0;34m\u001b[0m\u001b[0m\n\u001b[0m\u001b[1;32m    573\u001b[0m \u001b[0;34m\u001b[0m\u001b[0m\n\u001b[1;32m    574\u001b[0m     \u001b[0;32mdef\u001b[0m \u001b[0mget\u001b[0m\u001b[0;34m(\u001b[0m\u001b[0mself\u001b[0m\u001b[0;34m)\u001b[0m\u001b[0;34m:\u001b[0m\u001b[0;34m\u001b[0m\u001b[0;34m\u001b[0m\u001b[0m\n",
            "\u001b[0;32m/usr/local/lib/python3.7/dist-packages/joblib/parallel.py\u001b[0m in \u001b[0;36m__call__\u001b[0;34m(self)\u001b[0m\n\u001b[1;32m    261\u001b[0m         \u001b[0;32mwith\u001b[0m \u001b[0mparallel_backend\u001b[0m\u001b[0;34m(\u001b[0m\u001b[0mself\u001b[0m\u001b[0;34m.\u001b[0m\u001b[0m_backend\u001b[0m\u001b[0;34m,\u001b[0m \u001b[0mn_jobs\u001b[0m\u001b[0;34m=\u001b[0m\u001b[0mself\u001b[0m\u001b[0;34m.\u001b[0m\u001b[0m_n_jobs\u001b[0m\u001b[0;34m)\u001b[0m\u001b[0;34m:\u001b[0m\u001b[0;34m\u001b[0m\u001b[0;34m\u001b[0m\u001b[0m\n\u001b[1;32m    262\u001b[0m             return [func(*args, **kwargs)\n\u001b[0;32m--> 263\u001b[0;31m                     for func, args, kwargs in self.items]\n\u001b[0m\u001b[1;32m    264\u001b[0m \u001b[0;34m\u001b[0m\u001b[0m\n\u001b[1;32m    265\u001b[0m     \u001b[0;32mdef\u001b[0m \u001b[0m__reduce__\u001b[0m\u001b[0;34m(\u001b[0m\u001b[0mself\u001b[0m\u001b[0;34m)\u001b[0m\u001b[0;34m:\u001b[0m\u001b[0;34m\u001b[0m\u001b[0;34m\u001b[0m\u001b[0m\n",
            "\u001b[0;32m/usr/local/lib/python3.7/dist-packages/joblib/parallel.py\u001b[0m in \u001b[0;36m<listcomp>\u001b[0;34m(.0)\u001b[0m\n\u001b[1;32m    261\u001b[0m         \u001b[0;32mwith\u001b[0m \u001b[0mparallel_backend\u001b[0m\u001b[0;34m(\u001b[0m\u001b[0mself\u001b[0m\u001b[0;34m.\u001b[0m\u001b[0m_backend\u001b[0m\u001b[0;34m,\u001b[0m \u001b[0mn_jobs\u001b[0m\u001b[0;34m=\u001b[0m\u001b[0mself\u001b[0m\u001b[0;34m.\u001b[0m\u001b[0m_n_jobs\u001b[0m\u001b[0;34m)\u001b[0m\u001b[0;34m:\u001b[0m\u001b[0;34m\u001b[0m\u001b[0;34m\u001b[0m\u001b[0m\n\u001b[1;32m    262\u001b[0m             return [func(*args, **kwargs)\n\u001b[0;32m--> 263\u001b[0;31m                     for func, args, kwargs in self.items]\n\u001b[0m\u001b[1;32m    264\u001b[0m \u001b[0;34m\u001b[0m\u001b[0m\n\u001b[1;32m    265\u001b[0m     \u001b[0;32mdef\u001b[0m \u001b[0m__reduce__\u001b[0m\u001b[0;34m(\u001b[0m\u001b[0mself\u001b[0m\u001b[0;34m)\u001b[0m\u001b[0;34m:\u001b[0m\u001b[0;34m\u001b[0m\u001b[0;34m\u001b[0m\u001b[0m\n",
            "\u001b[0;32m/usr/local/lib/python3.7/dist-packages/sklearn/model_selection/_validation.py\u001b[0m in \u001b[0;36m_fit_and_score\u001b[0;34m(estimator, X, y, scorer, train, test, verbose, parameters, fit_params, return_train_score, return_parameters, return_n_test_samples, return_times, return_estimator, error_score)\u001b[0m\n\u001b[1;32m    513\u001b[0m             \u001b[0mestimator\u001b[0m\u001b[0;34m.\u001b[0m\u001b[0mfit\u001b[0m\u001b[0;34m(\u001b[0m\u001b[0mX_train\u001b[0m\u001b[0;34m,\u001b[0m \u001b[0;34m**\u001b[0m\u001b[0mfit_params\u001b[0m\u001b[0;34m)\u001b[0m\u001b[0;34m\u001b[0m\u001b[0;34m\u001b[0m\u001b[0m\n\u001b[1;32m    514\u001b[0m         \u001b[0;32melse\u001b[0m\u001b[0;34m:\u001b[0m\u001b[0;34m\u001b[0m\u001b[0;34m\u001b[0m\u001b[0m\n\u001b[0;32m--> 515\u001b[0;31m             \u001b[0mestimator\u001b[0m\u001b[0;34m.\u001b[0m\u001b[0mfit\u001b[0m\u001b[0;34m(\u001b[0m\u001b[0mX_train\u001b[0m\u001b[0;34m,\u001b[0m \u001b[0my_train\u001b[0m\u001b[0;34m,\u001b[0m \u001b[0;34m**\u001b[0m\u001b[0mfit_params\u001b[0m\u001b[0;34m)\u001b[0m\u001b[0;34m\u001b[0m\u001b[0;34m\u001b[0m\u001b[0m\n\u001b[0m\u001b[1;32m    516\u001b[0m \u001b[0;34m\u001b[0m\u001b[0m\n\u001b[1;32m    517\u001b[0m     \u001b[0;32mexcept\u001b[0m \u001b[0mException\u001b[0m \u001b[0;32mas\u001b[0m \u001b[0me\u001b[0m\u001b[0;34m:\u001b[0m\u001b[0;34m\u001b[0m\u001b[0;34m\u001b[0m\u001b[0m\n",
            "\u001b[0;32m/usr/local/lib/python3.7/dist-packages/sklearn/ensemble/_weight_boosting.py\u001b[0m in \u001b[0;36mfit\u001b[0;34m(self, X, y, sample_weight)\u001b[0m\n\u001b[1;32m    436\u001b[0m \u001b[0;34m\u001b[0m\u001b[0m\n\u001b[1;32m    437\u001b[0m         \u001b[0;31m# Fit\u001b[0m\u001b[0;34m\u001b[0m\u001b[0;34m\u001b[0m\u001b[0;34m\u001b[0m\u001b[0m\n\u001b[0;32m--> 438\u001b[0;31m         \u001b[0;32mreturn\u001b[0m \u001b[0msuper\u001b[0m\u001b[0;34m(\u001b[0m\u001b[0;34m)\u001b[0m\u001b[0;34m.\u001b[0m\u001b[0mfit\u001b[0m\u001b[0;34m(\u001b[0m\u001b[0mX\u001b[0m\u001b[0;34m,\u001b[0m \u001b[0my\u001b[0m\u001b[0;34m,\u001b[0m \u001b[0msample_weight\u001b[0m\u001b[0;34m)\u001b[0m\u001b[0;34m\u001b[0m\u001b[0;34m\u001b[0m\u001b[0m\n\u001b[0m\u001b[1;32m    439\u001b[0m \u001b[0;34m\u001b[0m\u001b[0m\n\u001b[1;32m    440\u001b[0m     \u001b[0;32mdef\u001b[0m \u001b[0m_validate_estimator\u001b[0m\u001b[0;34m(\u001b[0m\u001b[0mself\u001b[0m\u001b[0;34m)\u001b[0m\u001b[0;34m:\u001b[0m\u001b[0;34m\u001b[0m\u001b[0;34m\u001b[0m\u001b[0m\n",
            "\u001b[0;32m/usr/local/lib/python3.7/dist-packages/sklearn/ensemble/_weight_boosting.py\u001b[0m in \u001b[0;36mfit\u001b[0;34m(self, X, y, sample_weight)\u001b[0m\n\u001b[1;32m    140\u001b[0m                 \u001b[0mX\u001b[0m\u001b[0;34m,\u001b[0m \u001b[0my\u001b[0m\u001b[0;34m,\u001b[0m\u001b[0;34m\u001b[0m\u001b[0;34m\u001b[0m\u001b[0m\n\u001b[1;32m    141\u001b[0m                 \u001b[0msample_weight\u001b[0m\u001b[0;34m,\u001b[0m\u001b[0;34m\u001b[0m\u001b[0;34m\u001b[0m\u001b[0m\n\u001b[0;32m--> 142\u001b[0;31m                 random_state)\n\u001b[0m\u001b[1;32m    143\u001b[0m \u001b[0;34m\u001b[0m\u001b[0m\n\u001b[1;32m    144\u001b[0m             \u001b[0;31m# Early termination\u001b[0m\u001b[0;34m\u001b[0m\u001b[0;34m\u001b[0m\u001b[0;34m\u001b[0m\u001b[0m\n",
            "\u001b[0;32m/usr/local/lib/python3.7/dist-packages/sklearn/ensemble/_weight_boosting.py\u001b[0m in \u001b[0;36m_boost\u001b[0;34m(self, iboost, X, y, sample_weight, random_state)\u001b[0m\n\u001b[1;32m    495\u001b[0m         \"\"\"\n\u001b[1;32m    496\u001b[0m         \u001b[0;32mif\u001b[0m \u001b[0mself\u001b[0m\u001b[0;34m.\u001b[0m\u001b[0malgorithm\u001b[0m \u001b[0;34m==\u001b[0m \u001b[0;34m'SAMME.R'\u001b[0m\u001b[0;34m:\u001b[0m\u001b[0;34m\u001b[0m\u001b[0;34m\u001b[0m\u001b[0m\n\u001b[0;32m--> 497\u001b[0;31m             \u001b[0;32mreturn\u001b[0m \u001b[0mself\u001b[0m\u001b[0;34m.\u001b[0m\u001b[0m_boost_real\u001b[0m\u001b[0;34m(\u001b[0m\u001b[0miboost\u001b[0m\u001b[0;34m,\u001b[0m \u001b[0mX\u001b[0m\u001b[0;34m,\u001b[0m \u001b[0my\u001b[0m\u001b[0;34m,\u001b[0m \u001b[0msample_weight\u001b[0m\u001b[0;34m,\u001b[0m \u001b[0mrandom_state\u001b[0m\u001b[0;34m)\u001b[0m\u001b[0;34m\u001b[0m\u001b[0;34m\u001b[0m\u001b[0m\n\u001b[0m\u001b[1;32m    498\u001b[0m \u001b[0;34m\u001b[0m\u001b[0m\n\u001b[1;32m    499\u001b[0m         \u001b[0;32melse\u001b[0m\u001b[0;34m:\u001b[0m  \u001b[0;31m# elif self.algorithm == \"SAMME\":\u001b[0m\u001b[0;34m\u001b[0m\u001b[0;34m\u001b[0m\u001b[0m\n",
            "\u001b[0;32m/usr/local/lib/python3.7/dist-packages/sklearn/ensemble/_weight_boosting.py\u001b[0m in \u001b[0;36m_boost_real\u001b[0;34m(self, iboost, X, y, sample_weight, random_state)\u001b[0m\n\u001b[1;32m    505\u001b[0m         \u001b[0mestimator\u001b[0m \u001b[0;34m=\u001b[0m \u001b[0mself\u001b[0m\u001b[0;34m.\u001b[0m\u001b[0m_make_estimator\u001b[0m\u001b[0;34m(\u001b[0m\u001b[0mrandom_state\u001b[0m\u001b[0;34m=\u001b[0m\u001b[0mrandom_state\u001b[0m\u001b[0;34m)\u001b[0m\u001b[0;34m\u001b[0m\u001b[0;34m\u001b[0m\u001b[0m\n\u001b[1;32m    506\u001b[0m \u001b[0;34m\u001b[0m\u001b[0m\n\u001b[0;32m--> 507\u001b[0;31m         \u001b[0mestimator\u001b[0m\u001b[0;34m.\u001b[0m\u001b[0mfit\u001b[0m\u001b[0;34m(\u001b[0m\u001b[0mX\u001b[0m\u001b[0;34m,\u001b[0m \u001b[0my\u001b[0m\u001b[0;34m,\u001b[0m \u001b[0msample_weight\u001b[0m\u001b[0;34m=\u001b[0m\u001b[0msample_weight\u001b[0m\u001b[0;34m)\u001b[0m\u001b[0;34m\u001b[0m\u001b[0;34m\u001b[0m\u001b[0m\n\u001b[0m\u001b[1;32m    508\u001b[0m \u001b[0;34m\u001b[0m\u001b[0m\n\u001b[1;32m    509\u001b[0m         \u001b[0my_predict_proba\u001b[0m \u001b[0;34m=\u001b[0m \u001b[0mestimator\u001b[0m\u001b[0;34m.\u001b[0m\u001b[0mpredict_proba\u001b[0m\u001b[0;34m(\u001b[0m\u001b[0mX\u001b[0m\u001b[0;34m)\u001b[0m\u001b[0;34m\u001b[0m\u001b[0;34m\u001b[0m\u001b[0m\n",
            "\u001b[0;32m/usr/local/lib/python3.7/dist-packages/sklearn/tree/_classes.py\u001b[0m in \u001b[0;36mfit\u001b[0;34m(self, X, y, sample_weight, check_input, X_idx_sorted)\u001b[0m\n\u001b[1;32m    875\u001b[0m             \u001b[0msample_weight\u001b[0m\u001b[0;34m=\u001b[0m\u001b[0msample_weight\u001b[0m\u001b[0;34m,\u001b[0m\u001b[0;34m\u001b[0m\u001b[0;34m\u001b[0m\u001b[0m\n\u001b[1;32m    876\u001b[0m             \u001b[0mcheck_input\u001b[0m\u001b[0;34m=\u001b[0m\u001b[0mcheck_input\u001b[0m\u001b[0;34m,\u001b[0m\u001b[0;34m\u001b[0m\u001b[0;34m\u001b[0m\u001b[0m\n\u001b[0;32m--> 877\u001b[0;31m             X_idx_sorted=X_idx_sorted)\n\u001b[0m\u001b[1;32m    878\u001b[0m         \u001b[0;32mreturn\u001b[0m \u001b[0mself\u001b[0m\u001b[0;34m\u001b[0m\u001b[0;34m\u001b[0m\u001b[0m\n\u001b[1;32m    879\u001b[0m \u001b[0;34m\u001b[0m\u001b[0m\n",
            "\u001b[0;32m/usr/local/lib/python3.7/dist-packages/sklearn/tree/_classes.py\u001b[0m in \u001b[0;36mfit\u001b[0;34m(self, X, y, sample_weight, check_input, X_idx_sorted)\u001b[0m\n\u001b[1;32m    365\u001b[0m                                            min_impurity_split)\n\u001b[1;32m    366\u001b[0m \u001b[0;34m\u001b[0m\u001b[0m\n\u001b[0;32m--> 367\u001b[0;31m         \u001b[0mbuilder\u001b[0m\u001b[0;34m.\u001b[0m\u001b[0mbuild\u001b[0m\u001b[0;34m(\u001b[0m\u001b[0mself\u001b[0m\u001b[0;34m.\u001b[0m\u001b[0mtree_\u001b[0m\u001b[0;34m,\u001b[0m \u001b[0mX\u001b[0m\u001b[0;34m,\u001b[0m \u001b[0my\u001b[0m\u001b[0;34m,\u001b[0m \u001b[0msample_weight\u001b[0m\u001b[0;34m,\u001b[0m \u001b[0mX_idx_sorted\u001b[0m\u001b[0;34m)\u001b[0m\u001b[0;34m\u001b[0m\u001b[0;34m\u001b[0m\u001b[0m\n\u001b[0m\u001b[1;32m    368\u001b[0m \u001b[0;34m\u001b[0m\u001b[0m\n\u001b[1;32m    369\u001b[0m         \u001b[0;32mif\u001b[0m \u001b[0mself\u001b[0m\u001b[0;34m.\u001b[0m\u001b[0mn_outputs_\u001b[0m \u001b[0;34m==\u001b[0m \u001b[0;36m1\u001b[0m \u001b[0;32mand\u001b[0m \u001b[0mis_classifier\u001b[0m\u001b[0;34m(\u001b[0m\u001b[0mself\u001b[0m\u001b[0;34m)\u001b[0m\u001b[0;34m:\u001b[0m\u001b[0;34m\u001b[0m\u001b[0;34m\u001b[0m\u001b[0m\n",
            "\u001b[0;31mKeyboardInterrupt\u001b[0m: "
          ]
        }
      ]
    },
    {
      "cell_type": "code",
      "metadata": {
        "id": "X9JIBoiHy3Bn",
        "colab": {
          "base_uri": "https://localhost:8080/"
        },
        "outputId": "00015e1e-f0ff-4dcc-a46c-f21241c9bd31"
      },
      "source": [
        ""
      ],
      "execution_count": 49,
      "outputs": [
        {
          "output_type": "execute_result",
          "data": {
            "text/plain": [
              "array([1, 1, 1, 1, 1, 1, 1, 1, 1, 1])"
            ]
          },
          "metadata": {
            "tags": []
          },
          "execution_count": 49
        }
      ]
    },
    {
      "cell_type": "code",
      "metadata": {
        "id": "tD6fvkaikySz",
        "colab": {
          "base_uri": "https://localhost:8080/",
          "height": 1000
        },
        "outputId": "f3c98bb1-2b56-47f5-a5b1-cd5887f861a4"
      },
      "source": [
        "## Perform cross validation to get preliminary best models\n",
        "import xgboost as xgb\n",
        "from sklearn.metrics import precision_recall_curve\n",
        "from sklearn.metrics import auc\n",
        "from sklearn.model_selection import TimeSeriesSplit\n",
        "from sklearn.metrics import f1_score, roc_curve\n",
        "from sklearn.metrics import fbeta_score\n",
        "from sklearn.model_selection import cross_val_score\n",
        "from sklearn.linear_model import LogisticRegression\n",
        "from sklearn.metrics import confusion_matrix\n",
        "from sklearn.metrics import classification_report\n",
        "!pip install tscv\n",
        "from tscv import GapWalkForward\n",
        "from sklearn.ensemble import AdaBoostClassifier\n",
        "from sklearn.ensemble import RandomForestClassifier\n",
        "from sklearn.tree import DecisionTreeClassifier\n",
        "from sklearn.svm import SVC\n",
        "from sklearn.discriminant_analysis import LinearDiscriminantAnalysis\n",
        "from sklearn.neighbors import KNeighborsClassifier\n",
        "from sklearn.naive_bayes import GaussianNB\n",
        "\n",
        "def perform_cross_validation(metrics_df, model, model_name, X_training, y_training):\n",
        "  tscv = GapWalkForward(n_splits=5, gap_size=0, test_size=5000)\n",
        "\n",
        "  g_means = []\n",
        "  f1s = []\n",
        "  f2s = []\n",
        "  precisions = []\n",
        "  recalls = []\n",
        "  accuracies = []\n",
        "  errors = []\n",
        "\n",
        "  for train_index, test_index in tscv.split(X_training):\n",
        "    if model_name == \"XG_Boost\":\n",
        "      X_train, X_test = X_training.iloc[train_index], X_training.iloc[test_index]\n",
        "      y_train, y_test = y_training.iloc[train_index], y_training.iloc[test_index]\n",
        "\n",
        "      # XGB Classifier\n",
        "      eval_set = [(X_train, y_train), (X_test, y_test)]\n",
        "\n",
        "      # Fit the classifier to the training set\n",
        "      model.fit(X_train, y_train, eval_metric=[\"aucpr\"], eval_set=eval_set, verbose=True)\n",
        "      results = model.evals_result()\n",
        "\n",
        "      # Predict the labels of the test set: preds\n",
        "      predictions = model.predict(X_test)\n",
        "\n",
        "    else:\n",
        "      X_train, X_test = X_training.iloc[train_index], X_training.iloc[test_index]\n",
        "      y_train, y_test = y_training.iloc[train_index], y_training.iloc[test_index]\n",
        "\n",
        "      model.fit(X_train, y_train.values.ravel())\n",
        "      predictions = model.predict(X_test)\n",
        "\n",
        "    f1 = f1_score(y_test, predictions)\n",
        "    f2 = fbeta_score(y_test, predictions, beta=2)\n",
        "\n",
        "    # print(confusion_matrix(y_test, predictions))\n",
        "    # print(classification_report(y_test, predictions))\n",
        "\n",
        "    tn, fp, fn, tp = confusion_matrix(y_test, predictions).ravel()\n",
        "\n",
        "    recall = tp / (tp + fn)\n",
        "    specificity = tn / (fp + tn)\n",
        "    precision = tp / (tp + fp)\n",
        "    accuracy = (tp + tn) / (tp + fp + tn + fn)\n",
        "\n",
        "    g_mean = np.sqrt(recall * specificity)\n",
        "\n",
        "    f1s.append(f1)\n",
        "    f2s.append(f2)\n",
        "    g_means.append(g_mean)\n",
        "    recalls.append(recall)\n",
        "    precisions.append(precision)\n",
        "    accuracies.append(accuracy)\n",
        "    errors.append(1- accuracy)\n",
        "  \n",
        "  metrics_df.loc[model_name] = [np.mean(f1s), np.mean(f2s), np.mean(g_means), np.mean(recalls), np.mean(precisions), np.mean(accuracies), np.mean(errors)]\n",
        "\n",
        "  return model, metrics_df\n",
        "\n",
        "def compare_models(models, model_names, X_training, y_training, X_testing, y_testing):\n",
        "  cross_validation_model_scores = pd.DataFrame(data=None, columns = [\"Model Name\", \"F1-Score\", \"F2-Score\", \"G-Mean\", \"Recall for 1\", \"Precision for 1\", \"Accuracy\", \"Error\"])\n",
        "  cross_validation_model_scores.set_index('Model Name', inplace=True)\n",
        "  # plot no skill roc curve\n",
        "  plt.plot([0, 1], [0, 1], linestyle='--', label='No Skill')\n",
        "  for i in range(len(models)):\n",
        "    model, cross_validation_model_scores = perform_cross_validation(cross_validation_model_scores, models[i], model_names[i], X_training, y_training)\n",
        "    predictions = model.predict(X_testing)\n",
        "    print(\"Results for \" + model_names[i] + \" -------------------------------------------------------------------\")\n",
        "    print(confusion_matrix(y_testing, predictions))\n",
        "    print(classification_report(y_testing, predictions))\n",
        "    f1 = f1_score(y_testing, predictions)\n",
        "    tn, fp, fn, tp = confusion_matrix(y_testing, predictions).ravel()\n",
        "\n",
        "    recall = tp / (tp + fn)\n",
        "    specificity = tn / (fp + tn)\n",
        "    precision = tp / (tp + fp)\n",
        "    accuracy = (tp + tn) / (tp + fp + tn + fn)\n",
        "    error = 1 - accuracy\n",
        "    print(\"F1: \", f1)\n",
        "    print(\"Recall: \", recall)\n",
        "    print(\"Specificity: \", specificity)\n",
        "    print(\"Precision: \", precision)\n",
        "    print(\"Accuracy: \", accuracy)\n",
        "    print(\"Error: \", error)\n",
        "\n",
        "    get_precision_recall_curve(model, model_names[i], X_testing, y_testing)\n",
        "\n",
        "  # show the legend\n",
        "  plt.legend()\n",
        "  # show the plot\n",
        "  plt.show()\n",
        "\n",
        "  return cross_validation_model_scores\n",
        "\n",
        "def get_precision_recall_curve(model, model_name, x_test, y_test):\n",
        "  # predict probabilities\n",
        "  yhat = model.predict_proba(x_test)\n",
        "  # retrieve just the probabilities for the positive class\n",
        "  pos_probs = yhat[:, 1]\n",
        "\n",
        "  # calculate roc curve for model\n",
        "  fpr, tpr, _ = roc_curve(y_test, pos_probs)\n",
        "  # plot model roc curve\n",
        "  plt.plot(fpr, tpr, marker='.', label=model_name)\n",
        "  # axis labels\n",
        "  plt.xlabel('False Positive Rate')\n",
        "  plt.ylabel('True Positive Rate')\n",
        "\n",
        "\n",
        "all_models = [LogisticRegression(), RandomForestClassifier(), AdaBoostClassifier(), DecisionTreeClassifier(), SVC(probability=True), KNeighborsClassifier(), GaussianNB(), LinearDiscriminantAnalysis(), xgb.XGBClassifier()]\n",
        "all_model_names = [\"LogReg\", \"Random Forest\", \"AdaBoost\", \"Decision Trees\", \"SVC\", \"kNN\", \"Naive Bayes\", \"LDA\", \"XGBoost\"]\n",
        "\n",
        "compare_models(all_models, all_model_names, X_train_scaled_df.tail(50000), y_train.tail(50000), X_test_scaled_df.head(30000), y_test.head(30000))"
      ],
      "execution_count": 60,
      "outputs": [
        {
          "output_type": "stream",
          "text": [
            "Requirement already satisfied: tscv in /usr/local/lib/python3.7/dist-packages (0.1.2)\n",
            "Requirement already satisfied: numpy>=1.13.3 in /usr/local/lib/python3.7/dist-packages (from tscv) (1.19.5)\n",
            "Requirement already satisfied: scikit-learn>=0.22 in /usr/local/lib/python3.7/dist-packages (from tscv) (0.22.2.post1)\n",
            "Requirement already satisfied: scipy>=0.17.0 in /usr/local/lib/python3.7/dist-packages (from scikit-learn>=0.22->tscv) (1.4.1)\n",
            "Requirement already satisfied: joblib>=0.11 in /usr/local/lib/python3.7/dist-packages (from scikit-learn>=0.22->tscv) (1.0.1)\n"
          ],
          "name": "stdout"
        },
        {
          "output_type": "stream",
          "text": [
            "/usr/local/lib/python3.7/dist-packages/ipykernel_launcher.py:65: RuntimeWarning: invalid value encountered in long_scalars\n",
            "/usr/local/lib/python3.7/dist-packages/ipykernel_launcher.py:65: RuntimeWarning: invalid value encountered in long_scalars\n",
            "/usr/local/lib/python3.7/dist-packages/sklearn/linear_model/_logistic.py:940: ConvergenceWarning: lbfgs failed to converge (status=1):\n",
            "STOP: TOTAL NO. of ITERATIONS REACHED LIMIT.\n",
            "\n",
            "Increase the number of iterations (max_iter) or scale the data as shown in:\n",
            "    https://scikit-learn.org/stable/modules/preprocessing.html\n",
            "Please also refer to the documentation for alternative solver options:\n",
            "    https://scikit-learn.org/stable/modules/linear_model.html#logistic-regression\n",
            "  extra_warning_msg=_LOGISTIC_SOLVER_CONVERGENCE_MSG)\n",
            "/usr/local/lib/python3.7/dist-packages/ipykernel_launcher.py:65: RuntimeWarning: invalid value encountered in long_scalars\n"
          ],
          "name": "stderr"
        },
        {
          "output_type": "stream",
          "text": [
            "Results for LogReg -------------------------------------------------------------------\n",
            "[[29870     0]\n",
            " [  118    12]]\n",
            "              precision    recall  f1-score   support\n",
            "\n",
            "           0       1.00      1.00      1.00     29870\n",
            "           1       1.00      0.09      0.17       130\n",
            "\n",
            "    accuracy                           1.00     30000\n",
            "   macro avg       1.00      0.55      0.58     30000\n",
            "weighted avg       1.00      1.00      0.99     30000\n",
            "\n",
            "F1:  0.16901408450704225\n",
            "Recall:  0.09230769230769231\n",
            "Specificity:  1.0\n",
            "Precision:  1.0\n",
            "Accuracy:  0.9960666666666667\n",
            "Error:  0.003933333333333344\n",
            "Results for Random Forest -------------------------------------------------------------------\n",
            "[[28186  1684]\n",
            " [   40    90]]\n",
            "              precision    recall  f1-score   support\n",
            "\n",
            "           0       1.00      0.94      0.97     29870\n",
            "           1       0.05      0.69      0.09       130\n",
            "\n",
            "    accuracy                           0.94     30000\n",
            "   macro avg       0.52      0.82      0.53     30000\n",
            "weighted avg       0.99      0.94      0.97     30000\n",
            "\n",
            "F1:  0.09453781512605043\n",
            "Recall:  0.6923076923076923\n",
            "Specificity:  0.9436223635754938\n",
            "Precision:  0.05073280721533258\n",
            "Accuracy:  0.9425333333333333\n",
            "Error:  0.057466666666666666\n"
          ],
          "name": "stdout"
        },
        {
          "output_type": "stream",
          "text": [
            "/usr/local/lib/python3.7/dist-packages/ipykernel_launcher.py:65: RuntimeWarning: invalid value encountered in long_scalars\n"
          ],
          "name": "stderr"
        },
        {
          "output_type": "stream",
          "text": [
            "Results for AdaBoost -------------------------------------------------------------------\n",
            "[[29796    74]\n",
            " [   53    77]]\n",
            "              precision    recall  f1-score   support\n",
            "\n",
            "           0       1.00      1.00      1.00     29870\n",
            "           1       0.51      0.59      0.55       130\n",
            "\n",
            "    accuracy                           1.00     30000\n",
            "   macro avg       0.75      0.79      0.77     30000\n",
            "weighted avg       1.00      1.00      1.00     30000\n",
            "\n",
            "F1:  0.5480427046263346\n",
            "Recall:  0.5923076923076923\n",
            "Specificity:  0.9975225979243388\n",
            "Precision:  0.5099337748344371\n",
            "Accuracy:  0.9957666666666667\n",
            "Error:  0.004233333333333311\n",
            "Results for Decision Trees -------------------------------------------------------------------\n",
            "[[29111   759]\n",
            " [   60    70]]\n",
            "              precision    recall  f1-score   support\n",
            "\n",
            "           0       1.00      0.97      0.99     29870\n",
            "           1       0.08      0.54      0.15       130\n",
            "\n",
            "    accuracy                           0.97     30000\n",
            "   macro avg       0.54      0.76      0.57     30000\n",
            "weighted avg       0.99      0.97      0.98     30000\n",
            "\n",
            "F1:  0.145985401459854\n",
            "Recall:  0.5384615384615384\n",
            "Specificity:  0.9745898895212588\n",
            "Precision:  0.08443908323281062\n",
            "Accuracy:  0.9727\n",
            "Error:  0.02729999999999999\n"
          ],
          "name": "stdout"
        },
        {
          "output_type": "stream",
          "text": [
            "/usr/local/lib/python3.7/dist-packages/ipykernel_launcher.py:65: RuntimeWarning: invalid value encountered in long_scalars\n",
            "/usr/local/lib/python3.7/dist-packages/ipykernel_launcher.py:65: RuntimeWarning: invalid value encountered in long_scalars\n",
            "/usr/local/lib/python3.7/dist-packages/ipykernel_launcher.py:65: RuntimeWarning: invalid value encountered in long_scalars\n"
          ],
          "name": "stderr"
        },
        {
          "output_type": "stream",
          "text": [
            "Results for SVC -------------------------------------------------------------------\n",
            "[[29870     0]\n",
            " [  119    11]]\n",
            "              precision    recall  f1-score   support\n",
            "\n",
            "           0       1.00      1.00      1.00     29870\n",
            "           1       1.00      0.08      0.16       130\n",
            "\n",
            "    accuracy                           1.00     30000\n",
            "   macro avg       1.00      0.54      0.58     30000\n",
            "weighted avg       1.00      1.00      0.99     30000\n",
            "\n",
            "F1:  0.15602836879432627\n",
            "Recall:  0.08461538461538462\n",
            "Specificity:  1.0\n",
            "Precision:  1.0\n",
            "Accuracy:  0.9960333333333333\n",
            "Error:  0.003966666666666674\n"
          ],
          "name": "stdout"
        },
        {
          "output_type": "stream",
          "text": [
            "/usr/local/lib/python3.7/dist-packages/ipykernel_launcher.py:65: RuntimeWarning: invalid value encountered in long_scalars\n",
            "/usr/local/lib/python3.7/dist-packages/ipykernel_launcher.py:65: RuntimeWarning: invalid value encountered in long_scalars\n"
          ],
          "name": "stderr"
        },
        {
          "output_type": "stream",
          "text": [
            "Results for kNN -------------------------------------------------------------------\n",
            "[[29822    48]\n",
            " [  107    23]]\n",
            "              precision    recall  f1-score   support\n",
            "\n",
            "           0       1.00      1.00      1.00     29870\n",
            "           1       0.32      0.18      0.23       130\n",
            "\n",
            "    accuracy                           0.99     30000\n",
            "   macro avg       0.66      0.59      0.61     30000\n",
            "weighted avg       0.99      0.99      0.99     30000\n",
            "\n",
            "F1:  0.2288557213930348\n",
            "Recall:  0.17692307692307693\n",
            "Specificity:  0.998393036491463\n",
            "Precision:  0.323943661971831\n",
            "Accuracy:  0.9948333333333333\n",
            "Error:  0.005166666666666653\n",
            "Results for Naive Bayes -------------------------------------------------------------------\n",
            "[[  898 28972]\n",
            " [    2   128]]\n",
            "              precision    recall  f1-score   support\n",
            "\n",
            "           0       1.00      0.03      0.06     29870\n",
            "           1       0.00      0.98      0.01       130\n",
            "\n",
            "    accuracy                           0.03     30000\n",
            "   macro avg       0.50      0.51      0.03     30000\n",
            "weighted avg       0.99      0.03      0.06     30000\n",
            "\n",
            "F1:  0.008758125213821416\n",
            "Recall:  0.9846153846153847\n",
            "Specificity:  0.030063608972212923\n",
            "Precision:  0.004398625429553264\n",
            "Accuracy:  0.0342\n",
            "Error:  0.9658\n",
            "Results for LDA -------------------------------------------------------------------\n",
            "[[29357   513]\n",
            " [   35    95]]\n",
            "              precision    recall  f1-score   support\n",
            "\n",
            "           0       1.00      0.98      0.99     29870\n",
            "           1       0.16      0.73      0.26       130\n",
            "\n",
            "    accuracy                           0.98     30000\n",
            "   macro avg       0.58      0.86      0.62     30000\n",
            "weighted avg       1.00      0.98      0.99     30000\n",
            "\n",
            "F1:  0.25745257452574527\n",
            "Recall:  0.7307692307692307\n",
            "Specificity:  0.9828255775025109\n",
            "Precision:  0.15625\n",
            "Accuracy:  0.9817333333333333\n",
            "Error:  0.018266666666666653\n",
            "Results for XGBoost -------------------------------------------------------------------\n",
            "[[29849    21]\n",
            " [   47    83]]\n",
            "              precision    recall  f1-score   support\n",
            "\n",
            "           0       1.00      1.00      1.00     29870\n",
            "           1       0.80      0.64      0.71       130\n",
            "\n",
            "    accuracy                           1.00     30000\n",
            "   macro avg       0.90      0.82      0.85     30000\n",
            "weighted avg       1.00      1.00      1.00     30000\n",
            "\n",
            "F1:  0.7094017094017093\n",
            "Recall:  0.6384615384615384\n",
            "Specificity:  0.999296953465015\n",
            "Precision:  0.7980769230769231\n",
            "Accuracy:  0.9977333333333334\n",
            "Error:  0.002266666666666639\n"
          ],
          "name": "stdout"
        },
        {
          "output_type": "display_data",
          "data": {
            "image/png": "[encoded data removed]",
            "text/plain": [
              "<Figure size 432x288 with 1 Axes>"
            ]
          },
          "metadata": {
            "tags": [],
            "needs_background": "light"
          }
        },
        {
          "output_type": "execute_result",
          "data": {
            "text/html": [
              "<div>\n",
              "<style scoped>\n",
              "    .dataframe tbody tr th:only-of-type {\n",
              "        vertical-align: middle;\n",
              "    }\n",
              "\n",
              "    .dataframe tbody tr th {\n",
              "        vertical-align: top;\n",
              "    }\n",
              "\n",
              "    .dataframe thead th {\n",
              "        text-align: right;\n",
              "    }\n",
              "</style>\n",
              "<table border=\"1\" class=\"dataframe\">\n",
              "  <thead>\n",
              "    <tr style=\"text-align: right;\">\n",
              "      <th></th>\n",
              "      <th>F1-Score</th>\n",
              "      <th>F2-Score</th>\n",
              "      <th>G-Mean</th>\n",
              "      <th>Recall for 1</th>\n",
              "      <th>Precision for 1</th>\n",
              "      <th>Accuracy</th>\n",
              "      <th>Error</th>\n",
              "    </tr>\n",
              "    <tr>\n",
              "      <th>Model Name</th>\n",
              "      <th></th>\n",
              "      <th></th>\n",
              "      <th></th>\n",
              "      <th></th>\n",
              "      <th></th>\n",
              "      <th></th>\n",
              "      <th></th>\n",
              "    </tr>\n",
              "  </thead>\n",
              "  <tbody>\n",
              "    <tr>\n",
              "      <th>LogReg</th>\n",
              "      <td>0.074783</td>\n",
              "      <td>0.050283</td>\n",
              "      <td>0.128388</td>\n",
              "      <td>0.041270</td>\n",
              "      <td>NaN</td>\n",
              "      <td>0.99252</td>\n",
              "      <td>0.00748</td>\n",
              "    </tr>\n",
              "    <tr>\n",
              "      <th>Random Forest</th>\n",
              "      <td>0.421996</td>\n",
              "      <td>0.324060</td>\n",
              "      <td>0.515631</td>\n",
              "      <td>0.281254</td>\n",
              "      <td>0.982609</td>\n",
              "      <td>0.99468</td>\n",
              "      <td>0.00532</td>\n",
              "    </tr>\n",
              "    <tr>\n",
              "      <th>AdaBoost</th>\n",
              "      <td>0.387507</td>\n",
              "      <td>0.309280</td>\n",
              "      <td>0.462788</td>\n",
              "      <td>0.273559</td>\n",
              "      <td>NaN</td>\n",
              "      <td>0.99432</td>\n",
              "      <td>0.00568</td>\n",
              "    </tr>\n",
              "    <tr>\n",
              "      <th>Decision Trees</th>\n",
              "      <td>0.441415</td>\n",
              "      <td>0.430029</td>\n",
              "      <td>0.645417</td>\n",
              "      <td>0.432017</td>\n",
              "      <td>0.523998</td>\n",
              "      <td>0.99296</td>\n",
              "      <td>0.00704</td>\n",
              "    </tr>\n",
              "    <tr>\n",
              "      <th>SVC</th>\n",
              "      <td>0.107510</td>\n",
              "      <td>0.075887</td>\n",
              "      <td>0.156002</td>\n",
              "      <td>0.063492</td>\n",
              "      <td>NaN</td>\n",
              "      <td>0.99264</td>\n",
              "      <td>0.00736</td>\n",
              "    </tr>\n",
              "    <tr>\n",
              "      <th>kNN</th>\n",
              "      <td>0.084099</td>\n",
              "      <td>0.057651</td>\n",
              "      <td>0.161859</td>\n",
              "      <td>0.047664</td>\n",
              "      <td>NaN</td>\n",
              "      <td>0.99240</td>\n",
              "      <td>0.00760</td>\n",
              "    </tr>\n",
              "    <tr>\n",
              "      <th>Naive Bayes</th>\n",
              "      <td>0.359315</td>\n",
              "      <td>0.396184</td>\n",
              "      <td>0.656673</td>\n",
              "      <td>0.451714</td>\n",
              "      <td>0.343394</td>\n",
              "      <td>0.99004</td>\n",
              "      <td>0.00996</td>\n",
              "    </tr>\n",
              "    <tr>\n",
              "      <th>LDA</th>\n",
              "      <td>0.248197</td>\n",
              "      <td>0.221214</td>\n",
              "      <td>0.428006</td>\n",
              "      <td>0.207706</td>\n",
              "      <td>0.354114</td>\n",
              "      <td>0.99168</td>\n",
              "      <td>0.00832</td>\n",
              "    </tr>\n",
              "    <tr>\n",
              "      <th>XGBoost</th>\n",
              "      <td>0.468357</td>\n",
              "      <td>0.372148</td>\n",
              "      <td>0.552458</td>\n",
              "      <td>0.328311</td>\n",
              "      <td>0.892857</td>\n",
              "      <td>0.99520</td>\n",
              "      <td>0.00480</td>\n",
              "    </tr>\n",
              "  </tbody>\n",
              "</table>\n",
              "</div>"
            ],
            "text/plain": [
              "                F1-Score  F2-Score  ...  Accuracy    Error\n",
              "Model Name                          ...                   \n",
              "LogReg          0.074783  0.050283  ...   0.99252  0.00748\n",
              "Random Forest   0.421996  0.324060  ...   0.99468  0.00532\n",
              "AdaBoost        0.387507  0.309280  ...   0.99432  0.00568\n",
              "Decision Trees  0.441415  0.430029  ...   0.99296  0.00704\n",
              "SVC             0.107510  0.075887  ...   0.99264  0.00736\n",
              "kNN             0.084099  0.057651  ...   0.99240  0.00760\n",
              "Naive Bayes     0.359315  0.396184  ...   0.99004  0.00996\n",
              "LDA             0.248197  0.221214  ...   0.99168  0.00832\n",
              "XGBoost         0.468357  0.372148  ...   0.99520  0.00480\n",
              "\n",
              "[9 rows x 7 columns]"
            ]
          },
          "metadata": {
            "tags": []
          },
          "execution_count": 60
        }
      ]
    },
    {
      "cell_type": "code",
      "metadata": {
        "id": "dlxo8Rh39NrI"
      },
      "source": [
        "from sklearn.model_selection import GridSearchCV\n",
        "\n",
        "def cross_validation_hyperparameter_tuning(model_name, model, param_grid, X_train, y_train, X_test, y_test):\n",
        "  tscv = GapWalkForward(n_splits=5, gap_size=0, test_size=1000)\n",
        "  print(tscv)\n",
        "  clf = GridSearchCV(model, param_grid=param_grid, scoring=\"f1\", cv = tscv)\n",
        "  clf.fit(X_train, y_train)\n",
        "  print(\"Best model params for: \", model_name)\n",
        "  print(clf.best_params_)\n",
        "\n",
        "  # find best model score\n",
        "  print(clf.score(X_train, y_train))\n",
        "  \n",
        "  predictions = clf.predict(X_train)\n",
        "  print(classification_report(predictions, y_train))\n",
        "  print(confusion_matrix(predictions, y_train))\n",
        "\n",
        "  # find best model score\n",
        "  print(clf.score(X_test, y_test))\n",
        "  \n",
        "  predictions = clf.predict(X_test)\n",
        "  print(classification_report(predictions, y_test))\n",
        "  print(confusion_matrix(predictions, y_test))"
      ],
      "execution_count": 71,
      "outputs": []
    },
    {
      "cell_type": "code",
      "metadata": {
        "id": "Uc_NttweqZB9",
        "outputId": "95c0add6-edec-4c1a-b671-12df13150af3",
        "colab": {
          "base_uri": "https://localhost:8080/"
        }
      },
      "source": [
        "# Perform hyperparameter tuning for XGBoost\n",
        "# Performed multiple grid searches each time to reduce the run time instead of running all params at once, used some recommended default values for more specific parameters\n",
        "\n",
        "param_test1 = {\n",
        " 'max_depth':range(3,10,2),\n",
        " 'min_child_weight':range(1,6,2)\n",
        "}\n",
        "\n",
        "param_test2 = {\n",
        " 'gamma':[i/10.0 for i in range(0,5)]\n",
        "}\n",
        "\n",
        "param_test3 = {\n",
        " 'subsample':[i/10.0 for i in range(6,10)],\n",
        " 'colsample_bytree':[i/10.0 for i in range(6,10)]\n",
        "}\n",
        "\n",
        "param_test4 = {\n",
        " 'learning_rate':[.001, .01, .05, .1, .2, .5, 1]\n",
        "}\n",
        "\n",
        "param_test5 = {\n",
        " 'n_estimators':[10, 50, 100, 150, 250]\n",
        "}\n",
        "\n",
        "cross_validation_hyperparameter_tuning(\"XGBoost\", xgb.XGBClassifier( learning_rate = 0.1, max_depth=3, \n",
        " min_child_weight=3, gamma=0.2, subsample=0.6, colsample_bytree=0.6,\n",
        " objective= 'binary:logistic', scale_pos_weight=1, seed=27), param_test5, X_train_scaled_df.tail(20000), y_train.tail(20000).values.ravel(), X_test_scaled_df.head(10000), y_test.head(10000).values.ravel())\n"
      ],
      "execution_count": 78,
      "outputs": [
        {
          "output_type": "stream",
          "text": [
            "GapWalkForward(gap_size=0, max_train_size=None, n_splits=5, rollback_size=0,\n",
            "        test_size=1000)\n",
            "Best model params for:  XGBoost\n",
            "{'n_estimators': 150}\n",
            "0.9123867069486404\n",
            "              precision    recall  f1-score   support\n",
            "\n",
            "           0       1.00      1.00      1.00     19849\n",
            "           1       0.84      1.00      0.91       151\n",
            "\n",
            "    accuracy                           1.00     20000\n",
            "   macro avg       0.92      1.00      0.96     20000\n",
            "weighted avg       1.00      1.00      1.00     20000\n",
            "\n",
            "[[19820    29]\n",
            " [    0   151]]\n",
            "0.5098039215686274\n",
            "              precision    recall  f1-score   support\n",
            "\n",
            "           0       1.00      1.00      1.00      9971\n",
            "           1       0.59      0.45      0.51        29\n",
            "\n",
            "    accuracy                           1.00     10000\n",
            "   macro avg       0.79      0.72      0.75     10000\n",
            "weighted avg       1.00      1.00      1.00     10000\n",
            "\n",
            "[[9962    9]\n",
            " [  16   13]]\n"
          ],
          "name": "stdout"
        }
      ]
    },
    {
      "cell_type": "code",
      "metadata": {
        "id": "cZ68cd7kqZZT"
      },
      "source": [
        "# Training xgboost given ideal parameters\n",
        "xgb_tuned = xgb.XGBClassifier(learning_rate = 0.1, n_estimators=150, max_depth=3, min_child_weight=3, gamma=0.2, subsample=0.6, colsample_bytree=0.6, objective= 'binary:logistic', scale_pos_weight=1)\n",
        "xgb_untuned = xgb.XGBClassifier()\n",
        "\n",
        "def get_train_and_test_final_metrics(models, model_names, X_train, y_train, X_test, y_test):\n",
        "  metrics_df = pd.DataFrame(columns = [\"Model_Name\", \"Testing F1\", \"Training F1\", \"Recall\", \"Precision\", \"Accuracy\", \"TP\", \"FP\", \"TN\", \"FN\"])\n",
        "\n",
        "  for i in range(len(models)):\n",
        "    model = models[i]\n",
        "    model.fit(X_train, y_train)\n",
        "    predictions_train = model.predict(X_train)\n",
        "    predictions_test = model.predict(X_test)\n",
        "\n",
        "    f1_training = f1_score(y_train, predictions_train)\n",
        "    f1_testing = f1_score(y_test, predictions_test)\n",
        "    tn, fp, fn, tp = confusion_matrix(y_test, predictions_test).ravel()\n",
        "\n",
        "    recall = tp / (tp + fn)\n",
        "    precision = tp / (tp + fp)\n",
        "    accuracy = (tp + tn) / (tp + fp + tn + fn)\n",
        "    \n",
        "    metrics_df[i] = [model_name, f1_testing, f1_training, recall, precision, accuracy, tp, fp, tn, fn]\n",
        "  \n",
        "  return metrics_df\n",
        "\n",
        "metrics = get_train_and_test_final_metrics([xgb_tuned, xgb_untuned], [\"Tuned XGBoost\", \"Untuned XGBoost\"], X_train_scaled_df.tail(500000), y_train.tail(500000).values.ravel(), X_test_scaled_df.head(100000), y_test.head(100000).values.ravel())\n",
        "\n"
      ],
      "execution_count": null,
      "outputs": []
    },
    {
      "cell_type": "markdown",
      "metadata": {
        "id": "tvT14QJKwydQ"
      },
      "source": [
        "Best Params for XGBoost:\n",
        "*   max_depth = 3\n",
        "*   n_estimators = 150\n",
        "*   min_child_weight = 3\n",
        "*   gamma = .2\n",
        "*   subsample = 3\n",
        "*   colsample_bytree = 3\n",
        "*   learning_rate = 0.1\n",
        "\n",
        "\n"
      ]
    },
    {
      "cell_type": "code",
      "metadata": {
        "id": "mdY71p5_qZjM"
      },
      "source": [
        "print(metrics)"
      ],
      "execution_count": null,
      "outputs": []
    },
    {
      "cell_type": "code",
      "metadata": {
        "colab": {
          "base_uri": "https://localhost:8080/",
          "height": 1000
        },
        "id": "hDeAg6lcAZpd",
        "outputId": "c6e38fc6-dee2-40d9-d1cb-afe2f1bf7578"
      },
      "source": [
        "def train_xgb(model, X_train, y_train, X_test, y_test):\n",
        "\n",
        "  # XGB Classifier\n",
        "  eval_set = [(X_train, y_train), (X_test, y_test)]\n",
        "\n",
        "  # Fit the classifier to the training set\n",
        "  model.fit(X_train, y_train, eval_metric=[\"aucpr\"], eval_set=eval_set, verbose=True)\n",
        "  results = model.evals_result()\n",
        "\n",
        "  # Predict the labels of the test set: preds\n",
        "  predictions = model.predict(X_test)\n",
        "\n",
        "  xgb.plot_importance(model)\n",
        "\n",
        "  return model\n",
        "\n",
        "model = train_xgb(xgb.XGBClassifier(objective='binary:logistic', seed=123, scale_pos_weight=172), X_train_scaled_df, y_train, X_test_scaled_df, y_test)\n",
        "\n",
        "predictions = model.predict(X_test_scaled_df)\n",
        "\n",
        "print(confusion_matrix(y_test, predictions))\n",
        "print(classification_report(y_test, predictions))\n",
        "f1 = f1_score(y_test, predictions)\n",
        "tn, fp, fn, tp = confusion_matrix(y_test, predictions).ravel()\n",
        "\n",
        "recall = tp / (tp + fn)\n",
        "specificity = tn / (fp + tn)\n",
        "precision = tp / (tp + fp)\n",
        "accuracy = (tp + tn) / (tp + fp + tn + fn)\n",
        "error = 1 - accuracy\n",
        "print(\"F1: \", f1)\n",
        "print(\"Recall: \", recall)\n",
        "print(\"Specificity: \", specificity)\n",
        "print(\"Precision: \", precision)\n",
        "print(\"Accuracy: \", accuracy)\n",
        "print(\"Error: \", error)"
      ],
      "execution_count": null,
      "outputs": [
        {
          "output_type": "stream",
          "text": [
            "/usr/local/lib/python3.7/dist-packages/sklearn/preprocessing/_label.py:235: DataConversionWarning: A column-vector y was passed when a 1d array was expected. Please change the shape of y to (n_samples, ), for example using ravel().\n",
            "  y = column_or_1d(y, warn=True)\n",
            "/usr/local/lib/python3.7/dist-packages/sklearn/preprocessing/_label.py:268: DataConversionWarning: A column-vector y was passed when a 1d array was expected. Please change the shape of y to (n_samples, ), for example using ravel().\n",
            "  y = column_or_1d(y, warn=True)\n"
          ],
          "name": "stderr"
        },
        {
          "output_type": "stream",
          "text": [
            "[0]\tvalidation_0-aucpr:0.229208\tvalidation_1-aucpr:0.089536\n",
            "[1]\tvalidation_0-aucpr:0.404353\tvalidation_1-aucpr:0.193185\n",
            "[2]\tvalidation_0-aucpr:0.411764\tvalidation_1-aucpr:0.20682\n",
            "[3]\tvalidation_0-aucpr:0.410199\tvalidation_1-aucpr:0.196935\n",
            "[4]\tvalidation_0-aucpr:0.413532\tvalidation_1-aucpr:0.208561\n",
            "[5]\tvalidation_0-aucpr:0.429582\tvalidation_1-aucpr:0.214611\n",
            "[6]\tvalidation_0-aucpr:0.429679\tvalidation_1-aucpr:0.214645\n",
            "[7]\tvalidation_0-aucpr:0.439594\tvalidation_1-aucpr:0.228769\n",
            "[8]\tvalidation_0-aucpr:0.452492\tvalidation_1-aucpr:0.237754\n",
            "[9]\tvalidation_0-aucpr:0.469782\tvalidation_1-aucpr:0.235728\n",
            "[10]\tvalidation_0-aucpr:0.494535\tvalidation_1-aucpr:0.256122\n",
            "[11]\tvalidation_0-aucpr:0.504627\tvalidation_1-aucpr:0.264186\n",
            "[12]\tvalidation_0-aucpr:0.505031\tvalidation_1-aucpr:0.262181\n",
            "[13]\tvalidation_0-aucpr:0.506889\tvalidation_1-aucpr:0.265664\n",
            "[14]\tvalidation_0-aucpr:0.506949\tvalidation_1-aucpr:0.265985\n",
            "[15]\tvalidation_0-aucpr:0.547526\tvalidation_1-aucpr:0.305617\n",
            "[16]\tvalidation_0-aucpr:0.549321\tvalidation_1-aucpr:0.304444\n",
            "[17]\tvalidation_0-aucpr:0.554796\tvalidation_1-aucpr:0.308666\n",
            "[18]\tvalidation_0-aucpr:0.555458\tvalidation_1-aucpr:0.308151\n",
            "[19]\tvalidation_0-aucpr:0.639783\tvalidation_1-aucpr:0.421642\n",
            "[20]\tvalidation_0-aucpr:0.644165\tvalidation_1-aucpr:0.425231\n",
            "[21]\tvalidation_0-aucpr:0.646634\tvalidation_1-aucpr:0.431391\n",
            "[22]\tvalidation_0-aucpr:0.652754\tvalidation_1-aucpr:0.434268\n",
            "[23]\tvalidation_0-aucpr:0.654473\tvalidation_1-aucpr:0.43417\n",
            "[24]\tvalidation_0-aucpr:0.655595\tvalidation_1-aucpr:0.434331\n",
            "[25]\tvalidation_0-aucpr:0.667273\tvalidation_1-aucpr:0.441626\n",
            "[26]\tvalidation_0-aucpr:0.667462\tvalidation_1-aucpr:0.442222\n",
            "[27]\tvalidation_0-aucpr:0.672102\tvalidation_1-aucpr:0.446395\n",
            "[28]\tvalidation_0-aucpr:0.698312\tvalidation_1-aucpr:0.48029\n",
            "[29]\tvalidation_0-aucpr:0.700067\tvalidation_1-aucpr:0.482755\n",
            "[30]\tvalidation_0-aucpr:0.706883\tvalidation_1-aucpr:0.489969\n",
            "[31]\tvalidation_0-aucpr:0.732752\tvalidation_1-aucpr:0.559408\n",
            "[32]\tvalidation_0-aucpr:0.733515\tvalidation_1-aucpr:0.558249\n",
            "[33]\tvalidation_0-aucpr:0.741168\tvalidation_1-aucpr:0.574341\n",
            "[34]\tvalidation_0-aucpr:0.741522\tvalidation_1-aucpr:0.574151\n",
            "[35]\tvalidation_0-aucpr:0.749359\tvalidation_1-aucpr:0.583675\n",
            "[36]\tvalidation_0-aucpr:0.75164\tvalidation_1-aucpr:0.584955\n",
            "[37]\tvalidation_0-aucpr:0.757462\tvalidation_1-aucpr:0.590437\n",
            "[38]\tvalidation_0-aucpr:0.758309\tvalidation_1-aucpr:0.591013\n",
            "[39]\tvalidation_0-aucpr:0.762464\tvalidation_1-aucpr:0.592286\n",
            "[40]\tvalidation_0-aucpr:0.7648\tvalidation_1-aucpr:0.593895\n",
            "[41]\tvalidation_0-aucpr:0.771575\tvalidation_1-aucpr:0.605756\n",
            "[42]\tvalidation_0-aucpr:0.773662\tvalidation_1-aucpr:0.610062\n",
            "[43]\tvalidation_0-aucpr:0.775933\tvalidation_1-aucpr:0.611476\n",
            "[44]\tvalidation_0-aucpr:0.78046\tvalidation_1-aucpr:0.619377\n",
            "[45]\tvalidation_0-aucpr:0.78268\tvalidation_1-aucpr:0.621759\n",
            "[46]\tvalidation_0-aucpr:0.785643\tvalidation_1-aucpr:0.625183\n",
            "[47]\tvalidation_0-aucpr:0.790052\tvalidation_1-aucpr:0.632711\n",
            "[48]\tvalidation_0-aucpr:0.791307\tvalidation_1-aucpr:0.633145\n",
            "[49]\tvalidation_0-aucpr:0.793291\tvalidation_1-aucpr:0.635359\n",
            "[50]\tvalidation_0-aucpr:0.797836\tvalidation_1-aucpr:0.638868\n",
            "[51]\tvalidation_0-aucpr:0.806201\tvalidation_1-aucpr:0.65031\n",
            "[52]\tvalidation_0-aucpr:0.808001\tvalidation_1-aucpr:0.652831\n",
            "[53]\tvalidation_0-aucpr:0.810473\tvalidation_1-aucpr:0.657475\n",
            "[54]\tvalidation_0-aucpr:0.815921\tvalidation_1-aucpr:0.664881\n",
            "[55]\tvalidation_0-aucpr:0.818917\tvalidation_1-aucpr:0.668102\n",
            "[56]\tvalidation_0-aucpr:0.820803\tvalidation_1-aucpr:0.670227\n",
            "[57]\tvalidation_0-aucpr:0.821968\tvalidation_1-aucpr:0.670773\n",
            "[58]\tvalidation_0-aucpr:0.823863\tvalidation_1-aucpr:0.671652\n",
            "[59]\tvalidation_0-aucpr:0.823371\tvalidation_1-aucpr:0.669836\n",
            "[60]\tvalidation_0-aucpr:0.825522\tvalidation_1-aucpr:0.670632\n",
            "[61]\tvalidation_0-aucpr:0.825652\tvalidation_1-aucpr:0.670294\n",
            "[62]\tvalidation_0-aucpr:0.828339\tvalidation_1-aucpr:0.675637\n",
            "[63]\tvalidation_0-aucpr:0.829501\tvalidation_1-aucpr:0.675694\n",
            "[64]\tvalidation_0-aucpr:0.831185\tvalidation_1-aucpr:0.677276\n",
            "[65]\tvalidation_0-aucpr:0.832851\tvalidation_1-aucpr:0.679281\n",
            "[66]\tvalidation_0-aucpr:0.833835\tvalidation_1-aucpr:0.67975\n",
            "[67]\tvalidation_0-aucpr:0.83633\tvalidation_1-aucpr:0.683408\n",
            "[68]\tvalidation_0-aucpr:0.837284\tvalidation_1-aucpr:0.682133\n",
            "[69]\tvalidation_0-aucpr:0.838172\tvalidation_1-aucpr:0.683063\n",
            "[70]\tvalidation_0-aucpr:0.84129\tvalidation_1-aucpr:0.687349\n",
            "[71]\tvalidation_0-aucpr:0.842577\tvalidation_1-aucpr:0.688631\n",
            "[72]\tvalidation_0-aucpr:0.845102\tvalidation_1-aucpr:0.693061\n",
            "[73]\tvalidation_0-aucpr:0.84515\tvalidation_1-aucpr:0.692087\n",
            "[74]\tvalidation_0-aucpr:0.847465\tvalidation_1-aucpr:0.694338\n",
            "[75]\tvalidation_0-aucpr:0.848135\tvalidation_1-aucpr:0.695052\n",
            "[76]\tvalidation_0-aucpr:0.848833\tvalidation_1-aucpr:0.69586\n",
            "[77]\tvalidation_0-aucpr:0.849233\tvalidation_1-aucpr:0.696238\n",
            "[78]\tvalidation_0-aucpr:0.850232\tvalidation_1-aucpr:0.697663\n",
            "[79]\tvalidation_0-aucpr:0.85044\tvalidation_1-aucpr:0.695824\n",
            "[80]\tvalidation_0-aucpr:0.852337\tvalidation_1-aucpr:0.698582\n",
            "[81]\tvalidation_0-aucpr:0.854588\tvalidation_1-aucpr:0.700755\n",
            "[82]\tvalidation_0-aucpr:0.854694\tvalidation_1-aucpr:0.701146\n",
            "[83]\tvalidation_0-aucpr:0.856374\tvalidation_1-aucpr:0.704236\n",
            "[84]\tvalidation_0-aucpr:0.857821\tvalidation_1-aucpr:0.705484\n",
            "[85]\tvalidation_0-aucpr:0.860907\tvalidation_1-aucpr:0.711274\n",
            "[86]\tvalidation_0-aucpr:0.862183\tvalidation_1-aucpr:0.713522\n",
            "[87]\tvalidation_0-aucpr:0.863068\tvalidation_1-aucpr:0.7144\n",
            "[88]\tvalidation_0-aucpr:0.863867\tvalidation_1-aucpr:0.715321\n",
            "[89]\tvalidation_0-aucpr:0.863875\tvalidation_1-aucpr:0.715527\n",
            "[90]\tvalidation_0-aucpr:0.865104\tvalidation_1-aucpr:0.716634\n",
            "[91]\tvalidation_0-aucpr:0.865653\tvalidation_1-aucpr:0.716966\n",
            "[92]\tvalidation_0-aucpr:0.866447\tvalidation_1-aucpr:0.718092\n",
            "[93]\tvalidation_0-aucpr:0.866407\tvalidation_1-aucpr:0.718837\n",
            "[94]\tvalidation_0-aucpr:0.866722\tvalidation_1-aucpr:0.719449\n",
            "[95]\tvalidation_0-aucpr:0.867202\tvalidation_1-aucpr:0.719937\n",
            "[96]\tvalidation_0-aucpr:0.869613\tvalidation_1-aucpr:0.723329\n",
            "[97]\tvalidation_0-aucpr:0.870215\tvalidation_1-aucpr:0.724165\n",
            "[98]\tvalidation_0-aucpr:0.870724\tvalidation_1-aucpr:0.724627\n",
            "[99]\tvalidation_0-aucpr:0.871755\tvalidation_1-aucpr:0.725649\n",
            "[[533951  19623]\n",
            " [   108   2037]]\n",
            "              precision    recall  f1-score   support\n",
            "\n",
            "           0       1.00      0.96      0.98    553574\n",
            "           1       0.09      0.95      0.17      2145\n",
            "\n",
            "    accuracy                           0.96    555719\n",
            "   macro avg       0.55      0.96      0.58    555719\n",
            "weighted avg       1.00      0.96      0.98    555719\n",
            "\n",
            "F1:  0.17114051669817268\n",
            "Recall:  0.9496503496503497\n",
            "Specificity:  0.9645521646609125\n",
            "Precision:  0.09404432132963988\n",
            "Accuracy:  0.9644946456752423\n",
            "Error:  0.035505354324757654\n"
          ],
          "name": "stdout"
        },
        {
          "output_type": "display_data",
          "data": {
            "image/png": "[encoded data removed]",
            "text/plain": [
              "<Figure size 432x288 with 1 Axes>"
            ]
          },
          "metadata": {
            "tags": [],
            "needs_background": "light"
          }
        }
      ]
    },
    {
      "cell_type": "code",
      "metadata": {
        "id": "P8fWLi6ne2AG",
        "colab": {
          "base_uri": "https://localhost:8080/"
        },
        "outputId": "35eb41e8-d46c-4d44-d2ef-04c4213ccc12"
      },
      "source": [
        ""
      ],
      "execution_count": null,
      "outputs": [
        {
          "output_type": "stream",
          "text": [
            "/usr/local/lib/python3.7/dist-packages/sklearn/utils/validation.py:760: DataConversionWarning: A column-vector y was passed when a 1d array was expected. Please change the shape of y to (n_samples, ), for example using ravel().\n",
            "  y = column_or_1d(y, warn=True)\n"
          ],
          "name": "stderr"
        },
        {
          "output_type": "stream",
          "text": [
            "ROC AUC score for undersampled data:  0.5640515583681343\n"
          ],
          "name": "stdout"
        }
      ]
    },
    {
      "cell_type": "code",
      "metadata": {
        "id": "PGfaV9Xf-fxK"
      },
      "source": [
        ""
      ],
      "execution_count": null,
      "outputs": []
    },
    {
      "cell_type": "code",
      "metadata": {
        "colab": {
          "base_uri": "https://localhost:8080/"
        },
        "id": "rbyFxK487i0f",
        "outputId": "3057169c-326a-431a-b1b5-5c87d24e5302"
      },
      "source": [
        ""
      ],
      "execution_count": null,
      "outputs": [
        {
          "output_type": "stream",
          "text": [
            "[[49674   127]\n",
            " [  173    26]]\n",
            "              precision    recall  f1-score   support\n",
            "\n",
            "           0       1.00      1.00      1.00     49801\n",
            "           1       0.17      0.13      0.15       199\n",
            "\n",
            "    accuracy                           0.99     50000\n",
            "   macro avg       0.58      0.56      0.57     50000\n",
            "weighted avg       0.99      0.99      0.99     50000\n",
            "\n",
            "--------------------------------------------------------\n",
            "[[47094  2458]\n",
            " [    0   448]]\n",
            "              precision    recall  f1-score   support\n",
            "\n",
            "           0       1.00      0.95      0.97     49552\n",
            "           1       0.15      1.00      0.27       448\n",
            "\n",
            "    accuracy                           0.95     50000\n",
            "   macro avg       0.58      0.98      0.62     50000\n",
            "weighted avg       0.99      0.95      0.97     50000\n",
            "\n"
          ],
          "name": "stdout"
        }
      ]
    },
    {
      "cell_type": "code",
      "metadata": {
        "id": "VcrKrbZ8_QTz",
        "colab": {
          "base_uri": "https://localhost:8080/"
        },
        "outputId": "6daa8f5b-84fa-4f7e-b4ae-001a117f9fef"
      },
      "source": [
        ""
      ],
      "execution_count": null,
      "outputs": [
        {
          "output_type": "stream",
          "text": [
            "              precision    recall  f1-score   support\n",
            "\n",
            "           0       1.00      0.97      0.98     55381\n",
            "           1       0.07      0.78      0.13       191\n",
            "\n",
            "    accuracy                           0.97     55572\n",
            "   macro avg       0.54      0.87      0.56     55572\n",
            "weighted avg       1.00      0.97      0.98     55572\n",
            "\n",
            "              precision    recall  f1-score   support\n",
            "\n",
            "           0       0.99      0.99      0.99     75060\n",
            "           1       0.93      0.88      0.91      7506\n",
            "\n",
            "    accuracy                           0.98     82566\n",
            "   macro avg       0.96      0.94      0.95     82566\n",
            "weighted avg       0.98      0.98      0.98     82566\n",
            "\n"
          ],
          "name": "stdout"
        }
      ]
    },
    {
      "cell_type": "code",
      "metadata": {
        "colab": {
          "base_uri": "https://localhost:8080/"
        },
        "id": "jdzWEtv14XbO",
        "outputId": "6ef42b3d-a4ab-4f0c-c218-10ce1957341a"
      },
      "source": [
        ""
      ],
      "execution_count": null,
      "outputs": [
        {
          "output_type": "stream",
          "text": [
            "[[53490  1891]\n",
            " [   42   149]]\n"
          ],
          "name": "stdout"
        }
      ]
    }
  ]
}