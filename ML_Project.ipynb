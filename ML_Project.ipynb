{
  "nbformat": 4,
  "nbformat_minor": 0,
  "metadata": {
    "colab": {
      "name": "ML_Project.ipynb",
      "provenance": [],
      "collapsed_sections": []
    },
    "kernelspec": {
      "name": "python3",
      "display_name": "Python 3"
    },
    "language_info": {
      "name": "python"
    },
    "accelerator": "GPU"
  },
  "cells": [
    {
      "cell_type": "code",
      "metadata": {
        "id": "Eq220dP-rATf",
        "colab": {
          "base_uri": "https://localhost:8080/",
          "height": 35
        },
        "outputId": "a20694b3-baf4-4f33-d7fe-63858b8b0fad"
      },
      "source": [
        "#!pip install tscv\n",
        "import pandas as pd\n",
        "import numpy as np\n",
        "import seaborn as sns\n",
        "import matplotlib.pyplot as plt\n",
        "import tensorflow as tf\n",
        "tf.test.gpu_device_name()"
      ],
      "execution_count": 1,
      "outputs": [
        {
          "output_type": "execute_result",
          "data": {
            "application/vnd.google.colaboratory.intrinsic+json": {
              "type": "string"
            },
            "text/plain": [
              "''"
            ]
          },
          "metadata": {
            "tags": []
          },
          "execution_count": 1
        }
      ]
    },
    {
      "cell_type": "markdown",
      "metadata": {
        "id": "PmSs3i72_jHr"
      },
      "source": [
        "- Collect average transaction size for a credit card\n",
        "- Average longitude and latitude of transactions\n",
        "- Average time of transaction\n",
        "- "
      ]
    },
    {
      "cell_type": "code",
      "metadata": {
        "colab": {
          "base_uri": "https://localhost:8080/"
        },
        "id": "T0dGWa4YF8RH",
        "outputId": "605d8a74-1f73-4e23-a73c-88c8752bdf97"
      },
      "source": [
        "from google.colab import drive\n",
        "drive.mount('/content/gdrive')"
      ],
      "execution_count": 2,
      "outputs": [
        {
          "output_type": "stream",
          "text": [
            "Mounted at /content/gdrive\n"
          ],
          "name": "stdout"
        }
      ]
    },
    {
      "cell_type": "code",
      "metadata": {
        "id": "zsZbho0eF99A"
      },
      "source": [
        "folder_location = '/content/gdrive/MyDrive/Colab Notebooks/DS4400: ML Project/' \n",
        "training = pd.read_csv(folder_location + 'fraudTrain.csv')  \n",
        "# testing = pd.read_csv(folder_location + 'fraudTest.csv')\n",
        "X_train = pd.read_csv(folder_location + 'X_train_eng.csv').drop([\"Unnamed: 0\"], axis=1)\n",
        "y_train = pd.read_csv(folder_location + 'y_train.csv').drop([\"Unnamed: 0\"], axis=1)  \n",
        "X_test = pd.read_csv(folder_location + 'X_test_agg.csv').drop([\"Unnamed: 0\", \"is_fraud\"], axis=1)  \n",
        "y_test = pd.read_csv(folder_location + 'y_test.csv').drop([\"Unnamed: 0\"], axis=1)   \n"
      ],
      "execution_count": 29,
      "outputs": []
    },
    {
      "cell_type": "code",
      "metadata": {
        "colab": {
          "base_uri": "https://localhost:8080/",
          "height": 224
        },
        "id": "EIvRlXKiJP5V",
        "outputId": "9c321a55-2957-4774-e526-7d8d7d54bf54"
      },
      "source": [
        "X_test.head()"
      ],
      "execution_count": null,
      "outputs": [
        {
          "output_type": "execute_result",
          "data": {
            "text/html": [
              "<div>\n",
              "<style scoped>\n",
              "    .dataframe tbody tr th:only-of-type {\n",
              "        vertical-align: middle;\n",
              "    }\n",
              "\n",
              "    .dataframe tbody tr th {\n",
              "        vertical-align: top;\n",
              "    }\n",
              "\n",
              "    .dataframe thead th {\n",
              "        text-align: right;\n",
              "    }\n",
              "</style>\n",
              "<table border=\"1\" class=\"dataframe\">\n",
              "  <thead>\n",
              "    <tr style=\"text-align: right;\">\n",
              "      <th></th>\n",
              "      <th>amt</th>\n",
              "      <th>lat</th>\n",
              "      <th>long</th>\n",
              "      <th>city_pop</th>\n",
              "      <th>merch_lat</th>\n",
              "      <th>merch_long</th>\n",
              "      <th>hour</th>\n",
              "      <th>day</th>\n",
              "      <th>month</th>\n",
              "      <th>dob_year</th>\n",
              "      <th>is_man</th>\n",
              "      <th>category_entertainment</th>\n",
              "      <th>category_food_dining</th>\n",
              "      <th>category_gas_transport</th>\n",
              "      <th>category_grocery_net</th>\n",
              "      <th>category_grocery_pos</th>\n",
              "      <th>category_health_fitness</th>\n",
              "      <th>category_home</th>\n",
              "      <th>category_kids_pets</th>\n",
              "      <th>category_misc_net</th>\n",
              "      <th>category_misc_pos</th>\n",
              "      <th>category_personal_care</th>\n",
              "      <th>category_shopping_net</th>\n",
              "      <th>category_shopping_pos</th>\n",
              "      <th>category_travel</th>\n",
              "      <th>amt_mean</th>\n",
              "      <th>amt_std</th>\n",
              "      <th>amt_count</th>\n",
              "      <th>merch_lat_mean</th>\n",
              "      <th>merch_lat_std</th>\n",
              "      <th>merch_long_mean</th>\n",
              "      <th>merch_long_std</th>\n",
              "      <th>is_fraud_mean</th>\n",
              "      <th>is_fraud_std</th>\n",
              "      <th>previous_frauds_for_cc_num</th>\n",
              "    </tr>\n",
              "  </thead>\n",
              "  <tbody>\n",
              "    <tr>\n",
              "      <th>0</th>\n",
              "      <td>2.86</td>\n",
              "      <td>33.9659</td>\n",
              "      <td>-80.9355</td>\n",
              "      <td>333497.0</td>\n",
              "      <td>33.986391</td>\n",
              "      <td>-81.200714</td>\n",
              "      <td>12.0</td>\n",
              "      <td>21.0</td>\n",
              "      <td>6.0</td>\n",
              "      <td>1968.0</td>\n",
              "      <td>1.0</td>\n",
              "      <td>0.0</td>\n",
              "      <td>0.0</td>\n",
              "      <td>0.0</td>\n",
              "      <td>0.0</td>\n",
              "      <td>0.0</td>\n",
              "      <td>0.0</td>\n",
              "      <td>0.0</td>\n",
              "      <td>0.0</td>\n",
              "      <td>0.0</td>\n",
              "      <td>0.0</td>\n",
              "      <td>1.0</td>\n",
              "      <td>0.0</td>\n",
              "      <td>0.0</td>\n",
              "      <td>0.0</td>\n",
              "      <td>70.342391</td>\n",
              "      <td>118.109567</td>\n",
              "      <td>1560.0</td>\n",
              "      <td>33.980540</td>\n",
              "      <td>0.575023</td>\n",
              "      <td>-80.922132</td>\n",
              "      <td>0.582744</td>\n",
              "      <td>0.007692</td>\n",
              "      <td>0.087396</td>\n",
              "      <td>12.0</td>\n",
              "    </tr>\n",
              "    <tr>\n",
              "      <th>1</th>\n",
              "      <td>29.84</td>\n",
              "      <td>40.3207</td>\n",
              "      <td>-110.4360</td>\n",
              "      <td>302.0</td>\n",
              "      <td>39.450498</td>\n",
              "      <td>-109.960431</td>\n",
              "      <td>12.0</td>\n",
              "      <td>21.0</td>\n",
              "      <td>6.0</td>\n",
              "      <td>1990.0</td>\n",
              "      <td>0.0</td>\n",
              "      <td>0.0</td>\n",
              "      <td>0.0</td>\n",
              "      <td>0.0</td>\n",
              "      <td>0.0</td>\n",
              "      <td>0.0</td>\n",
              "      <td>0.0</td>\n",
              "      <td>0.0</td>\n",
              "      <td>0.0</td>\n",
              "      <td>0.0</td>\n",
              "      <td>0.0</td>\n",
              "      <td>1.0</td>\n",
              "      <td>0.0</td>\n",
              "      <td>0.0</td>\n",
              "      <td>0.0</td>\n",
              "      <td>61.098496</td>\n",
              "      <td>166.416141</td>\n",
              "      <td>2088.0</td>\n",
              "      <td>40.316103</td>\n",
              "      <td>0.585210</td>\n",
              "      <td>-110.442382</td>\n",
              "      <td>0.587786</td>\n",
              "      <td>0.006705</td>\n",
              "      <td>0.081629</td>\n",
              "      <td>14.0</td>\n",
              "    </tr>\n",
              "    <tr>\n",
              "      <th>2</th>\n",
              "      <td>41.28</td>\n",
              "      <td>40.6729</td>\n",
              "      <td>-73.5365</td>\n",
              "      <td>34496.0</td>\n",
              "      <td>40.495810</td>\n",
              "      <td>-74.196111</td>\n",
              "      <td>12.0</td>\n",
              "      <td>21.0</td>\n",
              "      <td>6.0</td>\n",
              "      <td>1970.0</td>\n",
              "      <td>0.0</td>\n",
              "      <td>0.0</td>\n",
              "      <td>0.0</td>\n",
              "      <td>0.0</td>\n",
              "      <td>0.0</td>\n",
              "      <td>0.0</td>\n",
              "      <td>1.0</td>\n",
              "      <td>0.0</td>\n",
              "      <td>0.0</td>\n",
              "      <td>0.0</td>\n",
              "      <td>0.0</td>\n",
              "      <td>0.0</td>\n",
              "      <td>0.0</td>\n",
              "      <td>0.0</td>\n",
              "      <td>0.0</td>\n",
              "      <td>89.316537</td>\n",
              "      <td>123.286104</td>\n",
              "      <td>2576.0</td>\n",
              "      <td>40.662390</td>\n",
              "      <td>0.582850</td>\n",
              "      <td>-73.541263</td>\n",
              "      <td>0.576205</td>\n",
              "      <td>0.002717</td>\n",
              "      <td>0.052068</td>\n",
              "      <td>7.0</td>\n",
              "    </tr>\n",
              "    <tr>\n",
              "      <th>3</th>\n",
              "      <td>60.05</td>\n",
              "      <td>28.5697</td>\n",
              "      <td>-80.8191</td>\n",
              "      <td>54767.0</td>\n",
              "      <td>28.812398</td>\n",
              "      <td>-80.883061</td>\n",
              "      <td>12.0</td>\n",
              "      <td>21.0</td>\n",
              "      <td>6.0</td>\n",
              "      <td>1987.0</td>\n",
              "      <td>1.0</td>\n",
              "      <td>0.0</td>\n",
              "      <td>0.0</td>\n",
              "      <td>0.0</td>\n",
              "      <td>0.0</td>\n",
              "      <td>0.0</td>\n",
              "      <td>0.0</td>\n",
              "      <td>0.0</td>\n",
              "      <td>0.0</td>\n",
              "      <td>0.0</td>\n",
              "      <td>1.0</td>\n",
              "      <td>0.0</td>\n",
              "      <td>0.0</td>\n",
              "      <td>0.0</td>\n",
              "      <td>0.0</td>\n",
              "      <td>57.931108</td>\n",
              "      <td>171.160374</td>\n",
              "      <td>1525.0</td>\n",
              "      <td>28.567516</td>\n",
              "      <td>0.582734</td>\n",
              "      <td>-80.813815</td>\n",
              "      <td>0.572814</td>\n",
              "      <td>0.000000</td>\n",
              "      <td>0.000000</td>\n",
              "      <td>0.0</td>\n",
              "    </tr>\n",
              "    <tr>\n",
              "      <th>4</th>\n",
              "      <td>3.19</td>\n",
              "      <td>44.2529</td>\n",
              "      <td>-85.0170</td>\n",
              "      <td>1126.0</td>\n",
              "      <td>44.959148</td>\n",
              "      <td>-85.884734</td>\n",
              "      <td>12.0</td>\n",
              "      <td>21.0</td>\n",
              "      <td>6.0</td>\n",
              "      <td>1955.0</td>\n",
              "      <td>1.0</td>\n",
              "      <td>0.0</td>\n",
              "      <td>0.0</td>\n",
              "      <td>0.0</td>\n",
              "      <td>0.0</td>\n",
              "      <td>0.0</td>\n",
              "      <td>0.0</td>\n",
              "      <td>0.0</td>\n",
              "      <td>0.0</td>\n",
              "      <td>0.0</td>\n",
              "      <td>0.0</td>\n",
              "      <td>0.0</td>\n",
              "      <td>0.0</td>\n",
              "      <td>0.0</td>\n",
              "      <td>1.0</td>\n",
              "      <td>63.708367</td>\n",
              "      <td>103.482670</td>\n",
              "      <td>2033.0</td>\n",
              "      <td>44.247603</td>\n",
              "      <td>0.577471</td>\n",
              "      <td>-85.031989</td>\n",
              "      <td>0.567166</td>\n",
              "      <td>0.005411</td>\n",
              "      <td>0.073376</td>\n",
              "      <td>11.0</td>\n",
              "    </tr>\n",
              "  </tbody>\n",
              "</table>\n",
              "</div>"
            ],
            "text/plain": [
              "     amt      lat  ...  is_fraud_std  previous_frauds_for_cc_num\n",
              "0   2.86  33.9659  ...      0.087396                        12.0\n",
              "1  29.84  40.3207  ...      0.081629                        14.0\n",
              "2  41.28  40.6729  ...      0.052068                         7.0\n",
              "3  60.05  28.5697  ...      0.000000                         0.0\n",
              "4   3.19  44.2529  ...      0.073376                        11.0\n",
              "\n",
              "[5 rows x 35 columns]"
            ]
          },
          "metadata": {
            "tags": []
          },
          "execution_count": 44
        }
      ]
    },
    {
      "cell_type": "code",
      "metadata": {
        "colab": {
          "base_uri": "https://localhost:8080/",
          "height": 214
        },
        "id": "30fyFZkAtiV5",
        "outputId": "abe7e3c7-e242-4a0d-89b9-72652874f557"
      },
      "source": [
        "# visualize the target variable - clearly our data is highly imbalanced and something must be done to fix this issue\n",
        "g = sns.countplot(testing['is_fraud'])\n",
        "g.set_xticklabels(['Not Fraud','Fraud'])\n",
        "plt.show()"
      ],
      "execution_count": null,
      "outputs": [
        {
          "output_type": "error",
          "ename": "NameError",
          "evalue": "ignored",
          "traceback": [
            "\u001b[0;31m---------------------------------------------------------------------------\u001b[0m",
            "\u001b[0;31mNameError\u001b[0m                                 Traceback (most recent call last)",
            "\u001b[0;32m<ipython-input-43-c3ad7c3f6203>\u001b[0m in \u001b[0;36m<module>\u001b[0;34m()\u001b[0m\n\u001b[1;32m      1\u001b[0m \u001b[0;31m# visualize the target variable - clearly our data is highly imbalanced and something must be done to fix this issue\u001b[0m\u001b[0;34m\u001b[0m\u001b[0;34m\u001b[0m\u001b[0;34m\u001b[0m\u001b[0m\n\u001b[0;32m----> 2\u001b[0;31m \u001b[0mg\u001b[0m \u001b[0;34m=\u001b[0m \u001b[0msns\u001b[0m\u001b[0;34m.\u001b[0m\u001b[0mcountplot\u001b[0m\u001b[0;34m(\u001b[0m\u001b[0mtesting\u001b[0m\u001b[0;34m[\u001b[0m\u001b[0;34m'is_fraud'\u001b[0m\u001b[0;34m]\u001b[0m\u001b[0;34m)\u001b[0m\u001b[0;34m\u001b[0m\u001b[0;34m\u001b[0m\u001b[0m\n\u001b[0m\u001b[1;32m      3\u001b[0m \u001b[0mg\u001b[0m\u001b[0;34m.\u001b[0m\u001b[0mset_xticklabels\u001b[0m\u001b[0;34m(\u001b[0m\u001b[0;34m[\u001b[0m\u001b[0;34m'Not Fraud'\u001b[0m\u001b[0;34m,\u001b[0m\u001b[0;34m'Fraud'\u001b[0m\u001b[0;34m]\u001b[0m\u001b[0;34m)\u001b[0m\u001b[0;34m\u001b[0m\u001b[0;34m\u001b[0m\u001b[0m\n\u001b[1;32m      4\u001b[0m \u001b[0mplt\u001b[0m\u001b[0;34m.\u001b[0m\u001b[0mshow\u001b[0m\u001b[0;34m(\u001b[0m\u001b[0;34m)\u001b[0m\u001b[0;34m\u001b[0m\u001b[0;34m\u001b[0m\u001b[0m\n",
            "\u001b[0;31mNameError\u001b[0m: name 'testing' is not defined"
          ]
        }
      ]
    },
    {
      "cell_type": "code",
      "metadata": {
        "id": "K9Seoh3iLCB3",
        "outputId": "8b3d4233-0e97-4f72-d0ef-775f7804535c",
        "colab": {
          "base_uri": "https://localhost:8080/",
          "height": 865
        }
      },
      "source": [
        "corr = X_train.corr()\n",
        "plt.figure(figsize=(14,12))\n",
        "heat = sns.heatmap(data=corr)\n",
        "plt.title(\"Heatmap of Feature Correlation\")\n"
      ],
      "execution_count": 7,
      "outputs": [
        {
          "output_type": "execute_result",
          "data": {
            "text/plain": [
              "Text(0.5, 1.0, 'Heatmap of Feature Correlation')"
            ]
          },
          "metadata": {
            "tags": []
          },
          "execution_count": 7
        },
        {
          "output_type": "display_data",
          "data": {
            "image/png": "[encoded data removed]",
            "text/plain": [
              "<Figure size 1008x864 with 2 Axes>"
            ]
          },
          "metadata": {
            "tags": [],
            "needs_background": "light"
          }
        }
      ]
    },
    {
      "cell_type": "code",
      "metadata": {
        "id": "4BzipXgSd__i",
        "outputId": "7e7997a9-b4d5-4148-f5fc-58fd71e8b3c2",
        "colab": {
          "base_uri": "https://localhost:8080/",
          "height": 638
        }
      },
      "source": [
        "is_fraud_by_hour = X_train[['hour', \"is_fraud\"]]\n",
        "is_fraud_by_hour_agg = is_fraud_by_hour.groupby([\"hour\"]).agg(\"mean\")\n",
        "plt.figure(figsize=(12,10))\n",
        "plt.title(\"Average Percentage of Fraud Transactions By Hour\")\n",
        "sns.barplot(x=is_fraud_by_hour_agg.index, y=is_fraud_by_hour_agg['is_fraud'])"
      ],
      "execution_count": 21,
      "outputs": [
        {
          "output_type": "execute_result",
          "data": {
            "text/plain": [
              "<matplotlib.axes._subplots.AxesSubplot at 0x7ff408288ad0>"
            ]
          },
          "metadata": {
            "tags": []
          },
          "execution_count": 21
        },
        {
          "output_type": "display_data",
          "data": {
            "image/png": "[encoded data removed]",
            "text/plain": [
              "<Figure size 864x720 with 1 Axes>"
            ]
          },
          "metadata": {
            "tags": [],
            "needs_background": "light"
          }
        }
      ]
    },
    {
      "cell_type": "code",
      "metadata": {
        "id": "qsy33ucGXf_7",
        "outputId": "0a287def-078d-42d1-8e09-dc981b863267",
        "colab": {
          "base_uri": "https://localhost:8080/",
          "height": 586
        }
      },
      "source": [
        "plt.figure(figsize=(10,8))\n",
        "plt.title(\"Distribution of Monetary Value Feature\")\n",
        "sns.distplot(X_train['amt'])"
      ],
      "execution_count": 23,
      "outputs": [
        {
          "output_type": "stream",
          "text": [
            "/usr/local/lib/python3.7/dist-packages/seaborn/distributions.py:2557: FutureWarning: `distplot` is a deprecated function and will be removed in a future version. Please adapt your code to use either `displot` (a figure-level function with similar flexibility) or `histplot` (an axes-level function for histograms).\n",
            "  warnings.warn(msg, FutureWarning)\n"
          ],
          "name": "stderr"
        },
        {
          "output_type": "execute_result",
          "data": {
            "text/plain": [
              "<matplotlib.axes._subplots.AxesSubplot at 0x7ff404de1650>"
            ]
          },
          "metadata": {
            "tags": []
          },
          "execution_count": 23
        },
        {
          "output_type": "display_data",
          "data": {
            "image/png": "[encoded data removed]",
            "text/plain": [
              "<Figure size 720x576 with 1 Axes>"
            ]
          },
          "metadata": {
            "tags": [],
            "needs_background": "light"
          }
        }
      ]
    },
    {
      "cell_type": "code",
      "metadata": {
        "id": "q1KlsP_7Z4sb"
      },
      "source": [
        "from time import mktime\n",
        "from sklearn.preprocessing import MinMaxScaler\n",
        "\n",
        "def normalize_features(X_train, X_test):\n",
        "  scaler = MinMaxScaler()\n",
        "  X_train_scaled = pd.DataFrame(data=scaler.fit_transform(X_train), columns=X_train.columns)\n",
        "  X_test_scaled = pd.DataFrame(data=scaler.transform(X_test), columns=X_train.columns)\n",
        "  return X_train_scaled, X_test_scaled\n",
        "\n",
        "def engineer_datetime(df):\n",
        "  df[\"datetime\"] = df[\"trans_date_trans_time\"].apply(pd.to_datetime)\n",
        "  df[\"hour\"] = df[\"datetime\"].dt.hour\n",
        "  df[\"day\"] = df[\"datetime\"].dt.day\n",
        "  df[\"month\"] = df[\"datetime\"].dt.month\n",
        "  df[\"unix_purchase_time\"] = df[\"datetime\"].apply(lambda dt: mktime(dt.timetuple()))\n",
        "  dob_dt = df[\"dob\"].apply(pd.to_datetime)\n",
        "  dob_year = dob_dt.dt.year \n",
        "  df[\"dob_year\"] = dob_year\n",
        "  df[\"unix_dob\"] = dob_dt.apply(lambda dt: mktime(dt.timetuple()))\n",
        "  df = df.drop([\"trans_date_trans_time\", \"dob\"], axis=1)\n",
        "  return df\n",
        "\n",
        "def engineer_features(df):\n",
        "  df = engineer_datetime(df)\n",
        "  df = df.drop([\"state\", \"city\", \"Unnamed: 0\", \"merchant\", \"first\", \"last\", \"street\", \"zip\", \"job\", \"unix_time\"], axis=1)\n",
        "  df[\"is_man\"] = df[\"gender\"].apply(lambda x: 0 if x == \"F\" else 1)\n",
        "  df = df.drop(\"gender\", axis=1)\n",
        "  df.reset_index(inplace=True)\n",
        "  #df = pd.DataFrame(df, dtype={'amt': float, 'lat': float, 'long': float, 'city_pop': float, 'merch_lat': float, 'merch_long': float})\n",
        "  df = df.astype({'amt': float, 'lat': float, 'long': float, 'city_pop': float, 'merch_lat': float, 'merch_long': float})\n",
        "  obj_df = df.select_dtypes(include=['object']).copy()\n",
        "  obj_df_encoded = pd.get_dummies(obj_df, columns=[\"category\"], prefix=[\"category\"])\n",
        "  df = df.drop([\"category\"], axis=1)\n",
        "  obj_df_encoded.reset_index(inplace=True)\n",
        "  df = pd.concat([df,obj_df_encoded],axis=1).drop(\"index\", axis=1)\n",
        "  df = df.loc[:,~df.columns.duplicated()]\n",
        "  means = df.apply(concat_averages, frame=df, axis=1)\n",
        "  df = df.merge(means, left_on='trans_num', right_on='trans_num')\n",
        "  df.drop(['datetime', 'cc_num', 'trans_num'], axis=1, inplace=True)\n",
        "  return df\n",
        "\n",
        "\n",
        "def f(x):\n",
        "    d = {}\n",
        "    d['amt_mean'] = x['amt'].mean()\n",
        "    d['amt_std'] = x['amt'].std()\n",
        "    d['amt_count'] = x['amt'].count()\n",
        "    d['merch_lat_mean'] = x['merch_lat'].mean()\n",
        "    d['merch_lat_std'] = x['merch_lat'].std()\n",
        "    d['merch_long_mean'] = x['merch_long'].mean()\n",
        "    d['merch_long_std'] = x['merch_long'].std()\n",
        "    d['is_fraud_mean'] = x['is_fraud'].mean()\n",
        "    d['is_fraud_std'] = x['is_fraud'].std()\n",
        "    d['previous_frauds_for_cc_num'] = d['amt_count'] * d['is_fraud_mean']\n",
        "    return pd.Series(d, index=['amt_mean', 'amt_std', 'amt_count', 'merch_lat_mean', 'merch_lat_std', 'merch_long_mean', 'merch_long_std', 'is_fraud_mean', 'is_fraud_std', 'previous_frauds_for_cc_num'])\n",
        "\n",
        "def concat_averages(row, frame):\n",
        "  date = row['datetime']\n",
        "  cc_num = row['cc_num']\n",
        "  frame_before_date = frame.loc[ (frame[\"cc_num\"] == cc_num) & (frame['datetime'] < date)].copy()\n",
        "  frame_before_date.drop(columns=['city_pop', 'lat', 'long'], inplace=True)\n",
        "  cc_averages = frame_before_date.groupby(\"cc_num\").apply(f)\n",
        "  cc_averages = cc_averages.fillna(0)\n",
        "  indices = ['amt_mean', 'amt_std', 'amt_count', 'merch_lat_mean', 'merch_lat_std', 'merch_long_mean', 'merch_long_std', 'is_fraud_mean', 'is_fraud_std', 'previous_frauds_for_cc_num']\n",
        "  if len(cc_averages.values) == 0:\n",
        "    zeros = np.zeros(len(indices))\n",
        "    series = pd.Series(zeros, index=indices)\n",
        "  else:\n",
        "    series = pd.Series(cc_averages.values[0], index=indices)\n",
        "  series['trans_num'] = row['trans_num']\n",
        "  return series\n"
      ],
      "execution_count": 25,
      "outputs": []
    },
    {
      "cell_type": "code",
      "metadata": {
        "colab": {
          "base_uri": "https://localhost:8080/"
        },
        "id": "k-tAiEoWmq0a",
        "outputId": "0a6f0b37-f4b8-495e-d270-11aec5059783"
      },
      "source": [
        "from collections import Counter\n",
        "from imblearn.under_sampling import RandomUnderSampler\n",
        "import warnings\n",
        "warnings.simplefilter(action='ignore', category=FutureWarning)\n",
        "\n",
        "y_train = training[\"is_fraud\"]\n",
        "X_train = training.drop([\"is_fraud\"], axis = 1)\n",
        "\n",
        "# summarize class distribution\n",
        "print(\"Before undersampling: \", Counter(y_train))\n",
        "\n",
        "# define undersampling strategy\n",
        "undersample = RandomUnderSampler(sampling_strategy=.1)\n",
        "\n",
        "# fit and apply the transform\n",
        "X_train_under, y_train_under = undersample.fit_resample(X_train, y_train)\n",
        "\n",
        "# summarize class distribution\n",
        "print(\"After undersampling: \", Counter(y_train_under))"
      ],
      "execution_count": null,
      "outputs": [
        {
          "output_type": "stream",
          "text": [
            "/usr/local/lib/python3.7/dist-packages/sklearn/externals/six.py:31: FutureWarning: The module is deprecated in version 0.21 and will be removed in version 0.23 since we've dropped support for Python 2.7. Please rely on the official version of six (https://pypi.org/project/six/).\n",
            "  \"(https://pypi.org/project/six/).\", FutureWarning)\n",
            "/usr/local/lib/python3.7/dist-packages/sklearn/utils/deprecation.py:144: FutureWarning: The sklearn.neighbors.base module is  deprecated in version 0.22 and will be removed in version 0.24. The corresponding classes / functions should instead be imported from sklearn.neighbors. Anything that cannot be imported from sklearn.neighbors is now part of the private API.\n",
            "  warnings.warn(message, FutureWarning)\n"
          ],
          "name": "stderr"
        },
        {
          "output_type": "stream",
          "text": [
            "Before undersampling:  Counter({0: 1289169, 1: 7506})\n",
            "After undersampling:  Counter({0: 75060, 1: 7506})\n"
          ],
          "name": "stdout"
        }
      ]
    },
    {
      "cell_type": "code",
      "metadata": {
        "colab": {
          "base_uri": "https://localhost:8080/",
          "height": 244
        },
        "id": "LuEYPcprM8mE",
        "outputId": "c8cd30ff-786a-4496-d2e5-08cf03cba6ba"
      },
      "source": [
        "#PART 2\n",
        "# import SVM libraries \n",
        "from sklearn.svm import SVC\n",
        "from sklearn.metrics import classification_report, roc_auc_score\n",
        "from sklearn.model_selection import train_test_split\n",
        "\n",
        "\n",
        "x_train_unused, X_test, y_train, y_test = train_test_split(testing.drop([\"is_fraud\"], axis=1), testing[\"is_fraud\"], test_size = 0.1)\n",
        "\n",
        "X_train_under_df = pd.DataFrame(X_train_under, columns=training.drop([\"is_fraud\"], axis=1).columns)\n",
        "X_test_df = pd.DataFrame(X_test, columns=training.drop([\"is_fraud\"], axis=1).columns)\n",
        "X_train_under_df['is_fraud'] = y_train_under\n",
        "print(X_train_under_df.shape, X_test_df.shape)\n",
        "X_train_under_df = engineer_features(X_train_under_df)\n",
        "X_test_df['is_fraud'] = y_test\n",
        "X_test_df = engineer_features(X_test_df)\n",
        "\n",
        "X_train_under_df.drop('is_fraud', axis=1, inplace=True)\n",
        "X_test_df.drop('is_fraud', axis=1, inplace=True)\n",
        "\n",
        "X_train_under_df.head()"
      ],
      "execution_count": null,
      "outputs": [
        {
          "output_type": "error",
          "ename": "NameError",
          "evalue": "ignored",
          "traceback": [
            "\u001b[0;31m---------------------------------------------------------------------------\u001b[0m",
            "\u001b[0;31mNameError\u001b[0m                                 Traceback (most recent call last)",
            "\u001b[0;32m<ipython-input-24-04e7796728e9>\u001b[0m in \u001b[0;36m<module>\u001b[0;34m()\u001b[0m\n\u001b[1;32m      6\u001b[0m \u001b[0;34m\u001b[0m\u001b[0m\n\u001b[1;32m      7\u001b[0m \u001b[0;34m\u001b[0m\u001b[0m\n\u001b[0;32m----> 8\u001b[0;31m \u001b[0mx_train_unused\u001b[0m\u001b[0;34m,\u001b[0m \u001b[0mX_test\u001b[0m\u001b[0;34m,\u001b[0m \u001b[0my_train\u001b[0m\u001b[0;34m,\u001b[0m \u001b[0my_test\u001b[0m \u001b[0;34m=\u001b[0m \u001b[0mtrain_test_split\u001b[0m\u001b[0;34m(\u001b[0m\u001b[0mtesting\u001b[0m\u001b[0;34m.\u001b[0m\u001b[0mdrop\u001b[0m\u001b[0;34m(\u001b[0m\u001b[0;34m[\u001b[0m\u001b[0;34m\"is_fraud\"\u001b[0m\u001b[0;34m]\u001b[0m\u001b[0;34m,\u001b[0m \u001b[0maxis\u001b[0m\u001b[0;34m=\u001b[0m\u001b[0;36m1\u001b[0m\u001b[0;34m)\u001b[0m\u001b[0;34m,\u001b[0m \u001b[0mtesting\u001b[0m\u001b[0;34m[\u001b[0m\u001b[0;34m\"is_fraud\"\u001b[0m\u001b[0;34m]\u001b[0m\u001b[0;34m,\u001b[0m \u001b[0mtest_size\u001b[0m \u001b[0;34m=\u001b[0m \u001b[0;36m0.1\u001b[0m\u001b[0;34m)\u001b[0m\u001b[0;34m\u001b[0m\u001b[0;34m\u001b[0m\u001b[0m\n\u001b[0m\u001b[1;32m      9\u001b[0m \u001b[0;34m\u001b[0m\u001b[0m\n\u001b[1;32m     10\u001b[0m \u001b[0mX_train_under_df\u001b[0m \u001b[0;34m=\u001b[0m \u001b[0mpd\u001b[0m\u001b[0;34m.\u001b[0m\u001b[0mDataFrame\u001b[0m\u001b[0;34m(\u001b[0m\u001b[0mX_train_under\u001b[0m\u001b[0;34m,\u001b[0m \u001b[0mcolumns\u001b[0m\u001b[0;34m=\u001b[0m\u001b[0mtraining\u001b[0m\u001b[0;34m.\u001b[0m\u001b[0mdrop\u001b[0m\u001b[0;34m(\u001b[0m\u001b[0;34m[\u001b[0m\u001b[0;34m\"is_fraud\"\u001b[0m\u001b[0;34m]\u001b[0m\u001b[0;34m,\u001b[0m \u001b[0maxis\u001b[0m\u001b[0;34m=\u001b[0m\u001b[0;36m1\u001b[0m\u001b[0;34m)\u001b[0m\u001b[0;34m.\u001b[0m\u001b[0mcolumns\u001b[0m\u001b[0;34m)\u001b[0m\u001b[0;34m\u001b[0m\u001b[0;34m\u001b[0m\u001b[0m\n",
            "\u001b[0;31mNameError\u001b[0m: name 'testing' is not defined"
          ]
        }
      ]
    },
    {
      "cell_type": "code",
      "metadata": {
        "id": "gWXqQ1J_gl3c"
      },
      "source": [
        "def create_aggregated_df_to_apply_to_test(train_df):\n",
        "  lat_long_df = train_df[['lat', 'long', 'amt_count']]\n",
        "  lat_long_df_agg = lat_long_df.groupby(['lat', 'long']).agg('max')\n",
        "  lat_long_df_agg.set_index(['amt_count'], append=True, inplace=True)\n",
        "  lat_long_df_agg.head()\n",
        "  indices = ['lat', 'long', 'amt_mean', 'amt_std', 'amt_count', 'merch_lat_mean', 'merch_lat_std', 'merch_long_mean', 'merch_long_std', 'is_fraud_mean', 'is_fraud_std', 'previous_frauds_for_cc_num']\n",
        "  cc_averages_by_lat = train_df[indices]\n",
        "  cc_averages_by_lat.set_index(['lat', 'long', 'amt_count'], inplace=True)\n",
        "  df_with_maxes = pd.merge(lat_long_df_agg, cc_averages_by_lat, left_index=True, right_index=True, how=\"inner\")\n",
        "  df_with_maxes.reset_index(level='amt_count', inplace=True)\n",
        "  return df_with_maxes\n",
        "\n",
        "agg_df_to_apply_to_test = create_aggregated_df_to_apply_to_test(X_train_under_df)\n"
      ],
      "execution_count": null,
      "outputs": []
    },
    {
      "cell_type": "code",
      "metadata": {
        "id": "_ps3x5AMp-Bg"
      },
      "source": [
        "def map_aggregations(row, frame):\n",
        "  lat = row['lat']\n",
        "  long = row['long']\n",
        "  if (lat, long) not in frame.index:\n",
        "    return row\n",
        "  else:\n",
        "    frame_row = frame.loc[(lat, long)]\n",
        "    if row['amt_count'] == 0:\n",
        "      row['amt_mean'] = frame_row['amt_mean']\n",
        "      row['amt_std'] = frame_row['amt_std']\n",
        "      row['amt_count'] = frame_row['amt_count']\n",
        "      row['merch_lat_mean'] = frame_row['merch_lat_mean']\n",
        "      row['merch_lat_std'] = frame_row['merch_lat_std']\n",
        "      row['merch_long_mean'] = frame_row['merch_long_mean']\n",
        "      row['merch_long_std'] = frame_row['merch_long_std']\n",
        "      row['is_fraud_mean'] = frame_row['is_fraud_mean']\n",
        "      row['is_fraud_std'] = frame_row['is_fraud_std']\n",
        "      row['previous_frauds_for_cc_num'] = frame_row['previous_frauds_for_cc_num']\n",
        "      return row\n",
        "    else:\n",
        "      test_count = row['amt_count']\n",
        "      frame_row_count = frame_row['amt_count']\n",
        "\n",
        "      row['amt_mean'] = combine_means(row['amt_mean'], frame_row['amt_mean'], test_count, frame_row_count)\n",
        "      row['amt_std'] = combine_std(row['amt_std'], frame_row['amt_std'], test_count, frame_row_count)\n",
        "      row['amt_count'] = test_count + frame_row_count\n",
        "      row['merch_lat_mean'] = combine_means(row['merch_lat_mean'], frame_row['merch_lat_mean'], test_count, frame_row_count)\n",
        "      row['merch_lat_std'] = combine_std(row['merch_lat_std'], frame_row['merch_lat_std'], test_count, frame_row_count)\n",
        "      row['merch_long_mean'] = combine_means(row['merch_long_mean'], frame_row['merch_long_mean'], test_count, frame_row_count)\n",
        "      row['merch_long_std'] = combine_std(row['merch_long_std'], frame_row['merch_long_std'], test_count, frame_row_count)\n",
        "      row['is_fraud_mean'] = combine_means(row['is_fraud_mean'], frame_row['is_fraud_mean'], test_count, frame_row_count)\n",
        "      row['is_fraud_std'] = combine_std(row['is_fraud_std'], frame_row['is_fraud_std'], test_count, frame_row_count)\n",
        "      row['previous_frauds_for_cc_num'] = frame_row['previous_frauds_for_cc_num'] + row['previous_frauds_for_cc_num']\n",
        "      return row\n",
        "\n",
        "def combine_means(mean1, mean2, n1, n2):\n",
        "  return (mean1 * n1 + mean2 * n2) / (n1 + n2)\n",
        "\n",
        "def combine_std(std1, std2, n1, n2):\n",
        "  var1 = (std1 ** 2) / n1\n",
        "  var2 = (std2 ** 2) / n2\n",
        "  return np.sqrt((var1 + var2) / 2)   \n"
      ],
      "execution_count": null,
      "outputs": []
    },
    {
      "cell_type": "code",
      "metadata": {
        "id": "Zmi6f57gwb3L"
      },
      "source": [
        "def apply_aggregation_df_to_test(test_df, agg_df):\n",
        "  return test_df.apply(map_aggregations, frame=agg_df, axis=1)\n",
        "\n",
        "X_test_df_agg = apply_aggregation_df_to_test(X_test_df, agg_df_to_apply_to_test)"
      ],
      "execution_count": null,
      "outputs": []
    },
    {
      "cell_type": "code",
      "metadata": {
        "id": "koOkl0Xhoszs"
      },
      "source": [
        "def add_blank_columns(df_train, df_test):\n",
        "  for column in df_train.columns:\n",
        "    if column not in df_test.columns:\n",
        "      df_test[column] = 0\n",
        "  for column2 in df_test.columns:\n",
        "    if column2 not in df_train.columns:\n",
        "      df_train[column2] = 0\n",
        "  return df_train, df_test\n",
        "##X_train_under_df, X_test_df = add_blank_columns(X_train_under_df, X_test_df)"
      ],
      "execution_count": null,
      "outputs": []
    },
    {
      "cell_type": "code",
      "metadata": {
        "id": "byBbLw0axncA"
      },
      "source": [
        "X_train['hr_sin'] = np.sin(X_train['hour']*(2.*np.pi/24))\n",
        "X_train['hr_cos'] = np.cos(X_train['hour']*(2.*np.pi/24))\n",
        "X_train['mnth_sin'] = np.sin((X_train['month']-1)*(2.*np.pi/12))\n",
        "X_train['mnth_cos'] = np.cos((X_train['month']-1)*(2.*np.pi/12))\n",
        "\n",
        "X_test['hr_sin'] = np.sin(X_test['hour']*(2.*np.pi/24))\n",
        "X_test['hr_cos'] = np.cos(X_test['hour']*(2.*np.pi/24))\n",
        "X_test['mnth_sin'] = np.sin((X_test['month']-1)*(2.*np.pi/12))\n",
        "X_test['mnth_cos'] = np.cos((X_test['month']-1)*(2.*np.pi/12))\n",
        "\n",
        "X_train.drop(['is_fraud'], axis=1, inplace=True)\n",
        "X_train[\"amt_difference\"] = (X_train[\"amt_mean\"] - X_train[\"amt\"]) #/ X_train[\"amt_std\"]\n",
        "X_train[\"lat_difference\"] = (X_train[\"merch_lat_mean\"] - X_train[\"merch_lat\"]) #/ X_train[\"merch_lat_std\"]\n",
        "X_train[\"merch_long_difference\"] = (X_train[\"merch_long_mean\"] - X_train[\"merch_long\"]) #/ X_train[\"merch_long_std\"]\n",
        "X_train = X_train.drop([\"is_man\", \"city_pop\", \"dob_year\", \"amt_count\", 'month', 'hour'], axis=1)\n",
        "\n",
        "X_test[\"amt_difference\"] = (X_test[\"amt_mean\"] - X_test[\"amt\"]) #/ X_test[\"amt_std\"]\n",
        "X_test[\"lat_difference\"] = (X_test[\"merch_lat_mean\"] - X_test[\"merch_lat\"]) #/ X_test[\"merch_lat_std\"]\n",
        "X_test[\"merch_long_difference\"] = (X_test[\"merch_long_mean\"] - X_test[\"merch_long\"]) #/ X_test[\"merch_long_std\"]\n",
        "X_test = X_test.drop([\"is_man\", \"city_pop\", \"dob_year\", \"amt_count\", 'month', 'hour'], axis=1)"
      ],
      "execution_count": 30,
      "outputs": []
    },
    {
      "cell_type": "code",
      "metadata": {
        "id": "GyPSU8JhkODx"
      },
      "source": [
        "# scaling features \n",
        "\n",
        "X_train_scaled_df, X_test_scaled_df = normalize_features(X_train, X_test)\n",
        "#X_train_scaled_df.to_csv(folder_location + \"X_train_aggregated_and_scaled.csv\")\n",
        "#X_test_scaled_df.to_csv(folder_location + \"X_test_aggregated_and_scaled.csv\")"
      ],
      "execution_count": 31,
      "outputs": []
    },
    {
      "cell_type": "code",
      "metadata": {
        "id": "AFCRpODsMt06",
        "colab": {
          "base_uri": "https://localhost:8080/",
          "height": 217
        },
        "outputId": "5dce9c38-d701-4b84-de39-2fa8c3be8fee"
      },
      "source": [
        "X_train_scaled_df.tail()"
      ],
      "execution_count": 32,
      "outputs": [
        {
          "output_type": "execute_result",
          "data": {
            "text/html": [
              "<div>\n",
              "<style scoped>\n",
              "    .dataframe tbody tr th:only-of-type {\n",
              "        vertical-align: middle;\n",
              "    }\n",
              "\n",
              "    .dataframe tbody tr th {\n",
              "        vertical-align: top;\n",
              "    }\n",
              "\n",
              "    .dataframe thead th {\n",
              "        text-align: right;\n",
              "    }\n",
              "</style>\n",
              "<table border=\"1\" class=\"dataframe\">\n",
              "  <thead>\n",
              "    <tr style=\"text-align: right;\">\n",
              "      <th></th>\n",
              "      <th>amt</th>\n",
              "      <th>lat</th>\n",
              "      <th>long</th>\n",
              "      <th>merch_lat</th>\n",
              "      <th>merch_long</th>\n",
              "      <th>day</th>\n",
              "      <th>category_entertainment</th>\n",
              "      <th>category_food_dining</th>\n",
              "      <th>category_gas_transport</th>\n",
              "      <th>category_grocery_net</th>\n",
              "      <th>category_grocery_pos</th>\n",
              "      <th>category_health_fitness</th>\n",
              "      <th>category_home</th>\n",
              "      <th>category_kids_pets</th>\n",
              "      <th>category_misc_net</th>\n",
              "      <th>category_misc_pos</th>\n",
              "      <th>category_personal_care</th>\n",
              "      <th>category_shopping_net</th>\n",
              "      <th>category_shopping_pos</th>\n",
              "      <th>category_travel</th>\n",
              "      <th>amt_mean</th>\n",
              "      <th>amt_std</th>\n",
              "      <th>merch_lat_mean</th>\n",
              "      <th>merch_lat_std</th>\n",
              "      <th>merch_long_mean</th>\n",
              "      <th>merch_long_std</th>\n",
              "      <th>is_fraud_mean</th>\n",
              "      <th>is_fraud_std</th>\n",
              "      <th>previous_frauds_for_cc_num</th>\n",
              "      <th>hr_sin</th>\n",
              "      <th>hr_cos</th>\n",
              "      <th>mnth_sin</th>\n",
              "      <th>mnth_cos</th>\n",
              "      <th>amt_difference</th>\n",
              "      <th>lat_difference</th>\n",
              "      <th>merch_long_difference</th>\n",
              "    </tr>\n",
              "  </thead>\n",
              "  <tbody>\n",
              "    <tr>\n",
              "      <th>1296670</th>\n",
              "      <td>0.000503</td>\n",
              "      <td>0.379084</td>\n",
              "      <td>0.544346</td>\n",
              "      <td>0.367421</td>\n",
              "      <td>0.551347</td>\n",
              "      <td>0.666667</td>\n",
              "      <td>1.0</td>\n",
              "      <td>0.0</td>\n",
              "      <td>0.0</td>\n",
              "      <td>0.0</td>\n",
              "      <td>0.0</td>\n",
              "      <td>0.0</td>\n",
              "      <td>0.0</td>\n",
              "      <td>0.0</td>\n",
              "      <td>0.0</td>\n",
              "      <td>0.0</td>\n",
              "      <td>0.0</td>\n",
              "      <td>0.0</td>\n",
              "      <td>0.0</td>\n",
              "      <td>0.0</td>\n",
              "      <td>0.044096</td>\n",
              "      <td>0.036271</td>\n",
              "      <td>0.561719</td>\n",
              "      <td>0.415637</td>\n",
              "      <td>0.322933</td>\n",
              "      <td>0.435419</td>\n",
              "      <td>0.005952</td>\n",
              "      <td>0.108820</td>\n",
              "      <td>0.473684</td>\n",
              "      <td>0.5</td>\n",
              "      <td>0.0</td>\n",
              "      <td>0.75</td>\n",
              "      <td>0.066987</td>\n",
              "      <td>0.954394</td>\n",
              "      <td>0.984346</td>\n",
              "      <td>0.006415</td>\n",
              "    </tr>\n",
              "    <tr>\n",
              "      <th>1296671</th>\n",
              "      <td>0.001751</td>\n",
              "      <td>0.412281</td>\n",
              "      <td>0.902174</td>\n",
              "      <td>0.410026</td>\n",
              "      <td>0.886727</td>\n",
              "      <td>0.666667</td>\n",
              "      <td>0.0</td>\n",
              "      <td>1.0</td>\n",
              "      <td>0.0</td>\n",
              "      <td>0.0</td>\n",
              "      <td>0.0</td>\n",
              "      <td>0.0</td>\n",
              "      <td>0.0</td>\n",
              "      <td>0.0</td>\n",
              "      <td>0.0</td>\n",
              "      <td>0.0</td>\n",
              "      <td>0.0</td>\n",
              "      <td>0.0</td>\n",
              "      <td>0.0</td>\n",
              "      <td>0.0</td>\n",
              "      <td>0.070625</td>\n",
              "      <td>0.042853</td>\n",
              "      <td>0.584750</td>\n",
              "      <td>0.426240</td>\n",
              "      <td>0.533288</td>\n",
              "      <td>0.439388</td>\n",
              "      <td>0.015094</td>\n",
              "      <td>0.172596</td>\n",
              "      <td>0.421053</td>\n",
              "      <td>0.5</td>\n",
              "      <td>0.0</td>\n",
              "      <td>0.75</td>\n",
              "      <td>0.066987</td>\n",
              "      <td>0.954456</td>\n",
              "      <td>0.976839</td>\n",
              "      <td>0.015377</td>\n",
              "    </tr>\n",
              "    <tr>\n",
              "      <th>1296672</th>\n",
              "      <td>0.003625</td>\n",
              "      <td>0.276699</td>\n",
              "      <td>0.612486</td>\n",
              "      <td>0.300969</td>\n",
              "      <td>0.617133</td>\n",
              "      <td>0.666667</td>\n",
              "      <td>0.0</td>\n",
              "      <td>1.0</td>\n",
              "      <td>0.0</td>\n",
              "      <td>0.0</td>\n",
              "      <td>0.0</td>\n",
              "      <td>0.0</td>\n",
              "      <td>0.0</td>\n",
              "      <td>0.0</td>\n",
              "      <td>0.0</td>\n",
              "      <td>0.0</td>\n",
              "      <td>0.0</td>\n",
              "      <td>0.0</td>\n",
              "      <td>0.0</td>\n",
              "      <td>0.0</td>\n",
              "      <td>0.045493</td>\n",
              "      <td>0.048668</td>\n",
              "      <td>0.489832</td>\n",
              "      <td>0.409624</td>\n",
              "      <td>0.363194</td>\n",
              "      <td>0.439553</td>\n",
              "      <td>0.005317</td>\n",
              "      <td>0.102868</td>\n",
              "      <td>0.578947</td>\n",
              "      <td>0.5</td>\n",
              "      <td>0.0</td>\n",
              "      <td>0.75</td>\n",
              "      <td>0.066987</td>\n",
              "      <td>0.951479</td>\n",
              "      <td>0.961057</td>\n",
              "      <td>0.007183</td>\n",
              "    </tr>\n",
              "    <tr>\n",
              "      <th>1296673</th>\n",
              "      <td>0.002553</td>\n",
              "      <td>0.499837</td>\n",
              "      <td>0.646029</td>\n",
              "      <td>0.490098</td>\n",
              "      <td>0.636080</td>\n",
              "      <td>0.666667</td>\n",
              "      <td>0.0</td>\n",
              "      <td>1.0</td>\n",
              "      <td>0.0</td>\n",
              "      <td>0.0</td>\n",
              "      <td>0.0</td>\n",
              "      <td>0.0</td>\n",
              "      <td>0.0</td>\n",
              "      <td>0.0</td>\n",
              "      <td>0.0</td>\n",
              "      <td>0.0</td>\n",
              "      <td>0.0</td>\n",
              "      <td>0.0</td>\n",
              "      <td>0.0</td>\n",
              "      <td>0.0</td>\n",
              "      <td>0.066802</td>\n",
              "      <td>0.033738</td>\n",
              "      <td>0.645154</td>\n",
              "      <td>0.415553</td>\n",
              "      <td>0.382865</td>\n",
              "      <td>0.442897</td>\n",
              "      <td>0.003955</td>\n",
              "      <td>0.088779</td>\n",
              "      <td>0.421053</td>\n",
              "      <td>0.5</td>\n",
              "      <td>0.0</td>\n",
              "      <td>0.75</td>\n",
              "      <td>0.066987</td>\n",
              "      <td>0.953510</td>\n",
              "      <td>0.979391</td>\n",
              "      <td>0.015390</td>\n",
              "    </tr>\n",
              "    <tr>\n",
              "      <th>1296674</th>\n",
              "      <td>0.000114</td>\n",
              "      <td>0.553210</td>\n",
              "      <td>0.530050</td>\n",
              "      <td>0.568003</td>\n",
              "      <td>0.526323</td>\n",
              "      <td>0.666667</td>\n",
              "      <td>0.0</td>\n",
              "      <td>1.0</td>\n",
              "      <td>0.0</td>\n",
              "      <td>0.0</td>\n",
              "      <td>0.0</td>\n",
              "      <td>0.0</td>\n",
              "      <td>0.0</td>\n",
              "      <td>0.0</td>\n",
              "      <td>0.0</td>\n",
              "      <td>0.0</td>\n",
              "      <td>0.0</td>\n",
              "      <td>0.0</td>\n",
              "      <td>0.0</td>\n",
              "      <td>0.0</td>\n",
              "      <td>0.048113</td>\n",
              "      <td>0.027980</td>\n",
              "      <td>0.682423</td>\n",
              "      <td>0.422747</td>\n",
              "      <td>0.314591</td>\n",
              "      <td>0.446493</td>\n",
              "      <td>0.005295</td>\n",
              "      <td>0.102664</td>\n",
              "      <td>0.421053</td>\n",
              "      <td>0.5</td>\n",
              "      <td>0.0</td>\n",
              "      <td>0.75</td>\n",
              "      <td>0.066987</td>\n",
              "      <td>0.954955</td>\n",
              "      <td>0.960951</td>\n",
              "      <td>0.013017</td>\n",
              "    </tr>\n",
              "  </tbody>\n",
              "</table>\n",
              "</div>"
            ],
            "text/plain": [
              "              amt       lat  ...  lat_difference  merch_long_difference\n",
              "1296670  0.000503  0.379084  ...        0.984346               0.006415\n",
              "1296671  0.001751  0.412281  ...        0.976839               0.015377\n",
              "1296672  0.003625  0.276699  ...        0.961057               0.007183\n",
              "1296673  0.002553  0.499837  ...        0.979391               0.015390\n",
              "1296674  0.000114  0.553210  ...        0.960951               0.013017\n",
              "\n",
              "[5 rows x 36 columns]"
            ]
          },
          "metadata": {
            "tags": []
          },
          "execution_count": 32
        }
      ]
    },
    {
      "cell_type": "code",
      "metadata": {
        "id": "OEYOtmqR-OuM",
        "colab": {
          "base_uri": "https://localhost:8080/",
          "height": 224
        },
        "outputId": "f238bb2c-4e41-4441-e05a-e29539f2f944"
      },
      "source": [
        "X_test_scaled_df.head()"
      ],
      "execution_count": null,
      "outputs": [
        {
          "output_type": "execute_result",
          "data": {
            "text/html": [
              "<div>\n",
              "<style scoped>\n",
              "    .dataframe tbody tr th:only-of-type {\n",
              "        vertical-align: middle;\n",
              "    }\n",
              "\n",
              "    .dataframe tbody tr th {\n",
              "        vertical-align: top;\n",
              "    }\n",
              "\n",
              "    .dataframe thead th {\n",
              "        text-align: right;\n",
              "    }\n",
              "</style>\n",
              "<table border=\"1\" class=\"dataframe\">\n",
              "  <thead>\n",
              "    <tr style=\"text-align: right;\">\n",
              "      <th></th>\n",
              "      <th>amt</th>\n",
              "      <th>lat</th>\n",
              "      <th>long</th>\n",
              "      <th>city_pop</th>\n",
              "      <th>merch_lat</th>\n",
              "      <th>merch_long</th>\n",
              "      <th>hour</th>\n",
              "      <th>day</th>\n",
              "      <th>month</th>\n",
              "      <th>dob_year</th>\n",
              "      <th>is_man</th>\n",
              "      <th>category_entertainment</th>\n",
              "      <th>category_food_dining</th>\n",
              "      <th>category_gas_transport</th>\n",
              "      <th>category_grocery_net</th>\n",
              "      <th>category_grocery_pos</th>\n",
              "      <th>category_health_fitness</th>\n",
              "      <th>category_home</th>\n",
              "      <th>category_kids_pets</th>\n",
              "      <th>category_misc_net</th>\n",
              "      <th>category_misc_pos</th>\n",
              "      <th>category_personal_care</th>\n",
              "      <th>category_shopping_net</th>\n",
              "      <th>category_shopping_pos</th>\n",
              "      <th>category_travel</th>\n",
              "      <th>amt_mean</th>\n",
              "      <th>amt_std</th>\n",
              "      <th>amt_count</th>\n",
              "      <th>merch_lat_mean</th>\n",
              "      <th>merch_lat_std</th>\n",
              "      <th>merch_long_mean</th>\n",
              "      <th>merch_long_std</th>\n",
              "      <th>is_fraud_mean</th>\n",
              "      <th>is_fraud_std</th>\n",
              "      <th>previous_frauds_for_cc_num</th>\n",
              "    </tr>\n",
              "  </thead>\n",
              "  <tbody>\n",
              "    <tr>\n",
              "      <th>0</th>\n",
              "      <td>0.000064</td>\n",
              "      <td>0.298692</td>\n",
              "      <td>0.867121</td>\n",
              "      <td>0.114727</td>\n",
              "      <td>0.308536</td>\n",
              "      <td>0.857102</td>\n",
              "      <td>0.521739</td>\n",
              "      <td>0.666667</td>\n",
              "      <td>0.454545</td>\n",
              "      <td>0.543210</td>\n",
              "      <td>1.0</td>\n",
              "      <td>0.0</td>\n",
              "      <td>0.0</td>\n",
              "      <td>0.0</td>\n",
              "      <td>0.0</td>\n",
              "      <td>0.0</td>\n",
              "      <td>0.0</td>\n",
              "      <td>0.0</td>\n",
              "      <td>0.0</td>\n",
              "      <td>0.0</td>\n",
              "      <td>0.0</td>\n",
              "      <td>1.0</td>\n",
              "      <td>0.0</td>\n",
              "      <td>0.0</td>\n",
              "      <td>0.0</td>\n",
              "      <td>0.049069</td>\n",
              "      <td>0.043602</td>\n",
              "      <td>0.499680</td>\n",
              "      <td>0.505779</td>\n",
              "      <td>0.411062</td>\n",
              "      <td>0.512953</td>\n",
              "      <td>0.445257</td>\n",
              "      <td>0.007692</td>\n",
              "      <td>0.123596</td>\n",
              "      <td>0.631579</td>\n",
              "    </tr>\n",
              "    <tr>\n",
              "      <th>1</th>\n",
              "      <td>0.000996</td>\n",
              "      <td>0.434867</td>\n",
              "      <td>0.565239</td>\n",
              "      <td>0.000096</td>\n",
              "      <td>0.421239</td>\n",
              "      <td>0.568699</td>\n",
              "      <td>0.521739</td>\n",
              "      <td>0.666667</td>\n",
              "      <td>0.454545</td>\n",
              "      <td>0.814815</td>\n",
              "      <td>0.0</td>\n",
              "      <td>0.0</td>\n",
              "      <td>0.0</td>\n",
              "      <td>0.0</td>\n",
              "      <td>0.0</td>\n",
              "      <td>0.0</td>\n",
              "      <td>0.0</td>\n",
              "      <td>0.0</td>\n",
              "      <td>0.0</td>\n",
              "      <td>0.0</td>\n",
              "      <td>0.0</td>\n",
              "      <td>1.0</td>\n",
              "      <td>0.0</td>\n",
              "      <td>0.0</td>\n",
              "      <td>0.0</td>\n",
              "      <td>0.042621</td>\n",
              "      <td>0.061434</td>\n",
              "      <td>0.668802</td>\n",
              "      <td>0.600080</td>\n",
              "      <td>0.418344</td>\n",
              "      <td>0.335279</td>\n",
              "      <td>0.449110</td>\n",
              "      <td>0.006705</td>\n",
              "      <td>0.115440</td>\n",
              "      <td>0.736842</td>\n",
              "    </tr>\n",
              "    <tr>\n",
              "      <th>2</th>\n",
              "      <td>0.001391</td>\n",
              "      <td>0.442414</td>\n",
              "      <td>0.942836</td>\n",
              "      <td>0.011860</td>\n",
              "      <td>0.442800</td>\n",
              "      <td>0.927345</td>\n",
              "      <td>0.521739</td>\n",
              "      <td>0.666667</td>\n",
              "      <td>0.454545</td>\n",
              "      <td>0.567901</td>\n",
              "      <td>0.0</td>\n",
              "      <td>0.0</td>\n",
              "      <td>0.0</td>\n",
              "      <td>0.0</td>\n",
              "      <td>0.0</td>\n",
              "      <td>0.0</td>\n",
              "      <td>1.0</td>\n",
              "      <td>0.0</td>\n",
              "      <td>0.0</td>\n",
              "      <td>0.0</td>\n",
              "      <td>0.0</td>\n",
              "      <td>0.0</td>\n",
              "      <td>0.0</td>\n",
              "      <td>0.0</td>\n",
              "      <td>0.0</td>\n",
              "      <td>0.062305</td>\n",
              "      <td>0.045513</td>\n",
              "      <td>0.825112</td>\n",
              "      <td>0.605235</td>\n",
              "      <td>0.416657</td>\n",
              "      <td>0.557376</td>\n",
              "      <td>0.440261</td>\n",
              "      <td>0.002717</td>\n",
              "      <td>0.073635</td>\n",
              "      <td>0.368421</td>\n",
              "    </tr>\n",
              "    <tr>\n",
              "      <th>3</th>\n",
              "      <td>0.002040</td>\n",
              "      <td>0.183058</td>\n",
              "      <td>0.868312</td>\n",
              "      <td>0.018834</td>\n",
              "      <td>0.201817</td>\n",
              "      <td>0.860288</td>\n",
              "      <td>0.521739</td>\n",
              "      <td>0.666667</td>\n",
              "      <td>0.454545</td>\n",
              "      <td>0.777778</td>\n",
              "      <td>1.0</td>\n",
              "      <td>0.0</td>\n",
              "      <td>0.0</td>\n",
              "      <td>0.0</td>\n",
              "      <td>0.0</td>\n",
              "      <td>0.0</td>\n",
              "      <td>0.0</td>\n",
              "      <td>0.0</td>\n",
              "      <td>0.0</td>\n",
              "      <td>0.0</td>\n",
              "      <td>1.0</td>\n",
              "      <td>0.0</td>\n",
              "      <td>0.0</td>\n",
              "      <td>0.0</td>\n",
              "      <td>0.0</td>\n",
              "      <td>0.040411</td>\n",
              "      <td>0.063186</td>\n",
              "      <td>0.488469</td>\n",
              "      <td>0.425210</td>\n",
              "      <td>0.416574</td>\n",
              "      <td>0.513605</td>\n",
              "      <td>0.437670</td>\n",
              "      <td>0.000000</td>\n",
              "      <td>0.000000</td>\n",
              "      <td>0.000000</td>\n",
              "    </tr>\n",
              "    <tr>\n",
              "      <th>4</th>\n",
              "      <td>0.000076</td>\n",
              "      <td>0.519129</td>\n",
              "      <td>0.825355</td>\n",
              "      <td>0.000379</td>\n",
              "      <td>0.534860</td>\n",
              "      <td>0.810131</td>\n",
              "      <td>0.521739</td>\n",
              "      <td>0.666667</td>\n",
              "      <td>0.454545</td>\n",
              "      <td>0.382716</td>\n",
              "      <td>1.0</td>\n",
              "      <td>0.0</td>\n",
              "      <td>0.0</td>\n",
              "      <td>0.0</td>\n",
              "      <td>0.0</td>\n",
              "      <td>0.0</td>\n",
              "      <td>0.0</td>\n",
              "      <td>0.0</td>\n",
              "      <td>0.0</td>\n",
              "      <td>0.0</td>\n",
              "      <td>0.0</td>\n",
              "      <td>0.0</td>\n",
              "      <td>0.0</td>\n",
              "      <td>0.0</td>\n",
              "      <td>1.0</td>\n",
              "      <td>0.044441</td>\n",
              "      <td>0.038202</td>\n",
              "      <td>0.651185</td>\n",
              "      <td>0.658598</td>\n",
              "      <td>0.412812</td>\n",
              "      <td>0.488217</td>\n",
              "      <td>0.433355</td>\n",
              "      <td>0.005411</td>\n",
              "      <td>0.103770</td>\n",
              "      <td>0.578947</td>\n",
              "    </tr>\n",
              "  </tbody>\n",
              "</table>\n",
              "</div>"
            ],
            "text/plain": [
              "        amt       lat  ...  is_fraud_std  previous_frauds_for_cc_num\n",
              "0  0.000064  0.298692  ...      0.123596                    0.631579\n",
              "1  0.000996  0.434867  ...      0.115440                    0.736842\n",
              "2  0.001391  0.442414  ...      0.073635                    0.368421\n",
              "3  0.002040  0.183058  ...      0.000000                    0.000000\n",
              "4  0.000076  0.519129  ...      0.103770                    0.578947\n",
              "\n",
              "[5 rows x 35 columns]"
            ]
          },
          "metadata": {
            "tags": []
          },
          "execution_count": 8
        }
      ]
    },
    {
      "cell_type": "code",
      "metadata": {
        "colab": {
          "base_uri": "https://localhost:8080/"
        },
        "id": "zPzi0f1m1y7q",
        "outputId": "193af24d-7c59-464c-9a18-88301f58768d"
      },
      "source": [
        "print(np.isnan(X_test.any())) #and gets False\n",
        "print(np.isfinite(X_test.all()))\n",
        "print(np.isnan(np.min(X_test)))"
      ],
      "execution_count": null,
      "outputs": [
        {
          "output_type": "stream",
          "text": [
            "amt                        False\n",
            "lat                        False\n",
            "long                       False\n",
            "merch_lat                  False\n",
            "merch_long                 False\n",
            "hour                       False\n",
            "day                        False\n",
            "month                      False\n",
            "category_entertainment     False\n",
            "category_food_dining       False\n",
            "category_gas_transport     False\n",
            "category_grocery_net       False\n",
            "category_grocery_pos       False\n",
            "category_health_fitness    False\n",
            "category_home              False\n",
            "category_kids_pets         False\n",
            "category_misc_net          False\n",
            "category_misc_pos          False\n",
            "category_personal_care     False\n",
            "category_shopping_net      False\n",
            "category_shopping_pos      False\n",
            "category_travel            False\n",
            "amt_mean                   False\n",
            "amt_std                    False\n",
            "merch_lat_mean             False\n",
            "merch_lat_std              False\n",
            "merch_long_mean            False\n",
            "merch_long_std             False\n",
            "is_fraud_mean              False\n",
            "is_fraud_std               False\n",
            "amt_difference             False\n",
            "lat_difference             False\n",
            "merch_long_difference      False\n",
            "dtype: bool\n",
            "amt                        True\n",
            "lat                        True\n",
            "long                       True\n",
            "merch_lat                  True\n",
            "merch_long                 True\n",
            "hour                       True\n",
            "day                        True\n",
            "month                      True\n",
            "category_entertainment     True\n",
            "category_food_dining       True\n",
            "category_gas_transport     True\n",
            "category_grocery_net       True\n",
            "category_grocery_pos       True\n",
            "category_health_fitness    True\n",
            "category_home              True\n",
            "category_kids_pets         True\n",
            "category_misc_net          True\n",
            "category_misc_pos          True\n",
            "category_personal_care     True\n",
            "category_shopping_net      True\n",
            "category_shopping_pos      True\n",
            "category_travel            True\n",
            "amt_mean                   True\n",
            "amt_std                    True\n",
            "merch_lat_mean             True\n",
            "merch_lat_std              True\n",
            "merch_long_mean            True\n",
            "merch_long_std             True\n",
            "is_fraud_mean              True\n",
            "is_fraud_std               True\n",
            "amt_difference             True\n",
            "lat_difference             True\n",
            "merch_long_difference      True\n",
            "dtype: bool\n",
            "amt                        False\n",
            "lat                        False\n",
            "long                       False\n",
            "merch_lat                  False\n",
            "merch_long                 False\n",
            "hour                       False\n",
            "day                        False\n",
            "month                      False\n",
            "category_entertainment     False\n",
            "category_food_dining       False\n",
            "category_gas_transport     False\n",
            "category_grocery_net       False\n",
            "category_grocery_pos       False\n",
            "category_health_fitness    False\n",
            "category_home              False\n",
            "category_kids_pets         False\n",
            "category_misc_net          False\n",
            "category_misc_pos          False\n",
            "category_personal_care     False\n",
            "category_shopping_net      False\n",
            "category_shopping_pos      False\n",
            "category_travel            False\n",
            "amt_mean                   False\n",
            "amt_std                    False\n",
            "merch_lat_mean             False\n",
            "merch_lat_std              False\n",
            "merch_long_mean            False\n",
            "merch_long_std             False\n",
            "is_fraud_mean              False\n",
            "is_fraud_std               False\n",
            "amt_difference             False\n",
            "lat_difference             False\n",
            "merch_long_difference      False\n",
            "dtype: bool\n"
          ],
          "name": "stdout"
        }
      ]
    },
    {
      "cell_type": "code",
      "metadata": {
        "id": "QTDZii-ukxch",
        "colab": {
          "base_uri": "https://localhost:8080/"
        },
        "outputId": "3a48f99d-d598-4278-9726-85c8229c000f"
      },
      "source": [
        "## Feature Research - Running Random Forest for Feature Importances\n",
        "\n",
        "from sklearn.ensemble import RandomForestClassifier\n",
        "\n",
        "rf = RandomForestClassifier()\n",
        "rf.fit(X_train_scaled_df, y_train)\n",
        "\n"
      ],
      "execution_count": 35,
      "outputs": [
        {
          "output_type": "stream",
          "text": [
            "/usr/local/lib/python3.7/dist-packages/ipykernel_launcher.py:6: DataConversionWarning: A column-vector y was passed when a 1d array was expected. Please change the shape of y to (n_samples,), for example using ravel().\n",
            "  \n"
          ],
          "name": "stderr"
        },
        {
          "output_type": "execute_result",
          "data": {
            "text/plain": [
              "RandomForestClassifier(bootstrap=True, ccp_alpha=0.0, class_weight=None,\n",
              "                       criterion='gini', max_depth=None, max_features='auto',\n",
              "                       max_leaf_nodes=None, max_samples=None,\n",
              "                       min_impurity_decrease=0.0, min_impurity_split=None,\n",
              "                       min_samples_leaf=1, min_samples_split=2,\n",
              "                       min_weight_fraction_leaf=0.0, n_estimators=100,\n",
              "                       n_jobs=None, oob_score=False, random_state=None,\n",
              "                       verbose=0, warm_start=False)"
            ]
          },
          "metadata": {
            "tags": []
          },
          "execution_count": 35
        }
      ]
    },
    {
      "cell_type": "code",
      "metadata": {
        "id": "0ybhOekZkx-8",
        "colab": {
          "base_uri": "https://localhost:8080/",
          "height": 623
        },
        "outputId": "6a5a9760-528f-4adf-ecc3-839630ba624b"
      },
      "source": [
        "rf.feature_importances_\n",
        "feature_importances = pd.DataFrame(rf.feature_importances_, index=X_train_scaled_df.columns)\n",
        "feature_importances.to_csv(folder_location + \"RF_feature_importances.csv\")\n",
        "sorted_idx = rf.feature_importances_.argsort()\n",
        "plt.figure(figsize=(10,10))\n",
        "plt.barh(X_train_scaled_df.columns, rf.feature_importances_[sorted_idx])\n",
        "plt.xlabel(\"Random Forest Feature Importance\")"
      ],
      "execution_count": 36,
      "outputs": [
        {
          "output_type": "execute_result",
          "data": {
            "text/plain": [
              "Text(0.5, 0, 'Random Forest Feature Importance')"
            ]
          },
          "metadata": {
            "tags": []
          },
          "execution_count": 36
        },
        {
          "output_type": "display_data",
          "data": {
            "image/png": "[encoded data removed]",
            "text/plain": [
              "<Figure size 720x720 with 1 Axes>"
            ]
          },
          "metadata": {
            "tags": [],
            "needs_background": "light"
          }
        }
      ]
    },
    {
      "cell_type": "code",
      "metadata": {
        "id": "_NE2R61huoIA",
        "colab": {
          "base_uri": "https://localhost:8080/",
          "height": 340
        },
        "outputId": "801604df-712a-4926-84ec-154a5f802918"
      },
      "source": [
        "from sklearn.tree import DecisionTreeClassifier\n",
        "from sklearn.ensemble import RandomForestClassifier\n",
        "from imblearn.pipeline import Pipeline\n",
        "from imblearn.over_sampling import SMOTE\n",
        "from imblearn.under_sampling import RandomUnderSampler\n",
        "from sklearn.model_selection import RepeatedStratifiedKFold, cross_val_score\n",
        "\n",
        "\n",
        "model = DecisionTreeClassifier()\n",
        "model2 = RandomForestClassifier()\n",
        "\n",
        "over = SMOTE(sampling_strategy = 0.1)\n",
        "under = RandomUnderSampler(sampling_strategy = 0.3)\n",
        "steps = [('o', over), ('u', under), ('m', model)]\n",
        "pipeline = Pipeline(steps=steps)\n",
        "\n",
        "cv = RepeatedStratifiedKFold(n_splits=10, n_repeats=3, random_state=1)\n",
        "scores = cross_val_score(pipeline, X_train_scaled_df, y_train, scoring='recall', cv=cv, n_jobs= -1)"
      ],
      "execution_count": null,
      "outputs": [
        {
          "output_type": "error",
          "ename": "KeyboardInterrupt",
          "evalue": "ignored",
          "traceback": [
            "\u001b[0;31m---------------------------------------------------------------------------\u001b[0m",
            "\u001b[0;31mKeyboardInterrupt\u001b[0m                         Traceback (most recent call last)",
            "\u001b[0;32m<ipython-input-89-710472af139d>\u001b[0m in \u001b[0;36m<module>\u001b[0;34m()\u001b[0m\n\u001b[1;32m     16\u001b[0m \u001b[0;34m\u001b[0m\u001b[0m\n\u001b[1;32m     17\u001b[0m \u001b[0mcv\u001b[0m \u001b[0;34m=\u001b[0m \u001b[0mRepeatedStratifiedKFold\u001b[0m\u001b[0;34m(\u001b[0m\u001b[0mn_splits\u001b[0m\u001b[0;34m=\u001b[0m\u001b[0;36m10\u001b[0m\u001b[0;34m,\u001b[0m \u001b[0mn_repeats\u001b[0m\u001b[0;34m=\u001b[0m\u001b[0;36m3\u001b[0m\u001b[0;34m,\u001b[0m \u001b[0mrandom_state\u001b[0m\u001b[0;34m=\u001b[0m\u001b[0;36m1\u001b[0m\u001b[0;34m)\u001b[0m\u001b[0;34m\u001b[0m\u001b[0;34m\u001b[0m\u001b[0m\n\u001b[0;32m---> 18\u001b[0;31m \u001b[0mscores\u001b[0m \u001b[0;34m=\u001b[0m \u001b[0mcross_val_score\u001b[0m\u001b[0;34m(\u001b[0m\u001b[0mpipeline\u001b[0m\u001b[0;34m,\u001b[0m \u001b[0mX_train_scaled_df\u001b[0m\u001b[0;34m,\u001b[0m \u001b[0my_train\u001b[0m\u001b[0;34m,\u001b[0m \u001b[0mscoring\u001b[0m\u001b[0;34m=\u001b[0m\u001b[0;34m'recall'\u001b[0m\u001b[0;34m,\u001b[0m \u001b[0mcv\u001b[0m\u001b[0;34m=\u001b[0m\u001b[0mcv\u001b[0m\u001b[0;34m,\u001b[0m \u001b[0mn_jobs\u001b[0m\u001b[0;34m=\u001b[0m \u001b[0;34m-\u001b[0m\u001b[0;36m1\u001b[0m\u001b[0;34m)\u001b[0m\u001b[0;34m\u001b[0m\u001b[0;34m\u001b[0m\u001b[0m\n\u001b[0m",
            "\u001b[0;32m/usr/local/lib/python3.7/dist-packages/sklearn/model_selection/_validation.py\u001b[0m in \u001b[0;36mcross_val_score\u001b[0;34m(estimator, X, y, groups, scoring, cv, n_jobs, verbose, fit_params, pre_dispatch, error_score)\u001b[0m\n\u001b[1;32m    388\u001b[0m                                 \u001b[0mfit_params\u001b[0m\u001b[0;34m=\u001b[0m\u001b[0mfit_params\u001b[0m\u001b[0;34m,\u001b[0m\u001b[0;34m\u001b[0m\u001b[0;34m\u001b[0m\u001b[0m\n\u001b[1;32m    389\u001b[0m                                 \u001b[0mpre_dispatch\u001b[0m\u001b[0;34m=\u001b[0m\u001b[0mpre_dispatch\u001b[0m\u001b[0;34m,\u001b[0m\u001b[0;34m\u001b[0m\u001b[0;34m\u001b[0m\u001b[0m\n\u001b[0;32m--> 390\u001b[0;31m                                 error_score=error_score)\n\u001b[0m\u001b[1;32m    391\u001b[0m     \u001b[0;32mreturn\u001b[0m \u001b[0mcv_results\u001b[0m\u001b[0;34m[\u001b[0m\u001b[0;34m'test_score'\u001b[0m\u001b[0;34m]\u001b[0m\u001b[0;34m\u001b[0m\u001b[0;34m\u001b[0m\u001b[0m\n\u001b[1;32m    392\u001b[0m \u001b[0;34m\u001b[0m\u001b[0m\n",
            "\u001b[0;32m/usr/local/lib/python3.7/dist-packages/sklearn/model_selection/_validation.py\u001b[0m in \u001b[0;36mcross_validate\u001b[0;34m(estimator, X, y, groups, scoring, cv, n_jobs, verbose, fit_params, pre_dispatch, return_train_score, return_estimator, error_score)\u001b[0m\n\u001b[1;32m    234\u001b[0m             \u001b[0mreturn_times\u001b[0m\u001b[0;34m=\u001b[0m\u001b[0;32mTrue\u001b[0m\u001b[0;34m,\u001b[0m \u001b[0mreturn_estimator\u001b[0m\u001b[0;34m=\u001b[0m\u001b[0mreturn_estimator\u001b[0m\u001b[0;34m,\u001b[0m\u001b[0;34m\u001b[0m\u001b[0;34m\u001b[0m\u001b[0m\n\u001b[1;32m    235\u001b[0m             error_score=error_score)\n\u001b[0;32m--> 236\u001b[0;31m         for train, test in cv.split(X, y, groups))\n\u001b[0m\u001b[1;32m    237\u001b[0m \u001b[0;34m\u001b[0m\u001b[0m\n\u001b[1;32m    238\u001b[0m     \u001b[0mzipped_scores\u001b[0m \u001b[0;34m=\u001b[0m \u001b[0mlist\u001b[0m\u001b[0;34m(\u001b[0m\u001b[0mzip\u001b[0m\u001b[0;34m(\u001b[0m\u001b[0;34m*\u001b[0m\u001b[0mscores\u001b[0m\u001b[0;34m)\u001b[0m\u001b[0;34m)\u001b[0m\u001b[0;34m\u001b[0m\u001b[0;34m\u001b[0m\u001b[0m\n",
            "\u001b[0;32m/usr/local/lib/python3.7/dist-packages/joblib/parallel.py\u001b[0m in \u001b[0;36m__call__\u001b[0;34m(self, iterable)\u001b[0m\n\u001b[1;32m   1052\u001b[0m \u001b[0;34m\u001b[0m\u001b[0m\n\u001b[1;32m   1053\u001b[0m             \u001b[0;32mwith\u001b[0m \u001b[0mself\u001b[0m\u001b[0;34m.\u001b[0m\u001b[0m_backend\u001b[0m\u001b[0;34m.\u001b[0m\u001b[0mretrieval_context\u001b[0m\u001b[0;34m(\u001b[0m\u001b[0;34m)\u001b[0m\u001b[0;34m:\u001b[0m\u001b[0;34m\u001b[0m\u001b[0;34m\u001b[0m\u001b[0m\n\u001b[0;32m-> 1054\u001b[0;31m                 \u001b[0mself\u001b[0m\u001b[0;34m.\u001b[0m\u001b[0mretrieve\u001b[0m\u001b[0;34m(\u001b[0m\u001b[0;34m)\u001b[0m\u001b[0;34m\u001b[0m\u001b[0;34m\u001b[0m\u001b[0m\n\u001b[0m\u001b[1;32m   1055\u001b[0m             \u001b[0;31m# Make sure that we get a last message telling us we are done\u001b[0m\u001b[0;34m\u001b[0m\u001b[0;34m\u001b[0m\u001b[0;34m\u001b[0m\u001b[0m\n\u001b[1;32m   1056\u001b[0m             \u001b[0melapsed_time\u001b[0m \u001b[0;34m=\u001b[0m \u001b[0mtime\u001b[0m\u001b[0;34m.\u001b[0m\u001b[0mtime\u001b[0m\u001b[0;34m(\u001b[0m\u001b[0;34m)\u001b[0m \u001b[0;34m-\u001b[0m \u001b[0mself\u001b[0m\u001b[0;34m.\u001b[0m\u001b[0m_start_time\u001b[0m\u001b[0;34m\u001b[0m\u001b[0;34m\u001b[0m\u001b[0m\n",
            "\u001b[0;32m/usr/local/lib/python3.7/dist-packages/joblib/parallel.py\u001b[0m in \u001b[0;36mretrieve\u001b[0;34m(self)\u001b[0m\n\u001b[1;32m    931\u001b[0m             \u001b[0;32mtry\u001b[0m\u001b[0;34m:\u001b[0m\u001b[0;34m\u001b[0m\u001b[0;34m\u001b[0m\u001b[0m\n\u001b[1;32m    932\u001b[0m                 \u001b[0;32mif\u001b[0m \u001b[0mgetattr\u001b[0m\u001b[0;34m(\u001b[0m\u001b[0mself\u001b[0m\u001b[0;34m.\u001b[0m\u001b[0m_backend\u001b[0m\u001b[0;34m,\u001b[0m \u001b[0;34m'supports_timeout'\u001b[0m\u001b[0;34m,\u001b[0m \u001b[0;32mFalse\u001b[0m\u001b[0;34m)\u001b[0m\u001b[0;34m:\u001b[0m\u001b[0;34m\u001b[0m\u001b[0;34m\u001b[0m\u001b[0m\n\u001b[0;32m--> 933\u001b[0;31m                     \u001b[0mself\u001b[0m\u001b[0;34m.\u001b[0m\u001b[0m_output\u001b[0m\u001b[0;34m.\u001b[0m\u001b[0mextend\u001b[0m\u001b[0;34m(\u001b[0m\u001b[0mjob\u001b[0m\u001b[0;34m.\u001b[0m\u001b[0mget\u001b[0m\u001b[0;34m(\u001b[0m\u001b[0mtimeout\u001b[0m\u001b[0;34m=\u001b[0m\u001b[0mself\u001b[0m\u001b[0;34m.\u001b[0m\u001b[0mtimeout\u001b[0m\u001b[0;34m)\u001b[0m\u001b[0;34m)\u001b[0m\u001b[0;34m\u001b[0m\u001b[0;34m\u001b[0m\u001b[0m\n\u001b[0m\u001b[1;32m    934\u001b[0m                 \u001b[0;32melse\u001b[0m\u001b[0;34m:\u001b[0m\u001b[0;34m\u001b[0m\u001b[0;34m\u001b[0m\u001b[0m\n\u001b[1;32m    935\u001b[0m                     \u001b[0mself\u001b[0m\u001b[0;34m.\u001b[0m\u001b[0m_output\u001b[0m\u001b[0;34m.\u001b[0m\u001b[0mextend\u001b[0m\u001b[0;34m(\u001b[0m\u001b[0mjob\u001b[0m\u001b[0;34m.\u001b[0m\u001b[0mget\u001b[0m\u001b[0;34m(\u001b[0m\u001b[0;34m)\u001b[0m\u001b[0;34m)\u001b[0m\u001b[0;34m\u001b[0m\u001b[0;34m\u001b[0m\u001b[0m\n",
            "\u001b[0;32m/usr/local/lib/python3.7/dist-packages/joblib/_parallel_backends.py\u001b[0m in \u001b[0;36mwrap_future_result\u001b[0;34m(future, timeout)\u001b[0m\n\u001b[1;32m    540\u001b[0m         AsyncResults.get from multiprocessing.\"\"\"\n\u001b[1;32m    541\u001b[0m         \u001b[0;32mtry\u001b[0m\u001b[0;34m:\u001b[0m\u001b[0;34m\u001b[0m\u001b[0;34m\u001b[0m\u001b[0m\n\u001b[0;32m--> 542\u001b[0;31m             \u001b[0;32mreturn\u001b[0m \u001b[0mfuture\u001b[0m\u001b[0;34m.\u001b[0m\u001b[0mresult\u001b[0m\u001b[0;34m(\u001b[0m\u001b[0mtimeout\u001b[0m\u001b[0;34m=\u001b[0m\u001b[0mtimeout\u001b[0m\u001b[0;34m)\u001b[0m\u001b[0;34m\u001b[0m\u001b[0;34m\u001b[0m\u001b[0m\n\u001b[0m\u001b[1;32m    543\u001b[0m         \u001b[0;32mexcept\u001b[0m \u001b[0mCfTimeoutError\u001b[0m \u001b[0;32mas\u001b[0m \u001b[0me\u001b[0m\u001b[0;34m:\u001b[0m\u001b[0;34m\u001b[0m\u001b[0;34m\u001b[0m\u001b[0m\n\u001b[1;32m    544\u001b[0m             \u001b[0;32mraise\u001b[0m \u001b[0mTimeoutError\u001b[0m \u001b[0;32mfrom\u001b[0m \u001b[0me\u001b[0m\u001b[0;34m\u001b[0m\u001b[0;34m\u001b[0m\u001b[0m\n",
            "\u001b[0;32m/usr/lib/python3.7/concurrent/futures/_base.py\u001b[0m in \u001b[0;36mresult\u001b[0;34m(self, timeout)\u001b[0m\n\u001b[1;32m    428\u001b[0m                 \u001b[0;32mreturn\u001b[0m \u001b[0mself\u001b[0m\u001b[0;34m.\u001b[0m\u001b[0m__get_result\u001b[0m\u001b[0;34m(\u001b[0m\u001b[0;34m)\u001b[0m\u001b[0;34m\u001b[0m\u001b[0;34m\u001b[0m\u001b[0m\n\u001b[1;32m    429\u001b[0m \u001b[0;34m\u001b[0m\u001b[0m\n\u001b[0;32m--> 430\u001b[0;31m             \u001b[0mself\u001b[0m\u001b[0;34m.\u001b[0m\u001b[0m_condition\u001b[0m\u001b[0;34m.\u001b[0m\u001b[0mwait\u001b[0m\u001b[0;34m(\u001b[0m\u001b[0mtimeout\u001b[0m\u001b[0;34m)\u001b[0m\u001b[0;34m\u001b[0m\u001b[0;34m\u001b[0m\u001b[0m\n\u001b[0m\u001b[1;32m    431\u001b[0m \u001b[0;34m\u001b[0m\u001b[0m\n\u001b[1;32m    432\u001b[0m             \u001b[0;32mif\u001b[0m \u001b[0mself\u001b[0m\u001b[0;34m.\u001b[0m\u001b[0m_state\u001b[0m \u001b[0;32min\u001b[0m \u001b[0;34m[\u001b[0m\u001b[0mCANCELLED\u001b[0m\u001b[0;34m,\u001b[0m \u001b[0mCANCELLED_AND_NOTIFIED\u001b[0m\u001b[0;34m]\u001b[0m\u001b[0;34m:\u001b[0m\u001b[0;34m\u001b[0m\u001b[0;34m\u001b[0m\u001b[0m\n",
            "\u001b[0;32m/usr/lib/python3.7/threading.py\u001b[0m in \u001b[0;36mwait\u001b[0;34m(self, timeout)\u001b[0m\n\u001b[1;32m    294\u001b[0m         \u001b[0;32mtry\u001b[0m\u001b[0;34m:\u001b[0m    \u001b[0;31m# restore state no matter what (e.g., KeyboardInterrupt)\u001b[0m\u001b[0;34m\u001b[0m\u001b[0;34m\u001b[0m\u001b[0m\n\u001b[1;32m    295\u001b[0m             \u001b[0;32mif\u001b[0m \u001b[0mtimeout\u001b[0m \u001b[0;32mis\u001b[0m \u001b[0;32mNone\u001b[0m\u001b[0;34m:\u001b[0m\u001b[0;34m\u001b[0m\u001b[0;34m\u001b[0m\u001b[0m\n\u001b[0;32m--> 296\u001b[0;31m                 \u001b[0mwaiter\u001b[0m\u001b[0;34m.\u001b[0m\u001b[0macquire\u001b[0m\u001b[0;34m(\u001b[0m\u001b[0;34m)\u001b[0m\u001b[0;34m\u001b[0m\u001b[0;34m\u001b[0m\u001b[0m\n\u001b[0m\u001b[1;32m    297\u001b[0m                 \u001b[0mgotit\u001b[0m \u001b[0;34m=\u001b[0m \u001b[0;32mTrue\u001b[0m\u001b[0;34m\u001b[0m\u001b[0;34m\u001b[0m\u001b[0m\n\u001b[1;32m    298\u001b[0m             \u001b[0;32melse\u001b[0m\u001b[0;34m:\u001b[0m\u001b[0;34m\u001b[0m\u001b[0;34m\u001b[0m\u001b[0m\n",
            "\u001b[0;31mKeyboardInterrupt\u001b[0m: "
          ]
        }
      ]
    },
    {
      "cell_type": "code",
      "metadata": {
        "id": "AfQ2dHhPzaan",
        "colab": {
          "base_uri": "https://localhost:8080/",
          "height": 306
        },
        "outputId": "0da9e5c2-bb63-4228-a466-f186070647cd"
      },
      "source": [
        "scores = cross_val_score(pipeline, X_train_scaled_df, y_train, scoring='recall', cv=cv, n_jobs= -1)"
      ],
      "execution_count": null,
      "outputs": [
        {
          "output_type": "error",
          "ename": "KeyboardInterrupt",
          "evalue": "ignored",
          "traceback": [
            "\u001b[0;31m---------------------------------------------------------------------------\u001b[0m",
            "\u001b[0;31mKeyboardInterrupt\u001b[0m                         Traceback (most recent call last)",
            "\u001b[0;32m<ipython-input-18-3b5270d89670>\u001b[0m in \u001b[0;36m<module>\u001b[0;34m()\u001b[0m\n\u001b[0;32m----> 1\u001b[0;31m \u001b[0mscores\u001b[0m \u001b[0;34m=\u001b[0m \u001b[0mcross_val_score\u001b[0m\u001b[0;34m(\u001b[0m\u001b[0mpipeline\u001b[0m\u001b[0;34m,\u001b[0m \u001b[0mX_train_scaled_df\u001b[0m\u001b[0;34m,\u001b[0m \u001b[0my_train\u001b[0m\u001b[0;34m,\u001b[0m \u001b[0mscoring\u001b[0m\u001b[0;34m=\u001b[0m\u001b[0;34m'recall'\u001b[0m\u001b[0;34m,\u001b[0m \u001b[0mcv\u001b[0m\u001b[0;34m=\u001b[0m\u001b[0mcv\u001b[0m\u001b[0;34m,\u001b[0m \u001b[0mn_jobs\u001b[0m\u001b[0;34m=\u001b[0m \u001b[0;34m-\u001b[0m\u001b[0;36m1\u001b[0m\u001b[0;34m)\u001b[0m\u001b[0;34m\u001b[0m\u001b[0;34m\u001b[0m\u001b[0m\n\u001b[0m",
            "\u001b[0;32m/usr/local/lib/python3.7/dist-packages/sklearn/model_selection/_validation.py\u001b[0m in \u001b[0;36mcross_val_score\u001b[0;34m(estimator, X, y, groups, scoring, cv, n_jobs, verbose, fit_params, pre_dispatch, error_score)\u001b[0m\n\u001b[1;32m    388\u001b[0m                                 \u001b[0mfit_params\u001b[0m\u001b[0;34m=\u001b[0m\u001b[0mfit_params\u001b[0m\u001b[0;34m,\u001b[0m\u001b[0;34m\u001b[0m\u001b[0;34m\u001b[0m\u001b[0m\n\u001b[1;32m    389\u001b[0m                                 \u001b[0mpre_dispatch\u001b[0m\u001b[0;34m=\u001b[0m\u001b[0mpre_dispatch\u001b[0m\u001b[0;34m,\u001b[0m\u001b[0;34m\u001b[0m\u001b[0;34m\u001b[0m\u001b[0m\n\u001b[0;32m--> 390\u001b[0;31m                                 error_score=error_score)\n\u001b[0m\u001b[1;32m    391\u001b[0m     \u001b[0;32mreturn\u001b[0m \u001b[0mcv_results\u001b[0m\u001b[0;34m[\u001b[0m\u001b[0;34m'test_score'\u001b[0m\u001b[0;34m]\u001b[0m\u001b[0;34m\u001b[0m\u001b[0;34m\u001b[0m\u001b[0m\n\u001b[1;32m    392\u001b[0m \u001b[0;34m\u001b[0m\u001b[0m\n",
            "\u001b[0;32m/usr/local/lib/python3.7/dist-packages/sklearn/model_selection/_validation.py\u001b[0m in \u001b[0;36mcross_validate\u001b[0;34m(estimator, X, y, groups, scoring, cv, n_jobs, verbose, fit_params, pre_dispatch, return_train_score, return_estimator, error_score)\u001b[0m\n\u001b[1;32m    234\u001b[0m             \u001b[0mreturn_times\u001b[0m\u001b[0;34m=\u001b[0m\u001b[0;32mTrue\u001b[0m\u001b[0;34m,\u001b[0m \u001b[0mreturn_estimator\u001b[0m\u001b[0;34m=\u001b[0m\u001b[0mreturn_estimator\u001b[0m\u001b[0;34m,\u001b[0m\u001b[0;34m\u001b[0m\u001b[0;34m\u001b[0m\u001b[0m\n\u001b[1;32m    235\u001b[0m             error_score=error_score)\n\u001b[0;32m--> 236\u001b[0;31m         for train, test in cv.split(X, y, groups))\n\u001b[0m\u001b[1;32m    237\u001b[0m \u001b[0;34m\u001b[0m\u001b[0m\n\u001b[1;32m    238\u001b[0m     \u001b[0mzipped_scores\u001b[0m \u001b[0;34m=\u001b[0m \u001b[0mlist\u001b[0m\u001b[0;34m(\u001b[0m\u001b[0mzip\u001b[0m\u001b[0;34m(\u001b[0m\u001b[0;34m*\u001b[0m\u001b[0mscores\u001b[0m\u001b[0;34m)\u001b[0m\u001b[0;34m)\u001b[0m\u001b[0;34m\u001b[0m\u001b[0;34m\u001b[0m\u001b[0m\n",
            "\u001b[0;32m/usr/local/lib/python3.7/dist-packages/joblib/parallel.py\u001b[0m in \u001b[0;36m__call__\u001b[0;34m(self, iterable)\u001b[0m\n\u001b[1;32m   1052\u001b[0m \u001b[0;34m\u001b[0m\u001b[0m\n\u001b[1;32m   1053\u001b[0m             \u001b[0;32mwith\u001b[0m \u001b[0mself\u001b[0m\u001b[0;34m.\u001b[0m\u001b[0m_backend\u001b[0m\u001b[0;34m.\u001b[0m\u001b[0mretrieval_context\u001b[0m\u001b[0;34m(\u001b[0m\u001b[0;34m)\u001b[0m\u001b[0;34m:\u001b[0m\u001b[0;34m\u001b[0m\u001b[0;34m\u001b[0m\u001b[0m\n\u001b[0;32m-> 1054\u001b[0;31m                 \u001b[0mself\u001b[0m\u001b[0;34m.\u001b[0m\u001b[0mretrieve\u001b[0m\u001b[0;34m(\u001b[0m\u001b[0;34m)\u001b[0m\u001b[0;34m\u001b[0m\u001b[0;34m\u001b[0m\u001b[0m\n\u001b[0m\u001b[1;32m   1055\u001b[0m             \u001b[0;31m# Make sure that we get a last message telling us we are done\u001b[0m\u001b[0;34m\u001b[0m\u001b[0;34m\u001b[0m\u001b[0;34m\u001b[0m\u001b[0m\n\u001b[1;32m   1056\u001b[0m             \u001b[0melapsed_time\u001b[0m \u001b[0;34m=\u001b[0m \u001b[0mtime\u001b[0m\u001b[0;34m.\u001b[0m\u001b[0mtime\u001b[0m\u001b[0;34m(\u001b[0m\u001b[0;34m)\u001b[0m \u001b[0;34m-\u001b[0m \u001b[0mself\u001b[0m\u001b[0;34m.\u001b[0m\u001b[0m_start_time\u001b[0m\u001b[0;34m\u001b[0m\u001b[0;34m\u001b[0m\u001b[0m\n",
            "\u001b[0;32m/usr/local/lib/python3.7/dist-packages/joblib/parallel.py\u001b[0m in \u001b[0;36mretrieve\u001b[0;34m(self)\u001b[0m\n\u001b[1;32m    931\u001b[0m             \u001b[0;32mtry\u001b[0m\u001b[0;34m:\u001b[0m\u001b[0;34m\u001b[0m\u001b[0;34m\u001b[0m\u001b[0m\n\u001b[1;32m    932\u001b[0m                 \u001b[0;32mif\u001b[0m \u001b[0mgetattr\u001b[0m\u001b[0;34m(\u001b[0m\u001b[0mself\u001b[0m\u001b[0;34m.\u001b[0m\u001b[0m_backend\u001b[0m\u001b[0;34m,\u001b[0m \u001b[0;34m'supports_timeout'\u001b[0m\u001b[0;34m,\u001b[0m \u001b[0;32mFalse\u001b[0m\u001b[0;34m)\u001b[0m\u001b[0;34m:\u001b[0m\u001b[0;34m\u001b[0m\u001b[0;34m\u001b[0m\u001b[0m\n\u001b[0;32m--> 933\u001b[0;31m                     \u001b[0mself\u001b[0m\u001b[0;34m.\u001b[0m\u001b[0m_output\u001b[0m\u001b[0;34m.\u001b[0m\u001b[0mextend\u001b[0m\u001b[0;34m(\u001b[0m\u001b[0mjob\u001b[0m\u001b[0;34m.\u001b[0m\u001b[0mget\u001b[0m\u001b[0;34m(\u001b[0m\u001b[0mtimeout\u001b[0m\u001b[0;34m=\u001b[0m\u001b[0mself\u001b[0m\u001b[0;34m.\u001b[0m\u001b[0mtimeout\u001b[0m\u001b[0;34m)\u001b[0m\u001b[0;34m)\u001b[0m\u001b[0;34m\u001b[0m\u001b[0;34m\u001b[0m\u001b[0m\n\u001b[0m\u001b[1;32m    934\u001b[0m                 \u001b[0;32melse\u001b[0m\u001b[0;34m:\u001b[0m\u001b[0;34m\u001b[0m\u001b[0;34m\u001b[0m\u001b[0m\n\u001b[1;32m    935\u001b[0m                     \u001b[0mself\u001b[0m\u001b[0;34m.\u001b[0m\u001b[0m_output\u001b[0m\u001b[0;34m.\u001b[0m\u001b[0mextend\u001b[0m\u001b[0;34m(\u001b[0m\u001b[0mjob\u001b[0m\u001b[0;34m.\u001b[0m\u001b[0mget\u001b[0m\u001b[0;34m(\u001b[0m\u001b[0;34m)\u001b[0m\u001b[0;34m)\u001b[0m\u001b[0;34m\u001b[0m\u001b[0;34m\u001b[0m\u001b[0m\n",
            "\u001b[0;32m/usr/local/lib/python3.7/dist-packages/joblib/_parallel_backends.py\u001b[0m in \u001b[0;36mwrap_future_result\u001b[0;34m(future, timeout)\u001b[0m\n\u001b[1;32m    540\u001b[0m         AsyncResults.get from multiprocessing.\"\"\"\n\u001b[1;32m    541\u001b[0m         \u001b[0;32mtry\u001b[0m\u001b[0;34m:\u001b[0m\u001b[0;34m\u001b[0m\u001b[0;34m\u001b[0m\u001b[0m\n\u001b[0;32m--> 542\u001b[0;31m             \u001b[0;32mreturn\u001b[0m \u001b[0mfuture\u001b[0m\u001b[0;34m.\u001b[0m\u001b[0mresult\u001b[0m\u001b[0;34m(\u001b[0m\u001b[0mtimeout\u001b[0m\u001b[0;34m=\u001b[0m\u001b[0mtimeout\u001b[0m\u001b[0;34m)\u001b[0m\u001b[0;34m\u001b[0m\u001b[0;34m\u001b[0m\u001b[0m\n\u001b[0m\u001b[1;32m    543\u001b[0m         \u001b[0;32mexcept\u001b[0m \u001b[0mCfTimeoutError\u001b[0m \u001b[0;32mas\u001b[0m \u001b[0me\u001b[0m\u001b[0;34m:\u001b[0m\u001b[0;34m\u001b[0m\u001b[0;34m\u001b[0m\u001b[0m\n\u001b[1;32m    544\u001b[0m             \u001b[0;32mraise\u001b[0m \u001b[0mTimeoutError\u001b[0m \u001b[0;32mfrom\u001b[0m \u001b[0me\u001b[0m\u001b[0;34m\u001b[0m\u001b[0;34m\u001b[0m\u001b[0m\n",
            "\u001b[0;32m/usr/lib/python3.7/concurrent/futures/_base.py\u001b[0m in \u001b[0;36mresult\u001b[0;34m(self, timeout)\u001b[0m\n\u001b[1;32m    428\u001b[0m                 \u001b[0;32mreturn\u001b[0m \u001b[0mself\u001b[0m\u001b[0;34m.\u001b[0m\u001b[0m__get_result\u001b[0m\u001b[0;34m(\u001b[0m\u001b[0;34m)\u001b[0m\u001b[0;34m\u001b[0m\u001b[0;34m\u001b[0m\u001b[0m\n\u001b[1;32m    429\u001b[0m \u001b[0;34m\u001b[0m\u001b[0m\n\u001b[0;32m--> 430\u001b[0;31m             \u001b[0mself\u001b[0m\u001b[0;34m.\u001b[0m\u001b[0m_condition\u001b[0m\u001b[0;34m.\u001b[0m\u001b[0mwait\u001b[0m\u001b[0;34m(\u001b[0m\u001b[0mtimeout\u001b[0m\u001b[0;34m)\u001b[0m\u001b[0;34m\u001b[0m\u001b[0;34m\u001b[0m\u001b[0m\n\u001b[0m\u001b[1;32m    431\u001b[0m \u001b[0;34m\u001b[0m\u001b[0m\n\u001b[1;32m    432\u001b[0m             \u001b[0;32mif\u001b[0m \u001b[0mself\u001b[0m\u001b[0;34m.\u001b[0m\u001b[0m_state\u001b[0m \u001b[0;32min\u001b[0m \u001b[0;34m[\u001b[0m\u001b[0mCANCELLED\u001b[0m\u001b[0;34m,\u001b[0m \u001b[0mCANCELLED_AND_NOTIFIED\u001b[0m\u001b[0;34m]\u001b[0m\u001b[0;34m:\u001b[0m\u001b[0;34m\u001b[0m\u001b[0;34m\u001b[0m\u001b[0m\n",
            "\u001b[0;32m/usr/lib/python3.7/threading.py\u001b[0m in \u001b[0;36mwait\u001b[0;34m(self, timeout)\u001b[0m\n\u001b[1;32m    294\u001b[0m         \u001b[0;32mtry\u001b[0m\u001b[0;34m:\u001b[0m    \u001b[0;31m# restore state no matter what (e.g., KeyboardInterrupt)\u001b[0m\u001b[0;34m\u001b[0m\u001b[0;34m\u001b[0m\u001b[0m\n\u001b[1;32m    295\u001b[0m             \u001b[0;32mif\u001b[0m \u001b[0mtimeout\u001b[0m \u001b[0;32mis\u001b[0m \u001b[0;32mNone\u001b[0m\u001b[0;34m:\u001b[0m\u001b[0;34m\u001b[0m\u001b[0;34m\u001b[0m\u001b[0m\n\u001b[0;32m--> 296\u001b[0;31m                 \u001b[0mwaiter\u001b[0m\u001b[0;34m.\u001b[0m\u001b[0macquire\u001b[0m\u001b[0;34m(\u001b[0m\u001b[0;34m)\u001b[0m\u001b[0;34m\u001b[0m\u001b[0;34m\u001b[0m\u001b[0m\n\u001b[0m\u001b[1;32m    297\u001b[0m                 \u001b[0mgotit\u001b[0m \u001b[0;34m=\u001b[0m \u001b[0;32mTrue\u001b[0m\u001b[0;34m\u001b[0m\u001b[0;34m\u001b[0m\u001b[0m\n\u001b[1;32m    298\u001b[0m             \u001b[0;32melse\u001b[0m\u001b[0;34m:\u001b[0m\u001b[0;34m\u001b[0m\u001b[0;34m\u001b[0m\u001b[0m\n",
            "\u001b[0;31mKeyboardInterrupt\u001b[0m: "
          ]
        }
      ]
    },
    {
      "cell_type": "code",
      "metadata": {
        "id": "a9FVd91LzqsW",
        "colab": {
          "base_uri": "https://localhost:8080/"
        },
        "outputId": "aad7dbcf-b463-41be-81ed-b7abda0d1dae"
      },
      "source": [
        "over = SMOTE(sampling_strategy = 0.01)\n",
        "under = RandomUnderSampler(sampling_strategy = 0.1)\n",
        "steps = [('o', over), ('u', under)]\n",
        "pipeline = Pipeline(steps=steps)\n",
        "\n",
        "\n",
        "X_sampled, y_sampled = pipeline.fit_resample(X_train_scaled_df, y_train)"
      ],
      "execution_count": null,
      "outputs": [
        {
          "output_type": "stream",
          "text": [
            "/usr/local/lib/python3.7/dist-packages/sklearn/utils/validation.py:760: DataConversionWarning: A column-vector y was passed when a 1d array was expected. Please change the shape of y to (n_samples, ), for example using ravel().\n",
            "  y = column_or_1d(y, warn=True)\n",
            "/usr/local/lib/python3.7/dist-packages/sklearn/utils/deprecation.py:87: FutureWarning: Function safe_indexing is deprecated; safe_indexing is deprecated in version 0.22 and will be removed in version 0.24.\n",
            "  warnings.warn(msg, category=FutureWarning)\n",
            "/usr/local/lib/python3.7/dist-packages/sklearn/utils/deprecation.py:87: FutureWarning: Function safe_indexing is deprecated; safe_indexing is deprecated in version 0.22 and will be removed in version 0.24.\n",
            "  warnings.warn(msg, category=FutureWarning)\n"
          ],
          "name": "stderr"
        }
      ]
    },
    {
      "cell_type": "code",
      "metadata": {
        "id": "tYmwx16-9yi3",
        "colab": {
          "base_uri": "https://localhost:8080/"
        },
        "outputId": "88fb3cc6-557c-458d-eb45-9de049bc3473"
      },
      "source": [
        "undersample = RandomUnderSampler(sampling_strategy = 0.1)\n",
        "X_train_under, y_train_under = undersample.fit_resample(X_train_scaled_df, y_train)"
      ],
      "execution_count": null,
      "outputs": [
        {
          "output_type": "stream",
          "text": [
            "/usr/local/lib/python3.7/dist-packages/sklearn/utils/deprecation.py:87: FutureWarning: Function safe_indexing is deprecated; safe_indexing is deprecated in version 0.22 and will be removed in version 0.24.\n",
            "  warnings.warn(msg, category=FutureWarning)\n"
          ],
          "name": "stderr"
        }
      ]
    },
    {
      "cell_type": "code",
      "metadata": {
        "id": "HjaL1tql8TUG",
        "colab": {
          "base_uri": "https://localhost:8080/"
        },
        "outputId": "68298b80-8643-41a4-b446-59c954dae149"
      },
      "source": [
        "df = pd.DataFrame(y_train_under, columns=[\"is_fraud\"])\n",
        "\n",
        "print(Counter(df[\"is_fraud\"]))\n",
        "\n"
      ],
      "execution_count": null,
      "outputs": [
        {
          "output_type": "stream",
          "text": [
            "Counter({0: 75060, 1: 7506})\n"
          ],
          "name": "stdout"
        }
      ]
    },
    {
      "cell_type": "code",
      "metadata": {
        "id": "NvsgIZxez873",
        "colab": {
          "base_uri": "https://localhost:8080/"
        },
        "outputId": "42f25972-d247-4efe-b66d-84f06fc795d6"
      },
      "source": [
        "df = pd.DataFrame(y_sampled)\n",
        "df.head()\n",
        "#g = sns.countplot(df.iloc[0])\n",
        "#g.set_xticklabels(['Not Fraud','Fraud'])\n",
        "#plt.show()\n",
        "\n",
        "from collections import Counter\n",
        "\n",
        "counter = Counter(y_sampled)\n",
        "print(counter)"
      ],
      "execution_count": null,
      "outputs": [
        {
          "output_type": "stream",
          "text": [
            "Counter({0: 429720, 1: 128916})\n"
          ],
          "name": "stdout"
        }
      ]
    },
    {
      "cell_type": "code",
      "metadata": {
        "id": "5uFxk-kj09U_",
        "colab": {
          "base_uri": "https://localhost:8080/"
        },
        "outputId": "8da24cc2-1bee-46a4-b175-c9b2103f2518"
      },
      "source": [
        "tree = DecisionTreeClassifier(random_state=0)\n",
        "tree.fit(X_train_scaled_df[-300000:], y_train[-300000:])\n",
        "\n"
      ],
      "execution_count": null,
      "outputs": [
        {
          "output_type": "execute_result",
          "data": {
            "text/plain": [
              "DecisionTreeClassifier(ccp_alpha=0.0, class_weight=None, criterion='gini',\n",
              "                       max_depth=None, max_features=None, max_leaf_nodes=None,\n",
              "                       min_impurity_decrease=0.0, min_impurity_split=None,\n",
              "                       min_samples_leaf=1, min_samples_split=2,\n",
              "                       min_weight_fraction_leaf=0.0, presort='deprecated',\n",
              "                       random_state=0, splitter='best')"
            ]
          },
          "metadata": {
            "tags": []
          },
          "execution_count": 98
        }
      ]
    },
    {
      "cell_type": "code",
      "metadata": {
        "id": "iRuven7G2A4J",
        "colab": {
          "base_uri": "https://localhost:8080/"
        },
        "outputId": "4877220f-8fcd-41f0-afa7-af546cf62b88"
      },
      "source": [
        "from sklearn.metrics import classification_report\n",
        "\n",
        "pred = tree.predict(X_test_scaled_df)\n",
        "print(classification_report(y_test, pred))"
      ],
      "execution_count": null,
      "outputs": [
        {
          "output_type": "stream",
          "text": [
            "              precision    recall  f1-score   support\n",
            "\n",
            "           0       1.00      1.00      1.00    553574\n",
            "           1       0.41      0.73      0.52      2145\n",
            "\n",
            "    accuracy                           0.99    555719\n",
            "   macro avg       0.70      0.86      0.76    555719\n",
            "weighted avg       1.00      0.99      1.00    555719\n",
            "\n"
          ],
          "name": "stdout"
        }
      ]
    },
    {
      "cell_type": "code",
      "metadata": {
        "id": "f6u5IYlw--BW",
        "colab": {
          "base_uri": "https://localhost:8080/"
        },
        "outputId": "1ec3ba2a-33ed-42b1-b440-355b77018565"
      },
      "source": [
        "from sklearn.ensemble import AdaBoostClassifier\n",
        "\n",
        "ada = AdaBoostClassifier()\n",
        "ada.fit(X_train_under, y_train_under)\n",
        "\n",
        "predictions = ada.predict(X_test_scaled_df)\n",
        "\n",
        "f1 = f1_score(y_test, predictions)\n",
        "tn, fp, fn, tp = confusion_matrix(y_test, predictions).ravel()\n",
        "\n",
        "recall = tp / (tp + fn)\n",
        "specificity = tn / (fp + tn)\n",
        "precision = tp / (tp + fp)\n",
        "accuracy = (tp + tn) / (tp + fp + tn + fn) \n",
        "\n",
        "print(f1)\n",
        "print(recall)\n",
        "print(specificity)\n",
        "print(precision)\n",
        "print(accuracy)\n",
        "print(confusion_matrix(y_test, predictions))"
      ],
      "execution_count": null,
      "outputs": [
        {
          "output_type": "stream",
          "text": [
            "/usr/local/lib/python3.7/dist-packages/sklearn/utils/validation.py:760: DataConversionWarning: A column-vector y was passed when a 1d array was expected. Please change the shape of y to (n_samples, ), for example using ravel().\n",
            "  y = column_or_1d(y, warn=True)\n"
          ],
          "name": "stderr"
        },
        {
          "output_type": "stream",
          "text": [
            "0.041687818547322675\n",
            "0.9571095571095571\n",
            "0.8296596299681704\n",
            "0.021307953377824367\n",
            "0.83015156940828\n",
            "[[459278  94296]\n",
            " [    92   2053]]\n"
          ],
          "name": "stdout"
        }
      ]
    },
    {
      "cell_type": "code",
      "metadata": {
        "id": "tRKb320S6EQP",
        "colab": {
          "base_uri": "https://localhost:8080/"
        },
        "outputId": "183e4899-26e6-4b60-9b22-87a309a1db7e"
      },
      "source": [
        "from sklearn.metrics import f1_score\n",
        "from sklearn.metrics import confusion_matrix\n",
        "\n",
        "f1 = f1_score(y_test, pred)\n",
        "tn, fp, fn, tp = confusion_matrix(y_test, pred).ravel()\n",
        "\n",
        "recall = tp / (tp + fn)\n",
        "specificity = tn / (fp + tn)\n",
        "precision = tp / (tp + fp)\n",
        "accuracy = (tp + tn) / (tp + fp + tn + fn) \n",
        "\n",
        "print(f1)\n",
        "print(recall)\n",
        "print(specificity)\n",
        "print(precision)\n",
        "print(accuracy)\n",
        "print(confusion_matrix(y_test, pred))"
      ],
      "execution_count": null,
      "outputs": [
        {
          "output_type": "stream",
          "text": [
            "0.009677328607196107\n",
            "0.8018648018648019\n",
            "0.36484553104011386\n",
            "0.004868039340550485\n",
            "0.3665323661778705\n",
            "[[201969 351605]\n",
            " [   425   1720]]\n"
          ],
          "name": "stdout"
        }
      ]
    },
    {
      "cell_type": "code",
      "metadata": {
        "id": "X9JIBoiHy3Bn",
        "colab": {
          "base_uri": "https://localhost:8080/"
        },
        "outputId": "136c8d69-6fe1-4d40-99f9-96f0a4c445b1"
      },
      "source": [
        "print(scores)"
      ],
      "execution_count": null,
      "outputs": [
        {
          "output_type": "stream",
          "text": [
            "[0.95597063 0.95058622 0.94785329 0.94803558 0.95075687 0.94610386\n",
            " 0.95397587 0.95656885 0.94604956 0.95556858 0.95742242 0.95598614\n",
            " 0.96007778 0.95401208 0.96205184 0.95665805 0.95924715 0.94466581\n",
            " 0.95469296 0.94657602 0.95661702 0.94852683 0.94992432 0.94668851\n",
            " 0.96328644 0.96580134 0.95469684 0.96070459 0.9533635  0.95338119]\n"
          ],
          "name": "stdout"
        }
      ]
    },
    {
      "cell_type": "code",
      "metadata": {
        "id": "tD6fvkaikySz",
        "colab": {
          "base_uri": "https://localhost:8080/"
        },
        "outputId": "afd4e699-248d-4079-d730-f01bb2d4d31a"
      },
      "source": [
        "## Perform cross validation to get preliminary best models\n",
        "from sklearn.metrics import precision_recall_curve\n",
        "from sklearn.metrics import auc\n",
        "from sklearn.model_selection import TimeSeriesSplit\n",
        "from sklearn.metrics import f1_score\n",
        "from sklearn.metrics import fbeta_score\n",
        "from sklearn.model_selection import cross_val_score\n",
        "from sklearn.linear_model import LogisticRegression\n",
        "from sklearn.metrics import confusion_matrix\n",
        "from sklearn.metrics import classification_report\n",
        "#!pip install tscv\n",
        "from tscv import GapWalkForward\n",
        "from sklearn.ensemble import AdaBoostClassifier\n",
        "from sklearn.ensemble import RandomForestClassifier\n",
        "from sklearn.tree import DecisionTreeClassifier\n",
        "from sklearn.svm import SVC\n",
        "\n",
        "def perform_cross_validation(metrics_df, model, model_name, X_training, y_training):\n",
        "  tscv = GapWalkForward(n_splits=10, gap_size=0, test_size=10000)\n",
        "\n",
        "  g_means = []\n",
        "  f1s = []\n",
        "  f2s = []\n",
        "  precisions = []\n",
        "  recalls = []\n",
        "  accuracies = []\n",
        "  errors = []\n",
        "\n",
        "  for train_index, test_index in tscv.split(X_training):\n",
        "    X_train, X_test = X_training.iloc[train_index], X_training.iloc[test_index]\n",
        "    y_train, y_test = y_training.iloc[train_index], y_training.iloc[test_index]\n",
        "\n",
        "    print(X_train.shape, X_test.shape, y_train.shape, y_test.shape)\n",
        "\n",
        "    model.fit(X_train, y_train.values.ravel())\n",
        "    predictions = model.predict(X_test)\n",
        "\n",
        "    f1 = f1_score(y_test, predictions)\n",
        "    f2 = fbeta_score(y_test, predictions, beta=2)\n",
        "\n",
        "    # print(confusion_matrix(y_test, predictions))\n",
        "    # print(classification_report(y_test, predictions))\n",
        "\n",
        "    tn, fp, fn, tp = confusion_matrix(y_test, predictions).ravel()\n",
        "\n",
        "    recall = tp / (tp + fn)\n",
        "    specificity = tn / (fp + tn)\n",
        "    precision = tp / (tp + fp)\n",
        "    accuracy = (tp + tn) / (tp + fp + tn + fn)\n",
        "\n",
        "    g_mean = np.sqrt(recall * specificity)\n",
        "\n",
        "    f1s.append(f1)\n",
        "    f2s.append(f2)\n",
        "    g_means.append(g_mean)\n",
        "    recalls.append(recall)\n",
        "    precisions.append(precision)\n",
        "    accuracies.append(accuracy)\n",
        "    errors.append(1- accuracy)\n",
        "  \n",
        "  print(f1s, f2s, g_means, precisions, recalls)\n",
        "  metrics_df.loc[model_name] = [np.mean(f1s), np.mean(f2s), np.mean(g_means), np.mean(recalls), np.mean(precisions), np.mean(accuracies), np.mean(errors)]\n",
        "\n",
        "  return model, metrics_df\n",
        "\n",
        "def compare_models(models, model_names, X_training, y_training, X_testing, y_testing):\n",
        "  cross_validation_model_scores = pd.DataFrame(data=None, columns = [\"Model Name\", \"F1-Score\", \"F2-Score\", \"G-Mean\", \"Recall for 1\", \"Precision for 1\", \"Accuracy\", \"Error\"])\n",
        "  cross_validation_model_scores.set_index('Model Name', inplace=True)\n",
        "  for i in range(len(models)):\n",
        "    model, cross_validation_model_scores = perform_cross_validation(cross_validation_model_scores, models[i], model_names[i], X_training, y_training)\n",
        "    predictions = model.predict(X_testing)\n",
        "    print(confusion_matrix(y_testing, predictions))\n",
        "    print(classification_report(y_testing, predictions))\n",
        "    f1 = f1_score(y_testing, predictions)\n",
        "    tn, fp, fn, tp = confusion_matrix(y_testing, predictions).ravel()\n",
        "\n",
        "    recall = tp / (tp + fn)\n",
        "    specificity = tn / (fp + tn)\n",
        "    precision = tp / (tp + fp)\n",
        "    accuracy = (tp + tn) / (tp + fp + tn + fn)\n",
        "    error = 1 - accuracy\n",
        "    print(\"F1: \", f1)\n",
        "    print(\"Recall: \", recall)\n",
        "    print(\"Specificity: \", specificity)\n",
        "    print(\"Precision: \", precision)\n",
        "    print(\"Accuracy: \", accuracy)\n",
        "    print(\"Error: \", error)\n",
        "  return cross_validation_model_scores\n",
        "\n",
        "model_names = [\"LogRegression\", \"LDA\", \"Naive Bayes\", \"Decision Trees\", \"kNN\", \"SVM\", \"Random Forest\", \"XGBoost\", \"AdaBoost\"]\n",
        "some_model_names = [\"LogReg\", \"Random Forest\", \"AdaBoost\", \"Decision Trees\", \"SVC\"]\n",
        "some_models = [LogisticRegression(random_state=0, max_iter=2000), RandomForestClassifier(random_state=0), AdaBoostClassifier(random_state=0), DecisionTreeClassifier(random_state=0), SVC(random_state=0)]\n",
        "\n",
        "other_names = [\"kNN\", \"Naive Bayes\"]\n",
        "from sklearn.discriminant_analysis import LinearDiscriminantAnalysis\n",
        "from sklearn.neighbors import KNeighborsClassifier\n",
        "from sklearn.naive_bayes import GaussianNB\n",
        "import xgboost as xg\n",
        "other_models = [KNeighborsClassifier(), GaussianNB()]\n",
        "\n",
        "\n",
        "compare_models(other_models, other_names, X_train_scaled_df.tail(300000), y_train.tail(300000), X_test_scaled_df.head(100000), y_test.head(100000))"
      ],
      "execution_count": null,
      "outputs": [
        {
          "output_type": "stream",
          "text": [
            "(200000, 34) (10000, 34) (200000, 1) (10000, 1)\n",
            "(210000, 34) (10000, 34) (210000, 1) (10000, 1)\n",
            "(220000, 34) (10000, 34) (220000, 1) (10000, 1)\n",
            "(230000, 34) (10000, 34) (230000, 1) (10000, 1)\n",
            "(240000, 34) (10000, 34) (240000, 1) (10000, 1)\n",
            "(250000, 34) (10000, 34) (250000, 1) (10000, 1)\n",
            "(260000, 34) (10000, 34) (260000, 1) (10000, 1)\n",
            "(270000, 34) (10000, 34) (270000, 1) (10000, 1)\n",
            "(280000, 34) (10000, 34) (280000, 1) (10000, 1)\n"
          ],
          "name": "stdout"
        }
      ]
    },
    {
      "cell_type": "code",
      "metadata": {
        "id": "P8fWLi6ne2AG",
        "colab": {
          "base_uri": "https://localhost:8080/"
        },
        "outputId": "35eb41e8-d46c-4d44-d2ef-04c4213ccc12"
      },
      "source": [
        ""
      ],
      "execution_count": null,
      "outputs": [
        {
          "output_type": "stream",
          "text": [
            "/usr/local/lib/python3.7/dist-packages/sklearn/utils/validation.py:760: DataConversionWarning: A column-vector y was passed when a 1d array was expected. Please change the shape of y to (n_samples, ), for example using ravel().\n",
            "  y = column_or_1d(y, warn=True)\n"
          ],
          "name": "stderr"
        },
        {
          "output_type": "stream",
          "text": [
            "ROC AUC score for undersampled data:  0.5640515583681343\n"
          ],
          "name": "stdout"
        }
      ]
    },
    {
      "cell_type": "code",
      "metadata": {
        "id": "PGfaV9Xf-fxK"
      },
      "source": [
        ""
      ],
      "execution_count": null,
      "outputs": []
    },
    {
      "cell_type": "code",
      "metadata": {
        "colab": {
          "base_uri": "https://localhost:8080/"
        },
        "id": "rbyFxK487i0f",
        "outputId": "3057169c-326a-431a-b1b5-5c87d24e5302"
      },
      "source": [
        "from sklearn.metrics import confusion_matrix, classification_report\n",
        "\n",
        "print(confusion_matrix(y_test.iloc[0:50000], pred_under))\n",
        "print(classification_report(y_test.iloc[0:50000], pred_under))\n",
        "print(\"--------------------------------------------------------\")\n",
        "print(confusion_matrix(y_train.iloc[0:50000], pred_train))\n",
        "print(classification_report(y_train.iloc[0:50000], pred_train))"
      ],
      "execution_count": null,
      "outputs": [
        {
          "output_type": "stream",
          "text": [
            "[[49674   127]\n",
            " [  173    26]]\n",
            "              precision    recall  f1-score   support\n",
            "\n",
            "           0       1.00      1.00      1.00     49801\n",
            "           1       0.17      0.13      0.15       199\n",
            "\n",
            "    accuracy                           0.99     50000\n",
            "   macro avg       0.58      0.56      0.57     50000\n",
            "weighted avg       0.99      0.99      0.99     50000\n",
            "\n",
            "--------------------------------------------------------\n",
            "[[47094  2458]\n",
            " [    0   448]]\n",
            "              precision    recall  f1-score   support\n",
            "\n",
            "           0       1.00      0.95      0.97     49552\n",
            "           1       0.15      1.00      0.27       448\n",
            "\n",
            "    accuracy                           0.95     50000\n",
            "   macro avg       0.58      0.98      0.62     50000\n",
            "weighted avg       0.99      0.95      0.97     50000\n",
            "\n"
          ],
          "name": "stdout"
        }
      ]
    },
    {
      "cell_type": "code",
      "metadata": {
        "id": "VcrKrbZ8_QTz",
        "colab": {
          "base_uri": "https://localhost:8080/"
        },
        "outputId": "6daa8f5b-84fa-4f7e-b4ae-001a117f9fef"
      },
      "source": [
        "\n",
        "\n",
        "ada = AdaBoostClassifier(n_estimators = 100, random_state=0)\n",
        "ada.fit(X_train_scaled_df, y_train_under)\n",
        "pred_test = ada.predict(X_test_scaled_df)\n",
        "pred_train = ada.predict(X_train_scaled_df)\n",
        "print(classification_report(y_test, pred_test))\n",
        "print(classification_report(y_train_under, pred_train))"
      ],
      "execution_count": null,
      "outputs": [
        {
          "output_type": "stream",
          "text": [
            "              precision    recall  f1-score   support\n",
            "\n",
            "           0       1.00      0.97      0.98     55381\n",
            "           1       0.07      0.78      0.13       191\n",
            "\n",
            "    accuracy                           0.97     55572\n",
            "   macro avg       0.54      0.87      0.56     55572\n",
            "weighted avg       1.00      0.97      0.98     55572\n",
            "\n",
            "              precision    recall  f1-score   support\n",
            "\n",
            "           0       0.99      0.99      0.99     75060\n",
            "           1       0.93      0.88      0.91      7506\n",
            "\n",
            "    accuracy                           0.98     82566\n",
            "   macro avg       0.96      0.94      0.95     82566\n",
            "weighted avg       0.98      0.98      0.98     82566\n",
            "\n"
          ],
          "name": "stdout"
        }
      ]
    },
    {
      "cell_type": "code",
      "metadata": {
        "colab": {
          "base_uri": "https://localhost:8080/"
        },
        "id": "jdzWEtv14XbO",
        "outputId": "6ef42b3d-a4ab-4f0c-c218-10ce1957341a"
      },
      "source": [
        "print(confusion_matrix(y_test, pred_test))"
      ],
      "execution_count": null,
      "outputs": [
        {
          "output_type": "stream",
          "text": [
            "[[53490  1891]\n",
            " [   42   149]]\n"
          ],
          "name": "stdout"
        }
      ]
    }
  ]
}